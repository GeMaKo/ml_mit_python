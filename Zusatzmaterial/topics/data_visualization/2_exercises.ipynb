{
 "cells": [
  {
   "cell_type": "markdown",
   "metadata": {},
   "source": [
    "# Exercises\n",
    "from https://www.w3resource.com/graphics/matplotlib/basic/index.php\n",
    "1. Write a Python program to draw a line using user-provided axis values with suitable label on the x-axis, y-axis and a title. Create the data yourself so the final chart looks like the following: ![viz_exercise_1](img/exercise/viz_exercise_1.png)\n",
    "2. Write a Python program to draw line charts of the financial data of Alphabet Inc. between October 3, 2016 to October 7, 2016 using the sample financial data (data/fdata.csv). The result should look similar to the following:  ![viz_exercise_2](img/exercise/viz_exercise_2.png)\n",
    "3. Change the line styles of the previous exercise to the following:\n",
    "  * Open: dashed line\n",
    "  * High: dots\n",
    "  * Low: dash dot line\n",
    "  * Close: solid line\n",
    "  The result should look like the following: ![viz_exercise_3](img/exercise/viz_exercise_3.png)\n",
    "4. Create a box plot from the financial data.\n",
    "5. Create a bar chart from the financial data. The y-axis should limited to values in between 750 and 800. Is it a good idea to limit an axis in that way? Think about consequences in the perception of the data.\n",
    "6. With the data provided below, create a chart like the following: ![viz_exercise_6](img/exercise/viz_exercise_6.png) (hint: the frequency/coherence chart on the bottom is created using the ```cohere()``` function that is documented at https://matplotlib.org/3.1.0/api/_as_gen/matplotlib.pyplot.cohere.html with the following arguments: NFFT=256, Fs=1./dt)\n",
    "7. Using the iris dataset and the bokeh library, plot the data as a scatter plot so the chart looks similar to the following (hint: use the species column for the color of the dots): ![viz_exercise_7](img/exercise/viz_exercise_7.png)\n",
    "8. Using the iris dataset and the seaborn library, plot the data using the ```seaborn.kdeplot()``` method so the chart looks like the following: ![viz_exercise_8](img/exercise/viz_exercise_8.png) (the documentation to the ```kdeplot()``` method can be found at https://seaborn.pydata.org/generated/seaborn.kdeplot.html)\n",
    "9. Create your own visualization with data that you are interested in. Look for datasets (there are plenty free datasets that you can use) and think about how to visualize it in the best way. Some websites with interesting data are for example:\n",
    "  * Mexican government data: https://datos.gob.mx/busca/dataset?res_format=CSV\n",
    "  * Datasets about Mexico: https://data.world/datasets/mexico\n",
    "  * Datasets from kaggle: https://www.kaggle.com/datasets\n",
    "    * e.g. Walmarkt Store Sales: https://www.kaggle.com/c/walmart-recruiting-store-sales-forecasting/data\n",
    "  * US census data: https://data.census.gov/cedsci/\n",
    "  * Crime in the United States by Volume and Rate per 100,000 Inhabitants, 1997–2016: https://ucr.fbi.gov/crime-in-the-u.s/2016/crime-in-the-u.s.-2016/topic-pages/tables/table-1\n",
    "  * U.S. Department of Health & Human Services: https://www.cdc.gov/datastatistics/index.html\n",
    "  * Unicef datasets: https://data.unicef.org/\n",
    "  * Airbnb data: http://insideairbnb.com/get-the-data.html\n",
    "  * Yelp dataset: https://www.yelp.com/dataset/challenge\n",
    "  * Collection of public datasets: https://github.com/awesomedata/awesome-public-datasets\n",
    "  * ...\n"
   ]
  },
  {
   "cell_type": "code",
   "execution_count": 6,
   "metadata": {},
   "outputs": [
    {
     "data": {
      "text/html": [
       "<div>\n",
       "<style scoped>\n",
       "    .dataframe tbody tr th:only-of-type {\n",
       "        vertical-align: middle;\n",
       "    }\n",
       "\n",
       "    .dataframe tbody tr th {\n",
       "        vertical-align: top;\n",
       "    }\n",
       "\n",
       "    .dataframe thead th {\n",
       "        text-align: right;\n",
       "    }\n",
       "</style>\n",
       "<table border=\"1\" class=\"dataframe\">\n",
       "  <thead>\n",
       "    <tr style=\"text-align: right;\">\n",
       "      <th></th>\n",
       "      <th>Date</th>\n",
       "      <th>Open</th>\n",
       "      <th>High</th>\n",
       "      <th>Low</th>\n",
       "      <th>Close</th>\n",
       "    </tr>\n",
       "  </thead>\n",
       "  <tbody>\n",
       "    <tr>\n",
       "      <th>0</th>\n",
       "      <td>10-03-16</td>\n",
       "      <td>774.250000</td>\n",
       "      <td>776.065002</td>\n",
       "      <td>769.500000</td>\n",
       "      <td>772.559998</td>\n",
       "    </tr>\n",
       "    <tr>\n",
       "      <th>1</th>\n",
       "      <td>10-04-16</td>\n",
       "      <td>776.030029</td>\n",
       "      <td>778.710022</td>\n",
       "      <td>772.890015</td>\n",
       "      <td>776.429993</td>\n",
       "    </tr>\n",
       "    <tr>\n",
       "      <th>2</th>\n",
       "      <td>10-05-16</td>\n",
       "      <td>779.309998</td>\n",
       "      <td>782.070007</td>\n",
       "      <td>775.650024</td>\n",
       "      <td>776.469971</td>\n",
       "    </tr>\n",
       "    <tr>\n",
       "      <th>3</th>\n",
       "      <td>10-06-16</td>\n",
       "      <td>779.000000</td>\n",
       "      <td>780.479980</td>\n",
       "      <td>775.539978</td>\n",
       "      <td>776.859985</td>\n",
       "    </tr>\n",
       "    <tr>\n",
       "      <th>4</th>\n",
       "      <td>10-07-16</td>\n",
       "      <td>779.659973</td>\n",
       "      <td>779.659973</td>\n",
       "      <td>770.750000</td>\n",
       "      <td>775.080017</td>\n",
       "    </tr>\n",
       "  </tbody>\n",
       "</table>\n",
       "</div>"
      ],
      "text/plain": [
       "       Date        Open        High         Low       Close\n",
       "0  10-03-16  774.250000  776.065002  769.500000  772.559998\n",
       "1  10-04-16  776.030029  778.710022  772.890015  776.429993\n",
       "2  10-05-16  779.309998  782.070007  775.650024  776.469971\n",
       "3  10-06-16  779.000000  780.479980  775.539978  776.859985\n",
       "4  10-07-16  779.659973  779.659973  770.750000  775.080017"
      ]
     },
     "execution_count": 6,
     "metadata": {},
     "output_type": "execute_result"
    }
   ],
   "source": [
    "# data for exercise 2-5\n",
    "import pandas as pd\n",
    "df = pd.read_csv('data/fdata.csv')\n",
    "df.head()"
   ]
  },
  {
   "cell_type": "code",
   "execution_count": 7,
   "metadata": {},
   "outputs": [
    {
     "data": {
      "text/plain": [
       "<matplotlib.axes._subplots.AxesSubplot at 0x7f8f265d5cc0>"
      ]
     },
     "execution_count": 7,
     "metadata": {},
     "output_type": "execute_result"
    },
    {
     "data": {
      "image/png": "[encoded data removed]",
      "text/plain": [
       "<Figure size 432x288 with 1 Axes>"
      ]
     },
     "metadata": {},
     "output_type": "display_data"
    }
   ],
   "source": [
    "df.plot()"
   ]
  },
  {
   "cell_type": "code",
   "execution_count": 1,
   "metadata": {},
   "outputs": [
    {
     "data": {
      "text/plain": [
       "array([ 1.04930431,  1.45388443,  1.50219112, ..., -1.98986183,\n",
       "       -1.51153048, -1.5387947 ])"
      ]
     },
     "execution_count": 1,
     "metadata": {},
     "output_type": "execute_result"
    }
   ],
   "source": [
    "# data for exercise 6\n",
    "import numpy as np\n",
    "import matplotlib.pyplot as plt\n",
    "\n",
    "# Fixing random state for reproducibility\n",
    "np.random.seed(19680801)\n",
    "\n",
    "dt = 0.01\n",
    "t = np.arange(0, 30, dt)\n",
    "nse1 = np.random.randn(len(t))                 # white noise 1\n",
    "nse2 = np.random.randn(len(t))                 # white noise 2\n",
    "\n",
    "# Two signals with a coherent part at 10Hz and a random part\n",
    "s1 = np.sin(2 * np.pi * 10 * t) + nse1\n",
    "s2 = np.sin(2 * np.pi * 10 * t) + nse2\n",
    "\n",
    "s1"
   ]
  },
  {
   "cell_type": "code",
   "execution_count": 2,
   "metadata": {},
   "outputs": [
    {
     "data": {
      "text/html": [
       "<div>\n",
       "<style scoped>\n",
       "    .dataframe tbody tr th:only-of-type {\n",
       "        vertical-align: middle;\n",
       "    }\n",
       "\n",
       "    .dataframe tbody tr th {\n",
       "        vertical-align: top;\n",
       "    }\n",
       "\n",
       "    .dataframe thead th {\n",
       "        text-align: right;\n",
       "    }\n",
       "</style>\n",
       "<table border=\"1\" class=\"dataframe\">\n",
       "  <thead>\n",
       "    <tr style=\"text-align: right;\">\n",
       "      <th></th>\n",
       "      <th>sepal_length</th>\n",
       "      <th>sepal_width</th>\n",
       "      <th>petal_length</th>\n",
       "      <th>petal_width</th>\n",
       "      <th>species</th>\n",
       "    </tr>\n",
       "  </thead>\n",
       "  <tbody>\n",
       "    <tr>\n",
       "      <th>0</th>\n",
       "      <td>5.1</td>\n",
       "      <td>3.5</td>\n",
       "      <td>1.4</td>\n",
       "      <td>0.2</td>\n",
       "      <td>setosa</td>\n",
       "    </tr>\n",
       "    <tr>\n",
       "      <th>1</th>\n",
       "      <td>4.9</td>\n",
       "      <td>3.0</td>\n",
       "      <td>1.4</td>\n",
       "      <td>0.2</td>\n",
       "      <td>setosa</td>\n",
       "    </tr>\n",
       "    <tr>\n",
       "      <th>2</th>\n",
       "      <td>4.7</td>\n",
       "      <td>3.2</td>\n",
       "      <td>1.3</td>\n",
       "      <td>0.2</td>\n",
       "      <td>setosa</td>\n",
       "    </tr>\n",
       "    <tr>\n",
       "      <th>3</th>\n",
       "      <td>4.6</td>\n",
       "      <td>3.1</td>\n",
       "      <td>1.5</td>\n",
       "      <td>0.2</td>\n",
       "      <td>setosa</td>\n",
       "    </tr>\n",
       "    <tr>\n",
       "      <th>4</th>\n",
       "      <td>5.0</td>\n",
       "      <td>3.6</td>\n",
       "      <td>1.4</td>\n",
       "      <td>0.2</td>\n",
       "      <td>setosa</td>\n",
       "    </tr>\n",
       "  </tbody>\n",
       "</table>\n",
       "</div>"
      ],
      "text/plain": [
       "   sepal_length  sepal_width  petal_length  petal_width species\n",
       "0           5.1          3.5           1.4          0.2  setosa\n",
       "1           4.9          3.0           1.4          0.2  setosa\n",
       "2           4.7          3.2           1.3          0.2  setosa\n",
       "3           4.6          3.1           1.5          0.2  setosa\n",
       "4           5.0          3.6           1.4          0.2  setosa"
      ]
     },
     "execution_count": 2,
     "metadata": {},
     "output_type": "execute_result"
    }
   ],
   "source": [
    "# data for exercise 7\n",
    "from bokeh.sampledata.iris import flowers\n",
    "flowers.head()"
   ]
  },
  {
   "cell_type": "code",
   "execution_count": 3,
   "metadata": {},
   "outputs": [
    {
     "name": "stdout",
     "output_type": "stream",
     "text": [
      "   sepal_length  sepal_width  petal_length  petal_width species\n",
      "0           5.1          3.5           1.4          0.2  setosa\n",
      "1           4.9          3.0           1.4          0.2  setosa\n",
      "2           4.7          3.2           1.3          0.2  setosa\n",
      "3           4.6          3.1           1.5          0.2  setosa\n",
      "4           5.0          3.6           1.4          0.2  setosa\n",
      "     sepal_length  sepal_width  petal_length  petal_width    species\n",
      "100           6.3          3.3           6.0          2.5  virginica\n",
      "101           5.8          2.7           5.1          1.9  virginica\n",
      "102           7.1          3.0           5.9          2.1  virginica\n",
      "103           6.3          2.9           5.6          1.8  virginica\n",
      "104           6.5          3.0           5.8          2.2  virginica\n"
     ]
    }
   ],
   "source": [
    "# data for exercise 8\n",
    "import seaborn as sns\n",
    "import matplotlib.pyplot as plt\n",
    "\n",
    "sns.set(style=\"darkgrid\")\n",
    "iris = sns.load_dataset(\"iris\")\n",
    "\n",
    "# Subset the iris dataset by species\n",
    "setosa = iris.query(\"species == 'setosa'\")\n",
    "virginica = iris.query(\"species == 'virginica'\")\n",
    "\n",
    "print(setosa.head())\n",
    "print(virginica.head())"
   ]
  }
 ],
 "metadata": {
  "kernelspec": {
   "display_name": "Python 3",
   "language": "python",
   "name": "python3"
  },
  "language_info": {
   "codemirror_mode": {
    "name": "ipython",
    "version": 3
   },
   "file_extension": ".py",
   "mimetype": "text/x-python",
   "name": "python",
   "nbconvert_exporter": "python",
   "pygments_lexer": "ipython3",
   "version": "3.6.9"
  }
 },
 "nbformat": 4,
 "nbformat_minor": 2
}

{
 "cells": [
  {
   "cell_type": "markdown",
   "metadata": {},
   "source": [
    "# Machine Learning Pipeline: Hands-on Exercise"
   ]
  },
  {
   "cell_type": "markdown",
   "metadata": {},
   "source": [
    "This [dataset](http://201.116.60.46/Datos_de_calidad_del_agua_de_5000_sitios_de_monitoreo.zip) contains different parameters used to evaluate the quality of water at different sites in México. The samples are classified with the  *traffic light* (`SEMAFORO`, in Spanish) code:  \n",
    "\n",
    "\n",
    "| SEMAFORO | DESCRIPTION                                                                                                          |\n",
    "|----------|----------------------------------------------------------------------------------------------------------------------|\n",
    "| Verde    | Excelent quality.                                                                                                    |\n",
    "| Amarillo | Water contaminated with Total Suspended Solids (SST in Spanish).                                                     |\n",
    "| Rojo     | Water contaminated with Biochemical Oxigen Demanding (DBO in Spanish) or Chemical Oxigen Demanding (DQO in Spanish). |\n",
    "| Morado   | Water sample is out of range in Total Dissolved Solids (SDT in Spanish).                                             |\n",
    "| Azul     | Water sample is within the range of Total Dissolved Solids (SDT in Spanish).                                         |\n",
    "\n",
    "This [link](https://es.wikipedia.org/wiki/Anexo:Definiciones_usuales_en_calidad_del_agua) explains (in Spanish) the parameters used to evaluate the quality of Water."
   ]
  },
  {
   "cell_type": "markdown",
   "metadata": {},
   "source": [
    "## Main objective"
   ]
  },
  {
   "cell_type": "markdown",
   "metadata": {},
   "source": [
    "Predict the quality of Water for the giving features."
   ]
  },
  {
   "cell_type": "markdown",
   "metadata": {},
   "source": [
    "---"
   ]
  },
  {
   "cell_type": "markdown",
   "metadata": {},
   "source": [
    "1. Download the [dataset](http://201.116.60.46/Datos_de_calidad_del_agua_de_5000_sitios_de_monitoreo.zip)\n",
    "2. Extract the files and load the `CSV` file `Resultados_de_calidad_del_agua_de_5000_sitios_de_monitoreo.csv` in Pandas and check that data is loaded correctly; if not, find where the problem is (*hint: check that all the columns contain the same type of data. Additional tools like LibreOffice may help you*).\n",
    "3. Mark all the empty values with `ND` (No Data/No Disponible)."
   ]
  },
  {
   "cell_type": "code",
   "execution_count": 151,
   "metadata": {},
   "outputs": [],
   "source": []
  },
  {
   "cell_type": "markdown",
   "metadata": {},
   "source": [
    "4. Replace the `ND` with `NaN`."
   ]
  },
  {
   "cell_type": "code",
   "execution_count": 152,
   "metadata": {},
   "outputs": [],
   "source": []
  },
  {
   "cell_type": "markdown",
   "metadata": {},
   "source": [
    "5. Inspect the data (head, describe, dtypes, info, ...)"
   ]
  },
  {
   "cell_type": "code",
   "execution_count": null,
   "metadata": {},
   "outputs": [],
   "source": []
  },
  {
   "cell_type": "markdown",
   "metadata": {},
   "source": [
    "6. Check that the types of the features are correct; if not, change them."
   ]
  },
  {
   "cell_type": "code",
   "execution_count": null,
   "metadata": {},
   "outputs": [],
   "source": []
  },
  {
   "cell_type": "markdown",
   "metadata": {},
   "source": [
    "7. Notice that there are geospatial features (LONGITUD, LATITUD). Plot them."
   ]
  },
  {
   "cell_type": "code",
   "execution_count": null,
   "metadata": {},
   "outputs": [],
   "source": []
  },
  {
   "cell_type": "markdown",
   "metadata": {},
   "source": [
    "8. Now, we can work with the numerical features. We can see how they are correlated (or not) with the label `SEMAFORO`. Group the samples by the final class and calculate the mean of DBO, DQO, SST and SDT for each label."
   ]
  },
  {
   "cell_type": "code",
   "execution_count": null,
   "metadata": {},
   "outputs": [],
   "source": []
  },
  {
   "cell_type": "markdown",
   "metadata": {},
   "source": [
    "9. Inspect the rest of the features. At this point, which features will you drop? Drop them, if any."
   ]
  },
  {
   "cell_type": "code",
   "execution_count": null,
   "metadata": {},
   "outputs": [],
   "source": []
  },
  {
   "cell_type": "markdown",
   "metadata": {},
   "source": [
    "10. Find how many instances we have of each class."
   ]
  },
  {
   "cell_type": "code",
   "execution_count": null,
   "metadata": {},
   "outputs": [],
   "source": []
  },
  {
   "cell_type": "markdown",
   "metadata": {},
   "source": [
    "11. Keep only the classes `Rojo`, `Amarillo` and `Verde`."
   ]
  },
  {
   "cell_type": "code",
   "execution_count": null,
   "metadata": {},
   "outputs": [],
   "source": []
  },
  {
   "cell_type": "markdown",
   "metadata": {},
   "source": [
    "12. Make a `pairplot` with the numerical features. And explain the result."
   ]
  },
  {
   "cell_type": "code",
   "execution_count": null,
   "metadata": {},
   "outputs": [],
   "source": []
  },
  {
   "cell_type": "markdown",
   "metadata": {},
   "source": [
    "13. Plot `LONGITUD`, `LATITUD` with the colors corresponding to the classes (`Rojo`='r', `Àmarillo`='y' `Verde`='g')"
   ]
  },
  {
   "cell_type": "code",
   "execution_count": null,
   "metadata": {},
   "outputs": [],
   "source": []
  },
  {
   "cell_type": "markdown",
   "metadata": {},
   "source": [
    "14. Find how many missing values are in each feature."
   ]
  },
  {
   "cell_type": "code",
   "execution_count": null,
   "metadata": {},
   "outputs": [],
   "source": []
  },
  {
   "cell_type": "markdown",
   "metadata": {},
   "source": [
    "15. Replace the missing values."
   ]
  },
  {
   "cell_type": "code",
   "execution_count": null,
   "metadata": {},
   "outputs": [],
   "source": []
  },
  {
   "cell_type": "markdown",
   "metadata": {},
   "source": [
    "16. Build the correlation matrix for numerical features."
   ]
  },
  {
   "cell_type": "code",
   "execution_count": null,
   "metadata": {},
   "outputs": [],
   "source": []
  },
  {
   "cell_type": "markdown",
   "metadata": {},
   "source": [
    "17. Transform the categorical features in categorical data types."
   ]
  },
  {
   "cell_type": "code",
   "execution_count": null,
   "metadata": {},
   "outputs": [],
   "source": []
  },
  {
   "cell_type": "markdown",
   "metadata": {},
   "source": [
    "18. Check if the classes to predict are balanced. "
   ]
  },
  {
   "cell_type": "code",
   "execution_count": null,
   "metadata": {},
   "outputs": [],
   "source": []
  },
  {
   "cell_type": "markdown",
   "metadata": {},
   "source": [
    "19. Choose and build a model to predict the `SEMAFORO` class."
   ]
  },
  {
   "cell_type": "code",
   "execution_count": null,
   "metadata": {},
   "outputs": [],
   "source": []
  },
  {
   "cell_type": "markdown",
   "metadata": {},
   "source": [
    "---"
   ]
  }
 ],
 "metadata": {
  "kernelspec": {
   "display_name": "Python 3",
   "language": "python",
   "name": "python3"
  },
  "language_info": {
   "codemirror_mode": {
    "name": "ipython",
    "version": 3
   },
   "file_extension": ".py",
   "mimetype": "text/x-python",
   "name": "python",
   "nbconvert_exporter": "python",
   "pygments_lexer": "ipython3",
   "version": "3.7.4"
  },
  "toc": {
   "base_numbering": 1,
   "nav_menu": {},
   "number_sections": true,
   "sideBar": true,
   "skip_h1_title": false,
   "title_cell": "Table of Contents",
   "title_sidebar": "Contents",
   "toc_cell": false,
   "toc_position": {},
   "toc_section_display": true,
   "toc_window_display": false
  }
 },
 "nbformat": 4,
 "nbformat_minor": 2
}

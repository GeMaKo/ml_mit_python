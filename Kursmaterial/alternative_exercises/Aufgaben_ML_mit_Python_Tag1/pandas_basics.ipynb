{
 "cells": [
  {
   "cell_type": "markdown",
   "metadata": {},
   "source": [
    "# Pandas Basics"
   ]
  },
  {
   "cell_type": "markdown",
   "id": "2cee2e01-da51-4d9d-83a7-b7d480ba7f2e",
   "metadata": {},
   "source": [
    "### 1. First import pandas as pd and (to download our dataset) also seaborn as sns"
   ]
  },
  {
   "cell_type": "code",
   "execution_count": null,
   "metadata": {},
   "outputs": [],
   "source": []
  },
  {
   "cell_type": "markdown",
   "id": "dc97f2ef-be2d-4919-ac60-498057e3a516",
   "metadata": {},
   "source": [
    "### 2. Use the `load_dataset` function of seaborn to load the 'car_crashes' dataset and assign it to a variable `crash_df`. Whenever you feel like you need help, try to use the help function. In this case it would be `help(sns.load_dataset)`"
   ]
  },
  {
   "cell_type": "code",
   "execution_count": null,
   "metadata": {},
   "outputs": [],
   "source": []
  },
  {
   "cell_type": "markdown",
   "id": "fcfa49d1-b256-4432-9548-10a5e45d0441",
   "metadata": {},
   "source": [
    "### Variable Explanations\n",
    "\n",
    "| Variable | Explanation |\n",
    "| --- | --- |\n",
    "| total | Number of drivers involved in fatal collisions per billion miles |\n",
    "| speeding | Number of drivers involved in fatal collisions per billion miles Who Were Speeding |\n",
    "| alcohol | Number of drivers involved in fatal collisions per billion miles Who Were Alcohol-Impaired |\n",
    "| not_distracted | Number of drivers involved in fatal collisions per billion miles Who Were Not Distracted |\n",
    "| no_previous | Number of drivers involved in fatal collisions per billion miles Who Had Not Been Involved In Any Previous Accidents |\n",
    "| ins_premium | Car Insurance Premiums (\\$) |\n",
    "| ins_losses | Losses incurred by insurance companies for collisions per insured driver (\\$) | \n",
    "| abbrev | State |\n",
    "\n",
    "https://www.kaggle.com/fivethirtyeight/fivethirtyeight-bad-drivers-dataset\n",
    "\n",
    "Note that categories are not exclusive. A driver might have been drinking alcohol, while speeding, without having had previous car accidents when entering the statistic as fatal collision."
   ]
  },
  {
   "cell_type": "markdown",
   "id": "a6c0ae01-c5c5-4d50-9646-fa85c5170b4b",
   "metadata": {},
   "source": [
    "### 3. `crash_df` is now a pandas DataFrame object. That means we can apply DataFrame methods like head() which helps us getting a first look at the data. So apply `.head()` on our `crash_df` to see some of the data."
   ]
  },
  {
   "cell_type": "code",
   "execution_count": null,
   "metadata": {},
   "outputs": [],
   "source": []
  },
  {
   "cell_type": "markdown",
   "metadata": {},
   "source": [
    "## Rows"
   ]
  },
  {
   "cell_type": "markdown",
   "id": "900c3c90-3cbc-4154-830a-07b25706d5dd",
   "metadata": {},
   "source": [
    "### 4.1 Let's first have a look at rows of the dataframe, meaning data of a single US-State. Select the row representing New York (abbrev == NY) which has the index 33. For example by using the .iloc functionality of pandas."
   ]
  },
  {
   "cell_type": "code",
   "execution_count": null,
   "metadata": {},
   "outputs": [],
   "source": []
  },
  {
   "cell_type": "markdown",
   "id": "062582bf-6818-4fc7-8c54-4ebc7d1d1750",
   "metadata": {},
   "source": [
    "### 4.3 Now try to also have a look at the rows above and below NY. Use .iloc to index all three rows at once."
   ]
  },
  {
   "cell_type": "code",
   "execution_count": null,
   "metadata": {},
   "outputs": [],
   "source": []
  },
  {
   "cell_type": "markdown",
   "metadata": {},
   "source": [
    "## Columns"
   ]
  },
  {
   "cell_type": "markdown",
   "id": "15aa949d-f4a0-4245-9798-c948361abf1f",
   "metadata": {},
   "source": [
    "### 5.1 After looking at rows, we now want to do the same with columns. Select the last column `abbrev`. Remember that a DataFrame is a 2 dimensional array that needs to be indexed with row and column indices."
   ]
  },
  {
   "cell_type": "code",
   "execution_count": null,
   "metadata": {},
   "outputs": [],
   "source": []
  },
  {
   "cell_type": "markdown",
   "id": "6878257b-41f5-4e61-b604-ed7d36a8df5d",
   "metadata": {},
   "source": [
    "### 5.2 And now, select the columns 'speeding', 'alcohol', and 'abbrev'."
   ]
  },
  {
   "cell_type": "code",
   "execution_count": null,
   "metadata": {},
   "outputs": [],
   "source": []
  },
  {
   "cell_type": "markdown",
   "metadata": {},
   "source": [
    "## Boolean Indexing"
   ]
  },
  {
   "cell_type": "markdown",
   "metadata": {},
   "source": [
    "### 6.1 We can also use boolean arrays to select elements of a dataframe. In a first step, try to get a boolean array that contains True values for all `ins_premiums` above 800. Next, use that boolean array to select all ins_premium values > 800 so you can see the values. Assign it to the variable `premium_above_800` and find out how many values are above 800 by getting the length of the series."
   ]
  },
  {
   "cell_type": "code",
   "execution_count": null,
   "metadata": {},
   "outputs": [],
   "source": []
  },
  {
   "cell_type": "markdown",
   "metadata": {},
   "source": [
    "## Calculating, Assining, Removing"
   ]
  },
  {
   "cell_type": "markdown",
   "id": "007781f3",
   "metadata": {},
   "source": [
    "### 7.1 Up to this point we have only looked at the data. Let's start working with it a bit. For simplicity assume that *insurance premium - insurance losses = profit*. Select the `ins_premium` column and subtract the `ins_losses` column from it. Save the result in a new column of the dataframe by simply assigning the result to a column that we give a new name `ins_profit`. The new column should now been added to the right end of the dataframe. "
   ]
  },
  {
   "cell_type": "code",
   "execution_count": null,
   "metadata": {},
   "outputs": [],
   "source": []
  },
  {
   "cell_type": "markdown",
   "id": "914c17a0",
   "metadata": {},
   "source": [
    "### 7.2 At last, delete the `ins_profit` column again so we get back the dataframe we had at the beginning. You can do this by using the dataframe `drop()` method. Make sure to use the columns/index or axis keyword to specify whether you want to delete a column or row when using the drop method."
   ]
  },
  {
   "cell_type": "code",
   "execution_count": null,
   "metadata": {},
   "outputs": [],
   "source": []
  }
 ],
 "metadata": {
  "kernelspec": {
   "display_name": "Python 3.10.0 ('standard_ds')",
   "language": "python",
   "name": "python3"
  },
  "language_info": {
   "codemirror_mode": {
    "name": "ipython",
    "version": 3
   },
   "file_extension": ".py",
   "mimetype": "text/x-python",
   "name": "python",
   "nbconvert_exporter": "python",
   "pygments_lexer": "ipython3",
   "version": "3.10.0"
  },
  "orig_nbformat": 4,
  "vscode": {
   "interpreter": {
    "hash": "847f47a0c0153fc0b99df8d02507e943cdc2fd03c49260317bbd654755eb45e4"
   }
  }
 },
 "nbformat": 4,
 "nbformat_minor": 2
}

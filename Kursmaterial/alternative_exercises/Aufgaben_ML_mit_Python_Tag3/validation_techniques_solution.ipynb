{
 "cells": [
  {
   "cell_type": "markdown",
   "metadata": {},
   "source": [
    "# Train Test Split und Cross Validation Lösung"
   ]
  },
  {
   "cell_type": "code",
   "execution_count": 29,
   "metadata": {},
   "outputs": [],
   "source": [
    "import numpy as np\n",
    "import pandas as pd\n",
    "\n",
    "from sklearn.model_selection import train_test_split, KFold, cross_validate, GridSearchCV\n",
    "from sklearn.ensemble import RandomForestClassifier\n",
    "from sklearn.tree import DecisionTreeClassifier\n",
    "from sklearn.metrics import accuracy_score, roc_auc_score"
   ]
  },
  {
   "cell_type": "code",
   "execution_count": 30,
   "metadata": {},
   "outputs": [],
   "source": [
    "pd.set_option('display.max_columns', 21)"
   ]
  },
  {
   "cell_type": "markdown",
   "metadata": {},
   "source": [
    "### Daten einlesen"
   ]
  },
  {
   "cell_type": "code",
   "execution_count": 31,
   "metadata": {},
   "outputs": [],
   "source": [
    "spam_df = pd.read_csv('https://vincentarelbundock.github.io/Rdatasets/csv/openintro/email.csv', index_col=0)"
   ]
  },
  {
   "cell_type": "markdown",
   "metadata": {},
   "source": [
    "### Variable Explanation\n",
    "| Variable | Explanation |\n",
    "|--- | --- |\n",
    "| spam | Indicator for whether the email was spam. |\n",
    "| to_multiple | Indicator for whether the email was addressed to more than one recipient. |\n",
    "| from | Whether the message was listed as from anyone (this is usually set by default for regular outgoing email). |\n",
    "| cc | Number of people cc'ed. |\n",
    "| sent_email | Indicator for whether the sender had been sent an email in the last 30 days. |\n",
    "| time | Time at which email was sent. |\n",
    "| image | The number of images attached. |\n",
    "| attach | The number of attached files. |\n",
    "| dollar | The number of times a dollar sign or the word “dollar” appeared in the email. |\n",
    "| winner | Indicates whether “winner” appeared in the email. |\n",
    "| inherit | The number of times “inherit” (or an extension, such as “inheritance”) appeared in the email. |\n",
    "| viagra | The number of times “viagra” appeared in the email. |\n",
    "| password | The number of times “password” appeared in the email. |\n",
    "| num_char | The number of characters in the email, in thousands. |\n",
    "| line_breaks | The number of line breaks in the email (does not count text wrapping). |\n",
    "| format | Indicates whether the email was written using HTML (e.g. may have included bolding or active links). |\n",
    "| re_subj | Whether the subject started with “Re:”, “RE:”, “re:”, or “rE:” |\n",
    "| exclaim_subj | Whether there was an exclamation point in the subject. |\n",
    "| urgent_subj | Whether the word “urgent” was in the email subject. |\n",
    "| exclaim_mess | The number of exclamation points in the email message. |\n",
    "| number | Factor variable saying whether there was no number, a small number (under 1 million), or a big number. |\n"
   ]
  },
  {
   "cell_type": "code",
   "execution_count": 32,
   "metadata": {},
   "outputs": [],
   "source": [
    "random_seed = 5"
   ]
  },
  {
   "cell_type": "markdown",
   "metadata": {},
   "source": [
    "### Daten vorbereiten"
   ]
  },
  {
   "cell_type": "code",
   "execution_count": 33,
   "metadata": {},
   "outputs": [],
   "source": [
    "spam_df.drop(columns='time', inplace=True)"
   ]
  },
  {
   "cell_type": "markdown",
   "metadata": {},
   "source": [
    "#### Binäre kategoriale Variablen in Dummy Variablen umwandeln (0-1-Encodierung) "
   ]
  },
  {
   "cell_type": "code",
   "execution_count": 34,
   "metadata": {},
   "outputs": [],
   "source": [
    "spam_df = pd.get_dummies(spam_df, columns=['winner', 'number'], drop_first=True)\n"
   ]
  },
  {
   "cell_type": "markdown",
   "metadata": {},
   "source": [
    "#### Downsampling\n"
   ]
  },
  {
   "cell_type": "markdown",
   "metadata": {},
   "source": [
    "Downsampling, die gezielte Reduzierung des Datasets, ist hier aus zweierlei Hinsicht nützlich. Zum einen erleichtert es das Vorgehen im Folgenden, da so ein ausgeglichenes Dataset hinsichtlich der Zielvariable erstellt werden kann. Zum anderen reduziert ein kleineres Dataset natürlich auch die Zeit die das wiederholte Training erfordert."
   ]
  },
  {
   "cell_type": "code",
   "execution_count": 35,
   "metadata": {},
   "outputs": [],
   "source": [
    "num_spam_labels = 250  # spam_df.spam.sum()\n",
    "\n",
    "spam_df_downsampled = spam_df.groupby('spam').sample(n=num_spam_labels, random_state=random_seed).reset_index(drop=True)"
   ]
  },
  {
   "cell_type": "code",
   "execution_count": 36,
   "metadata": {},
   "outputs": [
    {
     "data": {
      "text/html": [
       "<div>\n",
       "<style scoped>\n",
       "    .dataframe tbody tr th:only-of-type {\n",
       "        vertical-align: middle;\n",
       "    }\n",
       "\n",
       "    .dataframe tbody tr th {\n",
       "        vertical-align: top;\n",
       "    }\n",
       "\n",
       "    .dataframe thead th {\n",
       "        text-align: right;\n",
       "    }\n",
       "</style>\n",
       "<table border=\"1\" class=\"dataframe\">\n",
       "  <thead>\n",
       "    <tr style=\"text-align: right;\">\n",
       "      <th></th>\n",
       "      <th>spam</th>\n",
       "      <th>to_multiple</th>\n",
       "      <th>from</th>\n",
       "      <th>cc</th>\n",
       "      <th>sent_email</th>\n",
       "      <th>image</th>\n",
       "      <th>attach</th>\n",
       "      <th>dollar</th>\n",
       "      <th>inherit</th>\n",
       "      <th>viagra</th>\n",
       "      <th>password</th>\n",
       "      <th>num_char</th>\n",
       "      <th>line_breaks</th>\n",
       "      <th>format</th>\n",
       "      <th>re_subj</th>\n",
       "      <th>exclaim_subj</th>\n",
       "      <th>urgent_subj</th>\n",
       "      <th>exclaim_mess</th>\n",
       "      <th>winner_yes</th>\n",
       "      <th>number_none</th>\n",
       "      <th>number_small</th>\n",
       "    </tr>\n",
       "  </thead>\n",
       "  <tbody>\n",
       "    <tr>\n",
       "      <th>0</th>\n",
       "      <td>0</td>\n",
       "      <td>1</td>\n",
       "      <td>1</td>\n",
       "      <td>0</td>\n",
       "      <td>0</td>\n",
       "      <td>0</td>\n",
       "      <td>0</td>\n",
       "      <td>0</td>\n",
       "      <td>0</td>\n",
       "      <td>0</td>\n",
       "      <td>0</td>\n",
       "      <td>11.639</td>\n",
       "      <td>240</td>\n",
       "      <td>1</td>\n",
       "      <td>0</td>\n",
       "      <td>0</td>\n",
       "      <td>0</td>\n",
       "      <td>5</td>\n",
       "      <td>0</td>\n",
       "      <td>0</td>\n",
       "      <td>1</td>\n",
       "    </tr>\n",
       "    <tr>\n",
       "      <th>1</th>\n",
       "      <td>0</td>\n",
       "      <td>1</td>\n",
       "      <td>1</td>\n",
       "      <td>0</td>\n",
       "      <td>0</td>\n",
       "      <td>0</td>\n",
       "      <td>0</td>\n",
       "      <td>0</td>\n",
       "      <td>0</td>\n",
       "      <td>0</td>\n",
       "      <td>0</td>\n",
       "      <td>39.805</td>\n",
       "      <td>499</td>\n",
       "      <td>0</td>\n",
       "      <td>1</td>\n",
       "      <td>0</td>\n",
       "      <td>0</td>\n",
       "      <td>0</td>\n",
       "      <td>0</td>\n",
       "      <td>0</td>\n",
       "      <td>0</td>\n",
       "    </tr>\n",
       "    <tr>\n",
       "      <th>2</th>\n",
       "      <td>0</td>\n",
       "      <td>1</td>\n",
       "      <td>1</td>\n",
       "      <td>0</td>\n",
       "      <td>0</td>\n",
       "      <td>0</td>\n",
       "      <td>0</td>\n",
       "      <td>0</td>\n",
       "      <td>0</td>\n",
       "      <td>0</td>\n",
       "      <td>0</td>\n",
       "      <td>4.614</td>\n",
       "      <td>51</td>\n",
       "      <td>0</td>\n",
       "      <td>0</td>\n",
       "      <td>0</td>\n",
       "      <td>0</td>\n",
       "      <td>0</td>\n",
       "      <td>0</td>\n",
       "      <td>0</td>\n",
       "      <td>1</td>\n",
       "    </tr>\n",
       "    <tr>\n",
       "      <th>3</th>\n",
       "      <td>0</td>\n",
       "      <td>0</td>\n",
       "      <td>1</td>\n",
       "      <td>0</td>\n",
       "      <td>0</td>\n",
       "      <td>0</td>\n",
       "      <td>0</td>\n",
       "      <td>0</td>\n",
       "      <td>0</td>\n",
       "      <td>0</td>\n",
       "      <td>0</td>\n",
       "      <td>1.118</td>\n",
       "      <td>13</td>\n",
       "      <td>0</td>\n",
       "      <td>0</td>\n",
       "      <td>0</td>\n",
       "      <td>0</td>\n",
       "      <td>0</td>\n",
       "      <td>0</td>\n",
       "      <td>0</td>\n",
       "      <td>1</td>\n",
       "    </tr>\n",
       "    <tr>\n",
       "      <th>4</th>\n",
       "      <td>0</td>\n",
       "      <td>0</td>\n",
       "      <td>1</td>\n",
       "      <td>0</td>\n",
       "      <td>0</td>\n",
       "      <td>0</td>\n",
       "      <td>0</td>\n",
       "      <td>0</td>\n",
       "      <td>0</td>\n",
       "      <td>0</td>\n",
       "      <td>0</td>\n",
       "      <td>13.008</td>\n",
       "      <td>194</td>\n",
       "      <td>0</td>\n",
       "      <td>0</td>\n",
       "      <td>0</td>\n",
       "      <td>0</td>\n",
       "      <td>0</td>\n",
       "      <td>0</td>\n",
       "      <td>0</td>\n",
       "      <td>0</td>\n",
       "    </tr>\n",
       "    <tr>\n",
       "      <th>...</th>\n",
       "      <td>...</td>\n",
       "      <td>...</td>\n",
       "      <td>...</td>\n",
       "      <td>...</td>\n",
       "      <td>...</td>\n",
       "      <td>...</td>\n",
       "      <td>...</td>\n",
       "      <td>...</td>\n",
       "      <td>...</td>\n",
       "      <td>...</td>\n",
       "      <td>...</td>\n",
       "      <td>...</td>\n",
       "      <td>...</td>\n",
       "      <td>...</td>\n",
       "      <td>...</td>\n",
       "      <td>...</td>\n",
       "      <td>...</td>\n",
       "      <td>...</td>\n",
       "      <td>...</td>\n",
       "      <td>...</td>\n",
       "      <td>...</td>\n",
       "    </tr>\n",
       "    <tr>\n",
       "      <th>495</th>\n",
       "      <td>1</td>\n",
       "      <td>0</td>\n",
       "      <td>1</td>\n",
       "      <td>0</td>\n",
       "      <td>0</td>\n",
       "      <td>0</td>\n",
       "      <td>0</td>\n",
       "      <td>0</td>\n",
       "      <td>0</td>\n",
       "      <td>0</td>\n",
       "      <td>0</td>\n",
       "      <td>2.311</td>\n",
       "      <td>59</td>\n",
       "      <td>1</td>\n",
       "      <td>0</td>\n",
       "      <td>0</td>\n",
       "      <td>0</td>\n",
       "      <td>1</td>\n",
       "      <td>0</td>\n",
       "      <td>0</td>\n",
       "      <td>1</td>\n",
       "    </tr>\n",
       "    <tr>\n",
       "      <th>496</th>\n",
       "      <td>1</td>\n",
       "      <td>0</td>\n",
       "      <td>1</td>\n",
       "      <td>0</td>\n",
       "      <td>0</td>\n",
       "      <td>0</td>\n",
       "      <td>0</td>\n",
       "      <td>0</td>\n",
       "      <td>0</td>\n",
       "      <td>0</td>\n",
       "      <td>0</td>\n",
       "      <td>13.521</td>\n",
       "      <td>247</td>\n",
       "      <td>1</td>\n",
       "      <td>0</td>\n",
       "      <td>0</td>\n",
       "      <td>0</td>\n",
       "      <td>16</td>\n",
       "      <td>0</td>\n",
       "      <td>0</td>\n",
       "      <td>1</td>\n",
       "    </tr>\n",
       "    <tr>\n",
       "      <th>497</th>\n",
       "      <td>1</td>\n",
       "      <td>0</td>\n",
       "      <td>1</td>\n",
       "      <td>0</td>\n",
       "      <td>0</td>\n",
       "      <td>0</td>\n",
       "      <td>0</td>\n",
       "      <td>2</td>\n",
       "      <td>0</td>\n",
       "      <td>0</td>\n",
       "      <td>0</td>\n",
       "      <td>1.377</td>\n",
       "      <td>43</td>\n",
       "      <td>0</td>\n",
       "      <td>0</td>\n",
       "      <td>0</td>\n",
       "      <td>0</td>\n",
       "      <td>0</td>\n",
       "      <td>0</td>\n",
       "      <td>0</td>\n",
       "      <td>1</td>\n",
       "    </tr>\n",
       "    <tr>\n",
       "      <th>498</th>\n",
       "      <td>1</td>\n",
       "      <td>0</td>\n",
       "      <td>1</td>\n",
       "      <td>0</td>\n",
       "      <td>0</td>\n",
       "      <td>0</td>\n",
       "      <td>0</td>\n",
       "      <td>0</td>\n",
       "      <td>0</td>\n",
       "      <td>0</td>\n",
       "      <td>0</td>\n",
       "      <td>0.775</td>\n",
       "      <td>15</td>\n",
       "      <td>1</td>\n",
       "      <td>0</td>\n",
       "      <td>0</td>\n",
       "      <td>0</td>\n",
       "      <td>1</td>\n",
       "      <td>0</td>\n",
       "      <td>0</td>\n",
       "      <td>1</td>\n",
       "    </tr>\n",
       "    <tr>\n",
       "      <th>499</th>\n",
       "      <td>1</td>\n",
       "      <td>0</td>\n",
       "      <td>1</td>\n",
       "      <td>0</td>\n",
       "      <td>0</td>\n",
       "      <td>0</td>\n",
       "      <td>0</td>\n",
       "      <td>4</td>\n",
       "      <td>0</td>\n",
       "      <td>0</td>\n",
       "      <td>0</td>\n",
       "      <td>6.415</td>\n",
       "      <td>113</td>\n",
       "      <td>1</td>\n",
       "      <td>0</td>\n",
       "      <td>0</td>\n",
       "      <td>0</td>\n",
       "      <td>0</td>\n",
       "      <td>0</td>\n",
       "      <td>0</td>\n",
       "      <td>1</td>\n",
       "    </tr>\n",
       "  </tbody>\n",
       "</table>\n",
       "<p>500 rows × 21 columns</p>\n",
       "</div>"
      ],
      "text/plain": [
       "     spam  to_multiple  from  cc  sent_email  image  attach  dollar  inherit  \\\n",
       "0       0            1     1   0           0      0       0       0        0   \n",
       "1       0            1     1   0           0      0       0       0        0   \n",
       "2       0            1     1   0           0      0       0       0        0   \n",
       "3       0            0     1   0           0      0       0       0        0   \n",
       "4       0            0     1   0           0      0       0       0        0   \n",
       "..    ...          ...   ...  ..         ...    ...     ...     ...      ...   \n",
       "495     1            0     1   0           0      0       0       0        0   \n",
       "496     1            0     1   0           0      0       0       0        0   \n",
       "497     1            0     1   0           0      0       0       2        0   \n",
       "498     1            0     1   0           0      0       0       0        0   \n",
       "499     1            0     1   0           0      0       0       4        0   \n",
       "\n",
       "     viagra  password  num_char  line_breaks  format  re_subj  exclaim_subj  \\\n",
       "0         0         0    11.639          240       1        0             0   \n",
       "1         0         0    39.805          499       0        1             0   \n",
       "2         0         0     4.614           51       0        0             0   \n",
       "3         0         0     1.118           13       0        0             0   \n",
       "4         0         0    13.008          194       0        0             0   \n",
       "..      ...       ...       ...          ...     ...      ...           ...   \n",
       "495       0         0     2.311           59       1        0             0   \n",
       "496       0         0    13.521          247       1        0             0   \n",
       "497       0         0     1.377           43       0        0             0   \n",
       "498       0         0     0.775           15       1        0             0   \n",
       "499       0         0     6.415          113       1        0             0   \n",
       "\n",
       "     urgent_subj  exclaim_mess  winner_yes  number_none  number_small  \n",
       "0              0             5           0            0             1  \n",
       "1              0             0           0            0             0  \n",
       "2              0             0           0            0             1  \n",
       "3              0             0           0            0             1  \n",
       "4              0             0           0            0             0  \n",
       "..           ...           ...         ...          ...           ...  \n",
       "495            0             1           0            0             1  \n",
       "496            0            16           0            0             1  \n",
       "497            0             0           0            0             1  \n",
       "498            0             1           0            0             1  \n",
       "499            0             0           0            0             1  \n",
       "\n",
       "[500 rows x 21 columns]"
      ]
     },
     "execution_count": 36,
     "metadata": {},
     "output_type": "execute_result"
    }
   ],
   "source": [
    "spam_df_downsampled"
   ]
  },
  {
   "cell_type": "markdown",
   "metadata": {},
   "source": [
    "### Training und Validierung"
   ]
  },
  {
   "cell_type": "markdown",
   "metadata": {},
   "source": [
    "#### 1. Erstellen Sie als erstes X und y Variablen. Transformieren Sie dafür die Zielvariable `'spam'` aus `spam_df_downsampled` zu einem Numpy Array mit der `to_numpy()` Methode. Tun Sie das gleiche für die restlichen Variablen und speichern Sie sie in X ab."
   ]
  },
  {
   "cell_type": "markdown",
   "metadata": {},
   "source": [
    "### "
   ]
  },
  {
   "cell_type": "code",
   "execution_count": 37,
   "metadata": {},
   "outputs": [],
   "source": [
    "y = spam_df_downsampled['spam'].to_numpy()\n",
    "X = spam_df_downsampled.drop(columns='spam').to_numpy()"
   ]
  },
  {
   "cell_type": "markdown",
   "metadata": {},
   "source": [
    "#### 2.1 Als erstes nehmen wir die `train_test_split` Funktion unter die Lupe. Verwenden Sie die Funktion mit X, y und einer Testsetgröße von 0.2, sprich 20%. Speichern Sie die zurückgegebenen Objekte in den jeweils passenden Variablen `X_train, X_test, y_train, y_test` ab. Geben Sie danach die Zeilen und Spalten Anzahl (`shape`) der jeweiligen Variablen aus und überprüfen Sie sie auf Plausibilität."
   ]
  },
  {
   "cell_type": "code",
   "execution_count": 38,
   "metadata": {},
   "outputs": [
    {
     "name": "stdout",
     "output_type": "stream",
     "text": [
      "(400, 20) (100, 20)\n",
      "(400,) (100,)\n"
     ]
    }
   ],
   "source": [
    "X_train, X_test, y_train, y_test = train_test_split(X, y, test_size=0.2)\n",
    "\n",
    "print(X_train.shape, X_test.shape)\n",
    "print(y_train.shape, y_test.shape)"
   ]
  },
  {
   "cell_type": "markdown",
   "metadata": {},
   "source": [
    "#### 2.2 Nun können Sie `train_test_splitt` anwenden. Verwenden Sie im folgenden die Funktion `fit_predict` um Modelle zu trainieren, Vorhersagen für das Testset zu erstellen und den Wert der Accuracy Metrik auszugeben. Nutzen Sie innerhalb eines for-Loops erst `train_test_split` zum erstellen der Trainings- und Testvariablen, wenden Sie dann `fit_predict` an um die Accuracy für die Modelle Random Forest und Decission Tree zu berechnen und speichern Sie schließlich die Ergebnisse zur späteren Analyse ab, bspw. in einem `Dictionary` oder entsprechenden `List`s.\n",
    "#### Dabei sollten es 10 Wiederholungen sein und idealerweise vergeben Sie bei jeder Wiederholung einen vorgegebenen, aber sich zwischen den Wiederholungen unterscheidenden, `random_state` für `train_test_split` und `fit_predict`. Dieser Random State, eine ganze Zahl >=0, ermöglicht eine Replizierbarkeit Ihrer Ergebnisse. Eine einfache Möglichkeit dafür ist zum Beispiel die Ausgabe der `range()` Funktion als `random_state` zu verwenden."
   ]
  },
  {
   "cell_type": "code",
   "execution_count": 39,
   "metadata": {},
   "outputs": [],
   "source": [
    "def init_models(random_state=None):\n",
    "    '''Initializes models with set parameters and returns them in a dictionary'''\n",
    "    tree_model = DecisionTreeClassifier(max_depth=5, max_features=6, random_state=random_state)\n",
    "    rf_model = RandomForestClassifier(100, max_depth=15, max_features=6, random_state=random_state)\n",
    "\n",
    "    return {'tree': tree_model, 'rf': rf_model}\n",
    "\n",
    "def fit_predict(X_train, X_test, y_train, y_test, model_type: str, random_state=None):\n",
    "    '''\n",
    "    Initilazes and fits model on given train data and then predicts on test data\n",
    "    \n",
    "    returns: test predictions accuracy\n",
    "    '''\n",
    "    models = init_models(random_state)\n",
    "    model = models[model_type]\n",
    "\n",
    "    model.fit(X_train, y_train)\n",
    "\n",
    "    y_pred = model.predict(X_test)\n",
    "\n",
    "    test_accuracy = accuracy_score(y_test, y_pred)\n",
    "\n",
    "    return test_accuracy\n",
    "\n"
   ]
  },
  {
   "cell_type": "code",
   "execution_count": 40,
   "metadata": {},
   "outputs": [],
   "source": [
    "results_tts = {'rf' : [], 'tree': []}\n",
    "for i in range(10):\n",
    "    X_train, X_test, y_train, y_test = train_test_split(X, y, test_size=0.2, random_state=i)\n",
    "\n",
    "    rf_accuracy = fit_predict(X_train, X_test, y_train, y_test, model_type='rf', random_state=i)\n",
    "    tree_accuracy = fit_predict(X_train, X_test, y_train, y_test, model_type='tree', random_state=i)\n",
    "\n",
    "    results_tts.get('rf').append(rf_accuracy)\n",
    "    results_tts.get('tree').append(tree_accuracy) \n",
    "\n"
   ]
  },
  {
   "cell_type": "markdown",
   "metadata": {},
   "source": [
    "#### 2.3 Als nächstes können Sie jetzt Ihre Ergebnisse untersuchen. Am einfachsten ist es einen Pandas Dataframe zu erstellen in dem Sie die Ergebnisse des jeweiligen Modells in einer Spalte speichern. Berechnen Sie anschließend die paarweise Differenz zwischen Random Forest und Decision Tree Ergebnissen für jeden Durchgang um die größe der Abweichungen zu erkennen und geben Sie das Ergebnis aus."
   ]
  },
  {
   "cell_type": "code",
   "execution_count": 41,
   "metadata": {},
   "outputs": [
    {
     "data": {
      "text/html": [
       "<div>\n",
       "<style scoped>\n",
       "    .dataframe tbody tr th:only-of-type {\n",
       "        vertical-align: middle;\n",
       "    }\n",
       "\n",
       "    .dataframe tbody tr th {\n",
       "        vertical-align: top;\n",
       "    }\n",
       "\n",
       "    .dataframe thead th {\n",
       "        text-align: right;\n",
       "    }\n",
       "</style>\n",
       "<table border=\"1\" class=\"dataframe\">\n",
       "  <thead>\n",
       "    <tr style=\"text-align: right;\">\n",
       "      <th></th>\n",
       "      <th>rf</th>\n",
       "      <th>tree</th>\n",
       "      <th>diff</th>\n",
       "    </tr>\n",
       "  </thead>\n",
       "  <tbody>\n",
       "    <tr>\n",
       "      <th>0</th>\n",
       "      <td>0.84</td>\n",
       "      <td>0.77</td>\n",
       "      <td>0.07</td>\n",
       "    </tr>\n",
       "    <tr>\n",
       "      <th>1</th>\n",
       "      <td>0.87</td>\n",
       "      <td>0.84</td>\n",
       "      <td>0.03</td>\n",
       "    </tr>\n",
       "    <tr>\n",
       "      <th>2</th>\n",
       "      <td>0.87</td>\n",
       "      <td>0.82</td>\n",
       "      <td>0.05</td>\n",
       "    </tr>\n",
       "    <tr>\n",
       "      <th>3</th>\n",
       "      <td>0.88</td>\n",
       "      <td>0.78</td>\n",
       "      <td>0.10</td>\n",
       "    </tr>\n",
       "    <tr>\n",
       "      <th>4</th>\n",
       "      <td>0.82</td>\n",
       "      <td>0.79</td>\n",
       "      <td>0.03</td>\n",
       "    </tr>\n",
       "    <tr>\n",
       "      <th>5</th>\n",
       "      <td>0.88</td>\n",
       "      <td>0.86</td>\n",
       "      <td>0.02</td>\n",
       "    </tr>\n",
       "    <tr>\n",
       "      <th>6</th>\n",
       "      <td>0.82</td>\n",
       "      <td>0.71</td>\n",
       "      <td>0.11</td>\n",
       "    </tr>\n",
       "    <tr>\n",
       "      <th>7</th>\n",
       "      <td>0.81</td>\n",
       "      <td>0.78</td>\n",
       "      <td>0.03</td>\n",
       "    </tr>\n",
       "    <tr>\n",
       "      <th>8</th>\n",
       "      <td>0.80</td>\n",
       "      <td>0.64</td>\n",
       "      <td>0.16</td>\n",
       "    </tr>\n",
       "    <tr>\n",
       "      <th>9</th>\n",
       "      <td>0.87</td>\n",
       "      <td>0.76</td>\n",
       "      <td>0.11</td>\n",
       "    </tr>\n",
       "  </tbody>\n",
       "</table>\n",
       "</div>"
      ],
      "text/plain": [
       "     rf  tree  diff\n",
       "0  0.84  0.77  0.07\n",
       "1  0.87  0.84  0.03\n",
       "2  0.87  0.82  0.05\n",
       "3  0.88  0.78  0.10\n",
       "4  0.82  0.79  0.03\n",
       "5  0.88  0.86  0.02\n",
       "6  0.82  0.71  0.11\n",
       "7  0.81  0.78  0.03\n",
       "8  0.80  0.64  0.16\n",
       "9  0.87  0.76  0.11"
      ]
     },
     "execution_count": 41,
     "metadata": {},
     "output_type": "execute_result"
    }
   ],
   "source": [
    "results_train_test_split = pd.DataFrame(results_tts)\n",
    "\n",
    "results_train_test_split['diff'] = results_train_test_split.rf - results_train_test_split.tree\n",
    "results_train_test_split"
   ]
  },
  {
   "cell_type": "markdown",
   "metadata": {},
   "source": [
    "#### 2.4 Zuletzt können Sie nun die Standardabweichung (`str`) der jeweiligen Spalten berechnen. Wir werden sie im Folgenden mit den Werten der anderen Methode, Cross Validation, vergleichen."
   ]
  },
  {
   "cell_type": "code",
   "execution_count": 42,
   "metadata": {},
   "outputs": [
    {
     "name": "stdout",
     "output_type": "stream",
     "text": [
      "Standard diviation of difference for train test split: \n",
      "rf      0.031\n",
      "tree    0.064\n",
      "diff    0.047\n",
      "dtype: float64\n"
     ]
    }
   ],
   "source": [
    "std_train_test_split =  results_train_test_split.std().round(3)\n",
    "print(f'Standard diviation of difference for train test split: \\n{std_train_test_split}')"
   ]
  },
  {
   "cell_type": "markdown",
   "metadata": {},
   "source": [
    "Wenig überraschend variieren die Werte des Entscheidungsbaummodells stärker als die des Random Forests, da die Zusammenfassung mehrere Bäume im RF die Varianz, bzw. die Standardabweichung, der Ergebnisse senkt. "
   ]
  },
  {
   "cell_type": "markdown",
   "metadata": {},
   "source": [
    "#### 3.1 Im folgenden werden wir die Validierungsmethode Cross Validation (CV) verwenden. Sklearn bietet verschiedene Formen der CV an und es gibt ebenso unterschiedliche Methoden Sie zu implementieren. Wir verwenden als erstes die Klasse `KFold`, die hilft ein Dataset in mehrere gleichgroße Abschnitte (Folds) zu unterteilen. Probieren Sie es als erstes aus indem Sie ein KFold Objekt mit 5 Folds und gemischt (shuffle) initialisieren und in einer Variable speichern. Anschließend können Sie die `split()` Methode verwenden um Train- und Testindizes für X zu erlangen und mit der `next()` Funktion, wie in einem for-Loop, das nächste Element auszugeben, was in diesem Fall die beiden Variablen der Indizes sind.\n",
    "#### Benennen Sie die Variablen entsprechend mit `train_id, test_id` und geben Sie die `shape` der beiden aus. Außerdem können Sie einen Blick auf die ersten 10 Elemente werfen um einen besseren Eindruck zu bekommen. Falls Sie bei einem der Schritte Hilfe benötigen bietet es sich immer an die `help()` Funktion zu bemühen. Die Dokumentation von KFold enthält etwa auch ein Beispiel wie es angewendet wird."
   ]
  },
  {
   "cell_type": "code",
   "execution_count": 43,
   "metadata": {},
   "outputs": [],
   "source": [
    "k_fold = KFold(n_splits=5, shuffle=True, random_state=None)"
   ]
  },
  {
   "cell_type": "code",
   "execution_count": 44,
   "metadata": {},
   "outputs": [
    {
     "name": "stdout",
     "output_type": "stream",
     "text": [
      "(400,) (100,)\n",
      "[ 1  2  3  6  7  8  9 10 11 12]\n",
      "[ 0  4  5 14 15 17 19 36 38 41]\n"
     ]
    }
   ],
   "source": [
    "train_id, test_id = next(k_fold.split(X))\n",
    "\n",
    "print(train_id.shape, test_id.shape)\n",
    "print(train_id[:10])\n",
    "print(test_id[:10])"
   ]
  },
  {
   "cell_type": "markdown",
   "metadata": {},
   "source": [
    "#### 3.2 Lassen Sie uns jetzt CV anwenden. Initialisieren Sie `KFold` und nutzen Sie anschließend einen Loop um nach und nach die Indizes der jeweiligen Fold auszugeben. Diese können Sie dann verwenden um X und y mit ihnen zu indizieren und so ` X_train, X_test` bzw.  `y_train, y_test` zu erstellen. Darauf folgend können Sie wie zuvor die `fit_predict` Funktion nutzen um mit dem jeweiligen Modell einen Accuracy Score auszugeben. Zuletzt muss noch der Mittelwert (`np.mean()`) der Accuracy Werte über alle Folds pro Modell berechnet werden."
   ]
  },
  {
   "cell_type": "code",
   "execution_count": 45,
   "metadata": {},
   "outputs": [],
   "source": [
    "model_types = ['rf', 'tree']"
   ]
  },
  {
   "cell_type": "code",
   "execution_count": 46,
   "metadata": {},
   "outputs": [],
   "source": [
    "def custom_cross_validate(X, y, model_types, random_state=None):\n",
    "    k_fold = KFold(n_splits=5, shuffle=True, random_state=random_state)\n",
    "    fold_results = {model_type: [] for model_type in model_types}\n",
    "\n",
    "    for train_id, test_id in k_fold.split(X):\n",
    "        X_train, X_test = X[train_id], X[test_id]\n",
    "        y_train, y_test = y[train_id], y[test_id]\n",
    "\n",
    "        for model_type in model_types:\n",
    "            accuracy = fit_predict(X_train, X_test, y_train, y_test, model_type, random_state=random_state)\n",
    "            fold_results.get(model_type).append(accuracy)\n",
    "    \n",
    "    single_cv_results = {model_type: np.mean(metric_values).round(3) for model_type, metric_values in fold_results.items()}\n",
    "\n",
    "    return single_cv_results"
   ]
  },
  {
   "cell_type": "code",
   "execution_count": 47,
   "metadata": {},
   "outputs": [
    {
     "name": "stdout",
     "output_type": "stream",
     "text": [
      "{'rf': 0.838, 'tree': 0.828}\n"
     ]
    }
   ],
   "source": [
    "single_cv_results = custom_cross_validate(X, y, model_types, random_state=1)\n",
    "print(single_cv_results)"
   ]
  },
  {
   "cell_type": "markdown",
   "metadata": {},
   "source": [
    "#### 3.3 Da wir CV mit Train-Test-Split vergleichen möchten, muss auch CV 10 mal durchgeführt. Erstellen Sie also wieder einen Loop mit 10 Wiederholungen in dem die Accuracy pro Modell durch CV ermittelt und gespeichert wird. Nutzen Sie dafür gerne auch den in der vorherigen Teilaufgabe geschriebenen Code wieder. Unabhängig davon auf welche Art und Weise Sie es implementieren, ist das Ziel am Ende 10 Werte pro Modell zu haben, die jeweils den Mittelwert aller Folds (5) eines kompletten CV Durchgangs abbilden. Verwenden Sie idealerweise auch hier wieder `random_state`s um Ihre Ergebnisse replizierbar zu machen."
   ]
  },
  {
   "cell_type": "code",
   "execution_count": 48,
   "metadata": {},
   "outputs": [],
   "source": [
    "results_cv = {'rf' : [], 'tree': []}\n",
    "for i in range(10):\n",
    "    single_cv_results = custom_cross_validate(X, y, model_types, random_state=i)\n",
    "    for model_type in model_types:\n",
    "        results_cv.get(model_type).append(single_cv_results[model_type])"
   ]
  },
  {
   "cell_type": "code",
   "execution_count": 49,
   "metadata": {},
   "outputs": [],
   "source": [
    "# alternative without use of function or dictionary comprehension:\n",
    "# results_cv = {'rf' : [], 'tree': []}\n",
    "# for i in range(10):\n",
    "#     k_fold = KFold(n_splits=5, shuffle=True, random_state=i)\n",
    "#     single_cv_results = {'rf' : [], 'tree': []}\n",
    "\n",
    "#     for train_id, test_id in k_fold.split(X):\n",
    "#         X_train, X_test = X[train_id], X[test_id]\n",
    "#         y_train, y_test = y[train_id], y[test_id]\n",
    "\n",
    "#         for model_type in model_types:\n",
    "#             accuracy = fit_predict(X_train, X_test, y_train, y_test, model_type, random_state=i)\n",
    "#             single_cv_results.get(model_type).append(accuracy)\n",
    "\n",
    "#     for model_type in model_types:\n",
    "#         results_cv.get(model_type).append(np.mean(single_cv_results[model_type]))\n"
   ]
  },
  {
   "cell_type": "markdown",
   "metadata": {},
   "source": [
    "#### 3.4 Nachdem Sie alle Accuracy Werte gesammelt haben, können Sie nun wieder einen Pandas Dataframe erstellen und die Differenz beider Spalten berechnen. "
   ]
  },
  {
   "cell_type": "code",
   "execution_count": 50,
   "metadata": {},
   "outputs": [
    {
     "data": {
      "text/html": [
       "<div>\n",
       "<style scoped>\n",
       "    .dataframe tbody tr th:only-of-type {\n",
       "        vertical-align: middle;\n",
       "    }\n",
       "\n",
       "    .dataframe tbody tr th {\n",
       "        vertical-align: top;\n",
       "    }\n",
       "\n",
       "    .dataframe thead th {\n",
       "        text-align: right;\n",
       "    }\n",
       "</style>\n",
       "<table border=\"1\" class=\"dataframe\">\n",
       "  <thead>\n",
       "    <tr style=\"text-align: right;\">\n",
       "      <th></th>\n",
       "      <th>rf</th>\n",
       "      <th>tree</th>\n",
       "      <th>diff</th>\n",
       "    </tr>\n",
       "  </thead>\n",
       "  <tbody>\n",
       "    <tr>\n",
       "      <th>0</th>\n",
       "      <td>0.844</td>\n",
       "      <td>0.796</td>\n",
       "      <td>0.048</td>\n",
       "    </tr>\n",
       "    <tr>\n",
       "      <th>1</th>\n",
       "      <td>0.838</td>\n",
       "      <td>0.828</td>\n",
       "      <td>0.010</td>\n",
       "    </tr>\n",
       "    <tr>\n",
       "      <th>2</th>\n",
       "      <td>0.826</td>\n",
       "      <td>0.814</td>\n",
       "      <td>0.012</td>\n",
       "    </tr>\n",
       "    <tr>\n",
       "      <th>3</th>\n",
       "      <td>0.848</td>\n",
       "      <td>0.768</td>\n",
       "      <td>0.080</td>\n",
       "    </tr>\n",
       "    <tr>\n",
       "      <th>4</th>\n",
       "      <td>0.840</td>\n",
       "      <td>0.784</td>\n",
       "      <td>0.056</td>\n",
       "    </tr>\n",
       "    <tr>\n",
       "      <th>5</th>\n",
       "      <td>0.840</td>\n",
       "      <td>0.826</td>\n",
       "      <td>0.014</td>\n",
       "    </tr>\n",
       "    <tr>\n",
       "      <th>6</th>\n",
       "      <td>0.838</td>\n",
       "      <td>0.770</td>\n",
       "      <td>0.068</td>\n",
       "    </tr>\n",
       "    <tr>\n",
       "      <th>7</th>\n",
       "      <td>0.840</td>\n",
       "      <td>0.788</td>\n",
       "      <td>0.052</td>\n",
       "    </tr>\n",
       "    <tr>\n",
       "      <th>8</th>\n",
       "      <td>0.840</td>\n",
       "      <td>0.756</td>\n",
       "      <td>0.084</td>\n",
       "    </tr>\n",
       "    <tr>\n",
       "      <th>9</th>\n",
       "      <td>0.840</td>\n",
       "      <td>0.798</td>\n",
       "      <td>0.042</td>\n",
       "    </tr>\n",
       "  </tbody>\n",
       "</table>\n",
       "</div>"
      ],
      "text/plain": [
       "      rf   tree   diff\n",
       "0  0.844  0.796  0.048\n",
       "1  0.838  0.828  0.010\n",
       "2  0.826  0.814  0.012\n",
       "3  0.848  0.768  0.080\n",
       "4  0.840  0.784  0.056\n",
       "5  0.840  0.826  0.014\n",
       "6  0.838  0.770  0.068\n",
       "7  0.840  0.788  0.052\n",
       "8  0.840  0.756  0.084\n",
       "9  0.840  0.798  0.042"
      ]
     },
     "execution_count": 50,
     "metadata": {},
     "output_type": "execute_result"
    }
   ],
   "source": [
    "results_cv = pd.DataFrame(results_cv)\n",
    "results_cv['diff'] = results_cv.rf - results_cv.tree\n",
    "results_cv"
   ]
  },
  {
   "cell_type": "markdown",
   "metadata": {},
   "source": [
    "#### 3.5 Berechnen Sie abschließend die Standardabweichungen aller Spalten und vergleichen Sie sie mit denen der Train-Test-Split Ergebnisse zuvor. Was fällt Ihnen auf?"
   ]
  },
  {
   "cell_type": "code",
   "execution_count": 51,
   "metadata": {},
   "outputs": [
    {
     "name": "stdout",
     "output_type": "stream",
     "text": [
      "Standard diviation of difference for: \n",
      "Cross Validation \n",
      "rf      0.006\n",
      "tree    0.025\n",
      "diff    0.027\n",
      "dtype: float64 \n",
      " \n",
      " Train-Test-Split \n",
      "rf      0.031\n",
      "tree    0.064\n",
      "diff    0.047\n",
      "dtype: float64\n"
     ]
    }
   ],
   "source": [
    "std_cv =  results_cv.std().round(3)\n",
    "print(f'Standard diviation of difference for: \\nCross Validation \\n{std_cv} \\n \\n Train-Test-Split \\n{std_train_test_split}')"
   ]
  },
  {
   "cell_type": "markdown",
   "metadata": {},
   "source": [
    "Man sieht schnell auf den ersten Blick, dass die Standardabweichungen der Cross Validation durchgehend niedriger sind. Das bedeutet, es gibt weniger Schwankungen und die Ergebnisse sind verlässlicher als mit nur einem Train-Test-Split. "
   ]
  },
  {
   "cell_type": "markdown",
   "metadata": {},
   "source": [
    "#### 4. Cross Validation Funktion\n",
    "#### Scikit-Learn bietet auch eine Funktion die die CV komplett übernehmen kann: `cross_validate()`. Diese ist zwar nicht so flexibel wie die Nutzung von `KFold`, benötigt dafür aber deutlich weniger Zeilen Code.\n",
    "#### Der Einfachheit halber, berechnen Sie dieses mal nur einmal die Accuracy der jeweiligen Modelle durch CV und speichern Sie. Alles was Sie dafür tun müssen, ist die `cross_validate()` Funktion mit dem gewünschten initilaisierten Modell, X, y, und der gewünschten `scoring` Funktion (hier also `'accuracy'`) abzurufen und das Ergebnis in einer Variable zu speichern. Zum initialisieren der Modelle können Sie die anfangs definierte Funktion `init_models()` verwenden. Das Ergebnis der CV wird als Dictionary ausgegeben aus dem Sie mit dem Key 'test_score' einen Numpy Array mit den Scores pro Fold bekommen, von dem Sie dann nur noch den Mittelwert berechnen müssen, bevor Sie die CV-Accuracy eines Modells speichern."
   ]
  },
  {
   "cell_type": "code",
   "execution_count": 52,
   "metadata": {},
   "outputs": [],
   "source": [
    "cv_models = init_models(1)\n",
    "\n",
    "results_cv_fct = {}\n",
    "for model_type in model_types:\n",
    "    cv_obj = cross_validate(estimator=cv_models[model_type] , X=X, y=y, scoring='accuracy')\n",
    "    mean_accuracy = np.mean(cv_obj['test_score'])\n",
    "    results_cv_fct[model_type] = mean_accuracy.round(3)"
   ]
  },
  {
   "cell_type": "markdown",
   "metadata": {},
   "source": [
    "---"
   ]
  },
  {
   "cell_type": "markdown",
   "metadata": {},
   "source": [
    "### 5. Hyperparameter CV Grid Search"
   ]
  },
  {
   "cell_type": "markdown",
   "metadata": {},
   "source": [
    "#### Verwenden Sie die sklearn Klasse `GridSearchCV` um eine Parametersuche über ein Netz an Parameterkombinationen durchzuführen, deren Ergebnisse durch Cross Validation validiert werden.\n",
    "\n",
    "#### Initialisieren Sie dafür als erstes den gewünschten Classifier (bspw. `RandomForestClassifier`) und danach das `GridSearchCV` Objekt mit dem Classifier Objekt sowie `param_grid` und `scoring` als Argumente . Danach kann die Grid Search mit den Trainingsdaten gefittet werden und das Ergebnis als Attribute ausgegeben werden. Welche Parameterkombinationen führen bei Ihnen zur besten Accuracy?  "
   ]
  },
  {
   "cell_type": "code",
   "execution_count": null,
   "metadata": {},
   "outputs": [],
   "source": [
    "random_state = 7\n",
    "metric = \"accuracy\""
   ]
  },
  {
   "cell_type": "code",
   "execution_count": null,
   "metadata": {},
   "outputs": [],
   "source": [
    "params = {'max_depth': [1, 2], \n",
    "          'max_features': [3, 4]\n",
    "          } "
   ]
  },
  {
   "cell_type": "code",
   "execution_count": null,
   "metadata": {},
   "outputs": [],
   "source": [
    "tree_model = DecisionTreeClassifier()\n",
    "rf_model = RandomForestClassifier()\n"
   ]
  },
  {
   "cell_type": "code",
   "execution_count": null,
   "metadata": {},
   "outputs": [
    {
     "data": {
      "text/html": [
       "<style>#sk-container-id-3 {color: black;background-color: white;}#sk-container-id-3 pre{padding: 0;}#sk-container-id-3 div.sk-toggleable {background-color: white;}#sk-container-id-3 label.sk-toggleable__label {cursor: pointer;display: block;width: 100%;margin-bottom: 0;padding: 0.3em;box-sizing: border-box;text-align: center;}#sk-container-id-3 label.sk-toggleable__label-arrow:before {content: \"▸\";float: left;margin-right: 0.25em;color: #696969;}#sk-container-id-3 label.sk-toggleable__label-arrow:hover:before {color: black;}#sk-container-id-3 div.sk-estimator:hover label.sk-toggleable__label-arrow:before {color: black;}#sk-container-id-3 div.sk-toggleable__content {max-height: 0;max-width: 0;overflow: hidden;text-align: left;background-color: #f0f8ff;}#sk-container-id-3 div.sk-toggleable__content pre {margin: 0.2em;color: black;border-radius: 0.25em;background-color: #f0f8ff;}#sk-container-id-3 input.sk-toggleable__control:checked~div.sk-toggleable__content {max-height: 200px;max-width: 100%;overflow: auto;}#sk-container-id-3 input.sk-toggleable__control:checked~label.sk-toggleable__label-arrow:before {content: \"▾\";}#sk-container-id-3 div.sk-estimator input.sk-toggleable__control:checked~label.sk-toggleable__label {background-color: #d4ebff;}#sk-container-id-3 div.sk-label input.sk-toggleable__control:checked~label.sk-toggleable__label {background-color: #d4ebff;}#sk-container-id-3 input.sk-hidden--visually {border: 0;clip: rect(1px 1px 1px 1px);clip: rect(1px, 1px, 1px, 1px);height: 1px;margin: -1px;overflow: hidden;padding: 0;position: absolute;width: 1px;}#sk-container-id-3 div.sk-estimator {font-family: monospace;background-color: #f0f8ff;border: 1px dotted black;border-radius: 0.25em;box-sizing: border-box;margin-bottom: 0.5em;}#sk-container-id-3 div.sk-estimator:hover {background-color: #d4ebff;}#sk-container-id-3 div.sk-parallel-item::after {content: \"\";width: 100%;border-bottom: 1px solid gray;flex-grow: 1;}#sk-container-id-3 div.sk-label:hover label.sk-toggleable__label {background-color: #d4ebff;}#sk-container-id-3 div.sk-serial::before {content: \"\";position: absolute;border-left: 1px solid gray;box-sizing: border-box;top: 0;bottom: 0;left: 50%;z-index: 0;}#sk-container-id-3 div.sk-serial {display: flex;flex-direction: column;align-items: center;background-color: white;padding-right: 0.2em;padding-left: 0.2em;position: relative;}#sk-container-id-3 div.sk-item {position: relative;z-index: 1;}#sk-container-id-3 div.sk-parallel {display: flex;align-items: stretch;justify-content: center;background-color: white;position: relative;}#sk-container-id-3 div.sk-item::before, #sk-container-id-3 div.sk-parallel-item::before {content: \"\";position: absolute;border-left: 1px solid gray;box-sizing: border-box;top: 0;bottom: 0;left: 50%;z-index: -1;}#sk-container-id-3 div.sk-parallel-item {display: flex;flex-direction: column;z-index: 1;position: relative;background-color: white;}#sk-container-id-3 div.sk-parallel-item:first-child::after {align-self: flex-end;width: 50%;}#sk-container-id-3 div.sk-parallel-item:last-child::after {align-self: flex-start;width: 50%;}#sk-container-id-3 div.sk-parallel-item:only-child::after {width: 0;}#sk-container-id-3 div.sk-dashed-wrapped {border: 1px dashed gray;margin: 0 0.4em 0.5em 0.4em;box-sizing: border-box;padding-bottom: 0.4em;background-color: white;}#sk-container-id-3 div.sk-label label {font-family: monospace;font-weight: bold;display: inline-block;line-height: 1.2em;}#sk-container-id-3 div.sk-label-container {text-align: center;}#sk-container-id-3 div.sk-container {/* jupyter's `normalize.less` sets `[hidden] { display: none; }` but bootstrap.min.css set `[hidden] { display: none !important; }` so we also need the `!important` here to be able to override the default hidden behavior on the sphinx rendered scikit-learn.org. See: https://github.com/scikit-learn/scikit-learn/issues/21755 */display: inline-block !important;position: relative;}#sk-container-id-3 div.sk-text-repr-fallback {display: none;}</style><div id=\"sk-container-id-3\" class=\"sk-top-container\"><div class=\"sk-text-repr-fallback\"><pre>GridSearchCV(estimator=RandomForestClassifier(),\n",
       "             param_grid={&#x27;max_depth&#x27;: [1, 2], &#x27;max_features&#x27;: [3, 4]},\n",
       "             scoring=&#x27;accuracy&#x27;)</pre><b>In a Jupyter environment, please rerun this cell to show the HTML representation or trust the notebook. <br />On GitHub, the HTML representation is unable to render, please try loading this page with nbviewer.org.</b></div><div class=\"sk-container\" hidden><div class=\"sk-item sk-dashed-wrapped\"><div class=\"sk-label-container\"><div class=\"sk-label sk-toggleable\"><input class=\"sk-toggleable__control sk-hidden--visually\" id=\"sk-estimator-id-7\" type=\"checkbox\" ><label for=\"sk-estimator-id-7\" class=\"sk-toggleable__label sk-toggleable__label-arrow\">GridSearchCV</label><div class=\"sk-toggleable__content\"><pre>GridSearchCV(estimator=RandomForestClassifier(),\n",
       "             param_grid={&#x27;max_depth&#x27;: [1, 2], &#x27;max_features&#x27;: [3, 4]},\n",
       "             scoring=&#x27;accuracy&#x27;)</pre></div></div></div><div class=\"sk-parallel\"><div class=\"sk-parallel-item\"><div class=\"sk-item\"><div class=\"sk-label-container\"><div class=\"sk-label sk-toggleable\"><input class=\"sk-toggleable__control sk-hidden--visually\" id=\"sk-estimator-id-8\" type=\"checkbox\" ><label for=\"sk-estimator-id-8\" class=\"sk-toggleable__label sk-toggleable__label-arrow\">estimator: RandomForestClassifier</label><div class=\"sk-toggleable__content\"><pre>RandomForestClassifier()</pre></div></div></div><div class=\"sk-serial\"><div class=\"sk-item\"><div class=\"sk-estimator sk-toggleable\"><input class=\"sk-toggleable__control sk-hidden--visually\" id=\"sk-estimator-id-9\" type=\"checkbox\" ><label for=\"sk-estimator-id-9\" class=\"sk-toggleable__label sk-toggleable__label-arrow\">RandomForestClassifier</label><div class=\"sk-toggleable__content\"><pre>RandomForestClassifier()</pre></div></div></div></div></div></div></div></div></div></div>"
      ],
      "text/plain": [
       "GridSearchCV(estimator=RandomForestClassifier(),\n",
       "             param_grid={'max_depth': [1, 2], 'max_features': [3, 4]},\n",
       "             scoring='accuracy')"
      ]
     },
     "metadata": {},
     "output_type": "display_data"
    }
   ],
   "source": [
    "np.random.seed(random_seed)\n",
    "grid_search = GridSearchCV(rf_model, param_grid=params, scoring=metric)\n",
    "grid_search.fit(X_train, y_train)"
   ]
  },
  {
   "cell_type": "code",
   "execution_count": null,
   "metadata": {},
   "outputs": [
    {
     "data": {
      "text/html": [
       "<div>\n",
       "<style scoped>\n",
       "    .dataframe tbody tr th:only-of-type {\n",
       "        vertical-align: middle;\n",
       "    }\n",
       "\n",
       "    .dataframe tbody tr th {\n",
       "        vertical-align: top;\n",
       "    }\n",
       "\n",
       "    .dataframe thead th {\n",
       "        text-align: right;\n",
       "    }\n",
       "</style>\n",
       "<table border=\"1\" class=\"dataframe\">\n",
       "  <thead>\n",
       "    <tr style=\"text-align: right;\">\n",
       "      <th></th>\n",
       "      <th>parameters</th>\n",
       "      <th>accuracy</th>\n",
       "    </tr>\n",
       "  </thead>\n",
       "  <tbody>\n",
       "    <tr>\n",
       "      <th>2</th>\n",
       "      <td>{'max_depth': 2, 'max_features': 3}</td>\n",
       "      <td>0.7975</td>\n",
       "    </tr>\n",
       "    <tr>\n",
       "      <th>3</th>\n",
       "      <td>{'max_depth': 2, 'max_features': 4}</td>\n",
       "      <td>0.7900</td>\n",
       "    </tr>\n",
       "    <tr>\n",
       "      <th>1</th>\n",
       "      <td>{'max_depth': 1, 'max_features': 4}</td>\n",
       "      <td>0.7675</td>\n",
       "    </tr>\n",
       "    <tr>\n",
       "      <th>0</th>\n",
       "      <td>{'max_depth': 1, 'max_features': 3}</td>\n",
       "      <td>0.7525</td>\n",
       "    </tr>\n",
       "  </tbody>\n",
       "</table>\n",
       "</div>"
      ],
      "text/plain": [
       "                            parameters  accuracy\n",
       "2  {'max_depth': 2, 'max_features': 3}    0.7975\n",
       "3  {'max_depth': 2, 'max_features': 4}    0.7900\n",
       "1  {'max_depth': 1, 'max_features': 4}    0.7675\n",
       "0  {'max_depth': 1, 'max_features': 3}    0.7525"
      ]
     },
     "metadata": {},
     "output_type": "display_data"
    }
   ],
   "source": [
    "num_top_values = 5\n",
    "pd.DataFrame({\"parameters\": grid_search.cv_results_['params'],\n",
    "              metric: grid_search.cv_results_['mean_test_score'].round(4)}).sort_values(metric, ascending=False).iloc[:num_top_values, :]"
   ]
  },
  {
   "cell_type": "code",
   "execution_count": null,
   "metadata": {},
   "outputs": [
    {
     "data": {
      "text/plain": [
       "{'max_depth': 2, 'max_features': 3}"
      ]
     },
     "metadata": {},
     "output_type": "display_data"
    }
   ],
   "source": [
    "grid_search.best_params_"
   ]
  },
  {
   "cell_type": "code",
   "execution_count": null,
   "metadata": {},
   "outputs": [
    {
     "data": {
      "text/plain": [
       "0.7975000000000001"
      ]
     },
     "metadata": {},
     "output_type": "display_data"
    }
   ],
   "source": [
    "grid_search.best_score_"
   ]
  },
  {
   "cell_type": "code",
   "execution_count": null,
   "metadata": {},
   "outputs": [
    {
     "data": {
      "text/html": [
       "<div>\n",
       "<style scoped>\n",
       "    .dataframe tbody tr th:only-of-type {\n",
       "        vertical-align: middle;\n",
       "    }\n",
       "\n",
       "    .dataframe tbody tr th {\n",
       "        vertical-align: top;\n",
       "    }\n",
       "\n",
       "    .dataframe thead th {\n",
       "        text-align: right;\n",
       "    }\n",
       "</style>\n",
       "<table border=\"1\" class=\"dataframe\">\n",
       "  <thead>\n",
       "    <tr style=\"text-align: right;\">\n",
       "      <th></th>\n",
       "      <th>mean_fit_time</th>\n",
       "      <th>std_fit_time</th>\n",
       "      <th>mean_score_time</th>\n",
       "      <th>std_score_time</th>\n",
       "      <th>param_max_depth</th>\n",
       "      <th>param_max_features</th>\n",
       "      <th>params</th>\n",
       "      <th>split0_test_score</th>\n",
       "      <th>split1_test_score</th>\n",
       "      <th>split2_test_score</th>\n",
       "      <th>split3_test_score</th>\n",
       "      <th>split4_test_score</th>\n",
       "      <th>mean_test_score</th>\n",
       "      <th>std_test_score</th>\n",
       "      <th>rank_test_score</th>\n",
       "    </tr>\n",
       "  </thead>\n",
       "  <tbody>\n",
       "    <tr>\n",
       "      <th>0</th>\n",
       "      <td>0.094125</td>\n",
       "      <td>0.009753</td>\n",
       "      <td>0.007830</td>\n",
       "      <td>0.000115</td>\n",
       "      <td>1</td>\n",
       "      <td>3</td>\n",
       "      <td>{'max_depth': 1, 'max_features': 3}</td>\n",
       "      <td>0.6875</td>\n",
       "      <td>0.775</td>\n",
       "      <td>0.800</td>\n",
       "      <td>0.7000</td>\n",
       "      <td>0.8000</td>\n",
       "      <td>0.7525</td>\n",
       "      <td>0.048990</td>\n",
       "      <td>4</td>\n",
       "    </tr>\n",
       "    <tr>\n",
       "      <th>1</th>\n",
       "      <td>0.080908</td>\n",
       "      <td>0.000434</td>\n",
       "      <td>0.007315</td>\n",
       "      <td>0.000086</td>\n",
       "      <td>1</td>\n",
       "      <td>4</td>\n",
       "      <td>{'max_depth': 1, 'max_features': 4}</td>\n",
       "      <td>0.6750</td>\n",
       "      <td>0.800</td>\n",
       "      <td>0.825</td>\n",
       "      <td>0.7000</td>\n",
       "      <td>0.8375</td>\n",
       "      <td>0.7675</td>\n",
       "      <td>0.066895</td>\n",
       "      <td>3</td>\n",
       "    </tr>\n",
       "    <tr>\n",
       "      <th>2</th>\n",
       "      <td>0.084897</td>\n",
       "      <td>0.002686</td>\n",
       "      <td>0.007492</td>\n",
       "      <td>0.000199</td>\n",
       "      <td>2</td>\n",
       "      <td>3</td>\n",
       "      <td>{'max_depth': 2, 'max_features': 3}</td>\n",
       "      <td>0.7750</td>\n",
       "      <td>0.800</td>\n",
       "      <td>0.825</td>\n",
       "      <td>0.7750</td>\n",
       "      <td>0.8125</td>\n",
       "      <td>0.7975</td>\n",
       "      <td>0.020000</td>\n",
       "      <td>1</td>\n",
       "    </tr>\n",
       "    <tr>\n",
       "      <th>3</th>\n",
       "      <td>0.082871</td>\n",
       "      <td>0.001241</td>\n",
       "      <td>0.007365</td>\n",
       "      <td>0.000121</td>\n",
       "      <td>2</td>\n",
       "      <td>4</td>\n",
       "      <td>{'max_depth': 2, 'max_features': 4}</td>\n",
       "      <td>0.7125</td>\n",
       "      <td>0.800</td>\n",
       "      <td>0.825</td>\n",
       "      <td>0.7875</td>\n",
       "      <td>0.8250</td>\n",
       "      <td>0.7900</td>\n",
       "      <td>0.041382</td>\n",
       "      <td>2</td>\n",
       "    </tr>\n",
       "  </tbody>\n",
       "</table>\n",
       "</div>"
      ],
      "text/plain": [
       "   mean_fit_time  std_fit_time  mean_score_time  std_score_time  \\\n",
       "0       0.094125      0.009753         0.007830        0.000115   \n",
       "1       0.080908      0.000434         0.007315        0.000086   \n",
       "2       0.084897      0.002686         0.007492        0.000199   \n",
       "3       0.082871      0.001241         0.007365        0.000121   \n",
       "\n",
       "  param_max_depth param_max_features                               params  \\\n",
       "0               1                  3  {'max_depth': 1, 'max_features': 3}   \n",
       "1               1                  4  {'max_depth': 1, 'max_features': 4}   \n",
       "2               2                  3  {'max_depth': 2, 'max_features': 3}   \n",
       "3               2                  4  {'max_depth': 2, 'max_features': 4}   \n",
       "\n",
       "   split0_test_score  split1_test_score  split2_test_score  split3_test_score  \\\n",
       "0             0.6875              0.775              0.800             0.7000   \n",
       "1             0.6750              0.800              0.825             0.7000   \n",
       "2             0.7750              0.800              0.825             0.7750   \n",
       "3             0.7125              0.800              0.825             0.7875   \n",
       "\n",
       "   split4_test_score  mean_test_score  std_test_score  rank_test_score  \n",
       "0             0.8000           0.7525        0.048990                4  \n",
       "1             0.8375           0.7675        0.066895                3  \n",
       "2             0.8125           0.7975        0.020000                1  \n",
       "3             0.8250           0.7900        0.041382                2  "
      ]
     },
     "metadata": {},
     "output_type": "display_data"
    }
   ],
   "source": [
    "pd.DataFrame(grid_search.cv_results_)"
   ]
  },
  {
   "cell_type": "code",
   "execution_count": null,
   "metadata": {},
   "outputs": [],
   "source": []
  }
 ],
 "metadata": {
  "kernelspec": {
   "display_name": "Python 3.10.4 ('gfu_ml_mit_python')",
   "language": "python",
   "name": "python3"
  },
  "language_info": {
   "codemirror_mode": {
    "name": "ipython",
    "version": 3
   },
   "file_extension": ".py",
   "mimetype": "text/x-python",
   "name": "python",
   "nbconvert_exporter": "python",
   "pygments_lexer": "ipython3",
   "version": "3.10.4"
  },
  "orig_nbformat": 4,
  "vscode": {
   "interpreter": {
    "hash": "0e1166dc90c6ad19db3ae428ac3ea9f5581bec6628e992e5e8a49407ac47f380"
   }
  }
 },
 "nbformat": 4,
 "nbformat_minor": 2
}

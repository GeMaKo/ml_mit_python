{
 "cells": [
  {
   "cell_type": "markdown",
   "metadata": {},
   "source": [
    "# Train Test Split und Cross Validation"
   ]
  },
  {
   "cell_type": "code",
   "execution_count": 94,
   "metadata": {},
   "outputs": [],
   "source": [
    "import numpy as np\n",
    "import pandas as pd\n",
    "\n",
    "from sklearn.model_selection import train_test_split, KFold, cross_validate\n",
    "from sklearn.ensemble import RandomForestClassifier\n",
    "from sklearn.tree import DecisionTreeClassifier\n",
    "from sklearn.metrics import accuracy_score, roc_auc_score\n"
   ]
  },
  {
   "cell_type": "code",
   "execution_count": 2,
   "metadata": {},
   "outputs": [],
   "source": [
    "pd.set_option('display.max_columns', 21)"
   ]
  },
  {
   "cell_type": "markdown",
   "metadata": {},
   "source": [
    "### Daten einlesen"
   ]
  },
  {
   "cell_type": "code",
   "execution_count": 3,
   "metadata": {},
   "outputs": [],
   "source": [
    "spam_df = pd.read_csv('https://vincentarelbundock.github.io/Rdatasets/csv/openintro/email.csv', index_col=0)"
   ]
  },
  {
   "cell_type": "markdown",
   "metadata": {},
   "source": [
    "### Variable Explanation\n",
    "| Variable | Explanation |\n",
    "|--- | --- |\n",
    "| spam | Indicator for whether the email was spam. |\n",
    "| to_multiple | Indicator for whether the email was addressed to more than one recipient. |\n",
    "| from | Whether the message was listed as from anyone (this is usually set by default for regular outgoing email). |\n",
    "| cc | Number of people cc'ed. |\n",
    "| sent_email | Indicator for whether the sender had been sent an email in the last 30 days. |\n",
    "| time | Time at which email was sent. |\n",
    "| image | The number of images attached. |\n",
    "| attach | The number of attached files. |\n",
    "| dollar | The number of times a dollar sign or the word “dollar” appeared in the email. |\n",
    "| winner | Indicates whether “winner” appeared in the email. |\n",
    "| inherit | The number of times “inherit” (or an extension, such as “inheritance”) appeared in the email. |\n",
    "| viagra | The number of times “viagra” appeared in the email. |\n",
    "| password | The number of times “password” appeared in the email. |\n",
    "| num_char | The number of characters in the email, in thousands. |\n",
    "| line_breaks | The number of line breaks in the email (does not count text wrapping). |\n",
    "| format | Indicates whether the email was written using HTML (e.g. may have included bolding or active links). |\n",
    "| re_subj | Whether the subject started with “Re:”, “RE:”, “re:”, or “rE:” |\n",
    "| exclaim_subj | Whether there was an exclamation point in the subject. |\n",
    "| urgent_subj | Whether the word “urgent” was in the email subject. |\n",
    "| exclaim_mess | The number of exclamation points in the email message. |\n",
    "| number | Factor variable saying whether there was no number, a small number (under 1 million), or a big number. |\n"
   ]
  },
  {
   "cell_type": "code",
   "execution_count": 4,
   "metadata": {},
   "outputs": [],
   "source": [
    "random_seed = 5"
   ]
  },
  {
   "cell_type": "markdown",
   "metadata": {},
   "source": [
    "### Daten vorbereiten"
   ]
  },
  {
   "cell_type": "code",
   "execution_count": 5,
   "metadata": {},
   "outputs": [],
   "source": [
    "spam_df.drop(columns='time', inplace=True)"
   ]
  },
  {
   "cell_type": "markdown",
   "metadata": {},
   "source": [
    "#### Binäre kategoriale Variablen in Dummy Variablen umwandeln (0-1-Encodierung) "
   ]
  },
  {
   "cell_type": "code",
   "execution_count": 6,
   "metadata": {},
   "outputs": [],
   "source": [
    "spam_df = pd.get_dummies(spam_df, columns=['winner', 'number'], drop_first=True)\n"
   ]
  },
  {
   "cell_type": "markdown",
   "metadata": {},
   "source": [
    "#### Downsampling\n"
   ]
  },
  {
   "cell_type": "markdown",
   "metadata": {},
   "source": [
    "Downsampling, die gezielte Reduzierung des Datasets, ist hier aus zweierlei Hinsicht nützlich. Zum einen erleichtert es das Vorgehen im Folgenden, da so ein ausgeglichenes Dataset hinsichtlich der Zielvariable erstellt werden kann. Zum anderen reduziert ein kleineres Dataset natürlich auch die Zeit die das wiederholte Training erfordert."
   ]
  },
  {
   "cell_type": "code",
   "execution_count": 7,
   "metadata": {},
   "outputs": [],
   "source": [
    "num_spam_labels = 250  # spam_df.spam.sum()\n",
    "\n",
    "spam_df_downsampled = spam_df.groupby('spam').sample(n=num_spam_labels, random_state=random_seed).reset_index(drop=True)"
   ]
  },
  {
   "cell_type": "code",
   "execution_count": 8,
   "metadata": {},
   "outputs": [
    {
     "data": {
      "text/html": [
       "<div>\n",
       "<style scoped>\n",
       "    .dataframe tbody tr th:only-of-type {\n",
       "        vertical-align: middle;\n",
       "    }\n",
       "\n",
       "    .dataframe tbody tr th {\n",
       "        vertical-align: top;\n",
       "    }\n",
       "\n",
       "    .dataframe thead th {\n",
       "        text-align: right;\n",
       "    }\n",
       "</style>\n",
       "<table border=\"1\" class=\"dataframe\">\n",
       "  <thead>\n",
       "    <tr style=\"text-align: right;\">\n",
       "      <th></th>\n",
       "      <th>spam</th>\n",
       "      <th>to_multiple</th>\n",
       "      <th>from</th>\n",
       "      <th>cc</th>\n",
       "      <th>sent_email</th>\n",
       "      <th>image</th>\n",
       "      <th>attach</th>\n",
       "      <th>dollar</th>\n",
       "      <th>inherit</th>\n",
       "      <th>viagra</th>\n",
       "      <th>password</th>\n",
       "      <th>num_char</th>\n",
       "      <th>line_breaks</th>\n",
       "      <th>format</th>\n",
       "      <th>re_subj</th>\n",
       "      <th>exclaim_subj</th>\n",
       "      <th>urgent_subj</th>\n",
       "      <th>exclaim_mess</th>\n",
       "      <th>winner_yes</th>\n",
       "      <th>number_none</th>\n",
       "      <th>number_small</th>\n",
       "    </tr>\n",
       "  </thead>\n",
       "  <tbody>\n",
       "    <tr>\n",
       "      <th>0</th>\n",
       "      <td>0</td>\n",
       "      <td>1</td>\n",
       "      <td>1</td>\n",
       "      <td>0</td>\n",
       "      <td>0</td>\n",
       "      <td>0</td>\n",
       "      <td>0</td>\n",
       "      <td>0</td>\n",
       "      <td>0</td>\n",
       "      <td>0</td>\n",
       "      <td>0</td>\n",
       "      <td>11.639</td>\n",
       "      <td>240</td>\n",
       "      <td>1</td>\n",
       "      <td>0</td>\n",
       "      <td>0</td>\n",
       "      <td>0</td>\n",
       "      <td>5</td>\n",
       "      <td>0</td>\n",
       "      <td>0</td>\n",
       "      <td>1</td>\n",
       "    </tr>\n",
       "    <tr>\n",
       "      <th>1</th>\n",
       "      <td>0</td>\n",
       "      <td>1</td>\n",
       "      <td>1</td>\n",
       "      <td>0</td>\n",
       "      <td>0</td>\n",
       "      <td>0</td>\n",
       "      <td>0</td>\n",
       "      <td>0</td>\n",
       "      <td>0</td>\n",
       "      <td>0</td>\n",
       "      <td>0</td>\n",
       "      <td>39.805</td>\n",
       "      <td>499</td>\n",
       "      <td>0</td>\n",
       "      <td>1</td>\n",
       "      <td>0</td>\n",
       "      <td>0</td>\n",
       "      <td>0</td>\n",
       "      <td>0</td>\n",
       "      <td>0</td>\n",
       "      <td>0</td>\n",
       "    </tr>\n",
       "    <tr>\n",
       "      <th>2</th>\n",
       "      <td>0</td>\n",
       "      <td>1</td>\n",
       "      <td>1</td>\n",
       "      <td>0</td>\n",
       "      <td>0</td>\n",
       "      <td>0</td>\n",
       "      <td>0</td>\n",
       "      <td>0</td>\n",
       "      <td>0</td>\n",
       "      <td>0</td>\n",
       "      <td>0</td>\n",
       "      <td>4.614</td>\n",
       "      <td>51</td>\n",
       "      <td>0</td>\n",
       "      <td>0</td>\n",
       "      <td>0</td>\n",
       "      <td>0</td>\n",
       "      <td>0</td>\n",
       "      <td>0</td>\n",
       "      <td>0</td>\n",
       "      <td>1</td>\n",
       "    </tr>\n",
       "    <tr>\n",
       "      <th>3</th>\n",
       "      <td>0</td>\n",
       "      <td>0</td>\n",
       "      <td>1</td>\n",
       "      <td>0</td>\n",
       "      <td>0</td>\n",
       "      <td>0</td>\n",
       "      <td>0</td>\n",
       "      <td>0</td>\n",
       "      <td>0</td>\n",
       "      <td>0</td>\n",
       "      <td>0</td>\n",
       "      <td>1.118</td>\n",
       "      <td>13</td>\n",
       "      <td>0</td>\n",
       "      <td>0</td>\n",
       "      <td>0</td>\n",
       "      <td>0</td>\n",
       "      <td>0</td>\n",
       "      <td>0</td>\n",
       "      <td>0</td>\n",
       "      <td>1</td>\n",
       "    </tr>\n",
       "    <tr>\n",
       "      <th>4</th>\n",
       "      <td>0</td>\n",
       "      <td>0</td>\n",
       "      <td>1</td>\n",
       "      <td>0</td>\n",
       "      <td>0</td>\n",
       "      <td>0</td>\n",
       "      <td>0</td>\n",
       "      <td>0</td>\n",
       "      <td>0</td>\n",
       "      <td>0</td>\n",
       "      <td>0</td>\n",
       "      <td>13.008</td>\n",
       "      <td>194</td>\n",
       "      <td>0</td>\n",
       "      <td>0</td>\n",
       "      <td>0</td>\n",
       "      <td>0</td>\n",
       "      <td>0</td>\n",
       "      <td>0</td>\n",
       "      <td>0</td>\n",
       "      <td>0</td>\n",
       "    </tr>\n",
       "    <tr>\n",
       "      <th>...</th>\n",
       "      <td>...</td>\n",
       "      <td>...</td>\n",
       "      <td>...</td>\n",
       "      <td>...</td>\n",
       "      <td>...</td>\n",
       "      <td>...</td>\n",
       "      <td>...</td>\n",
       "      <td>...</td>\n",
       "      <td>...</td>\n",
       "      <td>...</td>\n",
       "      <td>...</td>\n",
       "      <td>...</td>\n",
       "      <td>...</td>\n",
       "      <td>...</td>\n",
       "      <td>...</td>\n",
       "      <td>...</td>\n",
       "      <td>...</td>\n",
       "      <td>...</td>\n",
       "      <td>...</td>\n",
       "      <td>...</td>\n",
       "      <td>...</td>\n",
       "    </tr>\n",
       "    <tr>\n",
       "      <th>495</th>\n",
       "      <td>1</td>\n",
       "      <td>0</td>\n",
       "      <td>1</td>\n",
       "      <td>0</td>\n",
       "      <td>0</td>\n",
       "      <td>0</td>\n",
       "      <td>0</td>\n",
       "      <td>0</td>\n",
       "      <td>0</td>\n",
       "      <td>0</td>\n",
       "      <td>0</td>\n",
       "      <td>2.311</td>\n",
       "      <td>59</td>\n",
       "      <td>1</td>\n",
       "      <td>0</td>\n",
       "      <td>0</td>\n",
       "      <td>0</td>\n",
       "      <td>1</td>\n",
       "      <td>0</td>\n",
       "      <td>0</td>\n",
       "      <td>1</td>\n",
       "    </tr>\n",
       "    <tr>\n",
       "      <th>496</th>\n",
       "      <td>1</td>\n",
       "      <td>0</td>\n",
       "      <td>1</td>\n",
       "      <td>0</td>\n",
       "      <td>0</td>\n",
       "      <td>0</td>\n",
       "      <td>0</td>\n",
       "      <td>0</td>\n",
       "      <td>0</td>\n",
       "      <td>0</td>\n",
       "      <td>0</td>\n",
       "      <td>13.521</td>\n",
       "      <td>247</td>\n",
       "      <td>1</td>\n",
       "      <td>0</td>\n",
       "      <td>0</td>\n",
       "      <td>0</td>\n",
       "      <td>16</td>\n",
       "      <td>0</td>\n",
       "      <td>0</td>\n",
       "      <td>1</td>\n",
       "    </tr>\n",
       "    <tr>\n",
       "      <th>497</th>\n",
       "      <td>1</td>\n",
       "      <td>0</td>\n",
       "      <td>1</td>\n",
       "      <td>0</td>\n",
       "      <td>0</td>\n",
       "      <td>0</td>\n",
       "      <td>0</td>\n",
       "      <td>2</td>\n",
       "      <td>0</td>\n",
       "      <td>0</td>\n",
       "      <td>0</td>\n",
       "      <td>1.377</td>\n",
       "      <td>43</td>\n",
       "      <td>0</td>\n",
       "      <td>0</td>\n",
       "      <td>0</td>\n",
       "      <td>0</td>\n",
       "      <td>0</td>\n",
       "      <td>0</td>\n",
       "      <td>0</td>\n",
       "      <td>1</td>\n",
       "    </tr>\n",
       "    <tr>\n",
       "      <th>498</th>\n",
       "      <td>1</td>\n",
       "      <td>0</td>\n",
       "      <td>1</td>\n",
       "      <td>0</td>\n",
       "      <td>0</td>\n",
       "      <td>0</td>\n",
       "      <td>0</td>\n",
       "      <td>0</td>\n",
       "      <td>0</td>\n",
       "      <td>0</td>\n",
       "      <td>0</td>\n",
       "      <td>0.775</td>\n",
       "      <td>15</td>\n",
       "      <td>1</td>\n",
       "      <td>0</td>\n",
       "      <td>0</td>\n",
       "      <td>0</td>\n",
       "      <td>1</td>\n",
       "      <td>0</td>\n",
       "      <td>0</td>\n",
       "      <td>1</td>\n",
       "    </tr>\n",
       "    <tr>\n",
       "      <th>499</th>\n",
       "      <td>1</td>\n",
       "      <td>0</td>\n",
       "      <td>1</td>\n",
       "      <td>0</td>\n",
       "      <td>0</td>\n",
       "      <td>0</td>\n",
       "      <td>0</td>\n",
       "      <td>4</td>\n",
       "      <td>0</td>\n",
       "      <td>0</td>\n",
       "      <td>0</td>\n",
       "      <td>6.415</td>\n",
       "      <td>113</td>\n",
       "      <td>1</td>\n",
       "      <td>0</td>\n",
       "      <td>0</td>\n",
       "      <td>0</td>\n",
       "      <td>0</td>\n",
       "      <td>0</td>\n",
       "      <td>0</td>\n",
       "      <td>1</td>\n",
       "    </tr>\n",
       "  </tbody>\n",
       "</table>\n",
       "<p>500 rows × 21 columns</p>\n",
       "</div>"
      ],
      "text/plain": [
       "     spam  to_multiple  from  cc  sent_email  image  attach  dollar  inherit  \\\n",
       "0       0            1     1   0           0      0       0       0        0   \n",
       "1       0            1     1   0           0      0       0       0        0   \n",
       "2       0            1     1   0           0      0       0       0        0   \n",
       "3       0            0     1   0           0      0       0       0        0   \n",
       "4       0            0     1   0           0      0       0       0        0   \n",
       "..    ...          ...   ...  ..         ...    ...     ...     ...      ...   \n",
       "495     1            0     1   0           0      0       0       0        0   \n",
       "496     1            0     1   0           0      0       0       0        0   \n",
       "497     1            0     1   0           0      0       0       2        0   \n",
       "498     1            0     1   0           0      0       0       0        0   \n",
       "499     1            0     1   0           0      0       0       4        0   \n",
       "\n",
       "     viagra  password  num_char  line_breaks  format  re_subj  exclaim_subj  \\\n",
       "0         0         0    11.639          240       1        0             0   \n",
       "1         0         0    39.805          499       0        1             0   \n",
       "2         0         0     4.614           51       0        0             0   \n",
       "3         0         0     1.118           13       0        0             0   \n",
       "4         0         0    13.008          194       0        0             0   \n",
       "..      ...       ...       ...          ...     ...      ...           ...   \n",
       "495       0         0     2.311           59       1        0             0   \n",
       "496       0         0    13.521          247       1        0             0   \n",
       "497       0         0     1.377           43       0        0             0   \n",
       "498       0         0     0.775           15       1        0             0   \n",
       "499       0         0     6.415          113       1        0             0   \n",
       "\n",
       "     urgent_subj  exclaim_mess  winner_yes  number_none  number_small  \n",
       "0              0             5           0            0             1  \n",
       "1              0             0           0            0             0  \n",
       "2              0             0           0            0             1  \n",
       "3              0             0           0            0             1  \n",
       "4              0             0           0            0             0  \n",
       "..           ...           ...         ...          ...           ...  \n",
       "495            0             1           0            0             1  \n",
       "496            0            16           0            0             1  \n",
       "497            0             0           0            0             1  \n",
       "498            0             1           0            0             1  \n",
       "499            0             0           0            0             1  \n",
       "\n",
       "[500 rows x 21 columns]"
      ]
     },
     "execution_count": 8,
     "metadata": {},
     "output_type": "execute_result"
    }
   ],
   "source": [
    "spam_df_downsampled"
   ]
  },
  {
   "cell_type": "markdown",
   "metadata": {},
   "source": [
    "### Training und Validierung"
   ]
  },
  {
   "cell_type": "markdown",
   "metadata": {},
   "source": [
    "#### 1. Erstellen Sie als erstes X und y Variablen. Transformieren Sie dafür die Zielvariable `'spam'` aus `spam_df_downsampled` zu einem Numpy Array mit der `to_numpy()` Methode. Tun Sie das gleiche für die restlichen Variablen und speichern Sie sie in X ab."
   ]
  },
  {
   "cell_type": "markdown",
   "metadata": {},
   "source": [
    "### "
   ]
  },
  {
   "cell_type": "code",
   "execution_count": null,
   "metadata": {},
   "outputs": [],
   "source": []
  },
  {
   "cell_type": "markdown",
   "metadata": {},
   "source": [
    "#### 2.1 Als erstes nehmen wir die `train_test_split` Funktion unter die Lupe. Verwenden Sie die Funktion mit X, y und einer Testsetgröße von 0.2, sprich 20%. Speichern Sie die zurückgegebenen Objekte in den jeweils passenden Variablen `X_train, X_test, y_train, y_test` ab. Geben Sie danach die Zeilen und Spalten Anzahl (`shape`) der jeweiligen Variablen aus und überprüfen Sie sie auf Plausibilität."
   ]
  },
  {
   "cell_type": "code",
   "execution_count": null,
   "metadata": {},
   "outputs": [],
   "source": []
  },
  {
   "cell_type": "markdown",
   "metadata": {},
   "source": [
    "#### 2.2 Nun können Sie `train_test_splitt` anwenden. Verwenden Sie im folgenden die Funktion `fit_predict` um Modelle zu trainieren, Vorhersagen für das Testset zu erstellen und den Wert der Accuracy Metrik auszugeben. Nutzen Sie innerhalb eines for-Loops erst `train_test_split` zum erstellen der Trainings- und Testvariablen, wenden Sie dann `fit_predict` an um die Accuracy für die Modelle Random Forest und Decission Tree zu berechnen und speichern Sie schließlich die Ergebnisse zur späteren Analyse ab, bspw. in einem `Dictionary` oder entsprechenden `List`s.\n",
    "#### Dabei sollten es 10 Wiederholungen sein und idealerweise vergeben Sie bei jeder Wiederholung einen vorgegebenen, aber sich zwischen den Wiederholungen unterscheidenden, `random_state` für `train_test_split` und `fit_predict`. Dieser Random State, eine ganze Zahl >=0, ermöglicht eine Replizierbarkeit Ihrer Ergebnisse. Eine einfache Möglichkeit dafür ist zum Beispiel die Ausgabe der `range()` Funktion als `random_state` zu verwenden."
   ]
  },
  {
   "cell_type": "code",
   "execution_count": 103,
   "metadata": {},
   "outputs": [],
   "source": [
    "def init_models(random_state=None):\n",
    "    '''Initializes models with set parameters and returns them in a dictionary'''\n",
    "    tree_model = DecisionTreeClassifier(max_depth=5, max_features=6, random_state=random_state)\n",
    "    rf_model = RandomForestClassifier(100, max_depth=15, max_features=6, random_state=random_state)\n",
    "\n",
    "    return {'tree': tree_model, 'rf': rf_model}\n",
    "\n",
    "def fit_predict(X_train, X_test, y_train, y_test, model_type: str, random_state=None):\n",
    "    '''\n",
    "    Initilazes and fits model on given train data and then predicts on test data\n",
    "    \n",
    "    returns: test predictions accuracy\n",
    "    '''\n",
    "    models = init_models(random_state)\n",
    "    model = models[model_type]\n",
    "\n",
    "    model.fit(X_train, y_train)\n",
    "\n",
    "    y_pred = model.predict(X_test)\n",
    "\n",
    "    test_accuracy = accuracy_score(y_test, y_pred)\n",
    "\n",
    "    return test_accuracy\n",
    "\n"
   ]
  },
  {
   "cell_type": "code",
   "execution_count": null,
   "metadata": {},
   "outputs": [],
   "source": []
  },
  {
   "cell_type": "markdown",
   "metadata": {},
   "source": [
    "#### 2.3 Als nächstes können Sie jetzt Ihre Ergebnisse untersuchen. Am einfachsten ist es einen Pandas Dataframe zu erstellen in dem Sie die Ergebnisse des jeweiligen Modells in einer Spalte speichern. Berechnen Sie anschließend die paarweise Differenz zwischen Random Forest und Decision Tree Ergebnissen für jeden Durchgang um die größe der Abweichungen zu erkennen und geben Sie das Ergebnis aus."
   ]
  },
  {
   "cell_type": "code",
   "execution_count": null,
   "metadata": {},
   "outputs": [],
   "source": []
  },
  {
   "cell_type": "markdown",
   "metadata": {},
   "source": [
    "#### 2.4 Zuletzt können Sie nun die Standardabweichung (`str`) der jeweiligen Spalten berechnen. Wir werden sie im Folgenden mit den Werten der anderen Methode, Cross Validation, vergleichen."
   ]
  },
  {
   "cell_type": "code",
   "execution_count": null,
   "metadata": {},
   "outputs": [],
   "source": []
  },
  {
   "cell_type": "markdown",
   "metadata": {},
   "source": [
    "#### 3.1 Im folgenden werden wir die Validierungsmethode Cross Validation (CV) verwenden. Sklearn bietet verschiedene Formen der CV an und es gibt ebenso unterschiedliche Methoden Sie zu implementieren. Wir verwenden als erstes die Klasse `KFold`, die hilft ein Dataset in mehrere gleichgroße Abschnitte (Folds) zu unterteilen. Probieren Sie es als erstes aus indem Sie ein KFold Objekt mit 5 Folds und gemischt (shuffle) initialisieren und in einer Variable speichern. Anschließend können Sie die `split()` Methode verwenden um Train- und Testindizes für X zu erlangen und mit der `next()` Funktion, wie in einem for-Loop, das nächste Element auszugeben, was in diesem Fall die beiden Variablen der Indizes sind.\n",
    "#### Benennen Sie die Variablen entsprechend mit `train_id, test_id` und geben Sie die `shape` der beiden aus. Außerdem können Sie einen Blick auf die ersten 10 Elemente werfen um einen besseren Eindruck zu bekommen. Falls Sie bei einem der Schritte Hilfe benötigen bietet es sich immer an die `help()` Funktion zu bemühen. Die Dokumentation von KFold enthält etwa auch ein Beispiel wie es angewendet wird."
   ]
  },
  {
   "cell_type": "code",
   "execution_count": null,
   "metadata": {},
   "outputs": [],
   "source": []
  },
  {
   "cell_type": "markdown",
   "metadata": {},
   "source": [
    "#### 3.2 Lassen Sie uns jetzt CV anwenden. Initialisieren Sie `KFold` und nutzen Sie anschließend einen Loop um nach und nach die Indizes der jeweiligen Fold auszugeben. Diese können Sie dann verwenden um X und y mit ihnen zu indizieren und so ` X_train, X_test` bzw.  `y_train, y_test` zu erstellen. Darauf folgend können Sie wie zuvor die `fit_predict` Funktion nutzen um mit dem jeweiligen Modell einen Accuracy Score auszugeben. Zuletzt muss noch der Mittelwert (`np.mean()`) der Accuracy Werte über alle Folds pro Modell berechnet werden."
   ]
  },
  {
   "cell_type": "code",
   "execution_count": null,
   "metadata": {},
   "outputs": [],
   "source": []
  },
  {
   "cell_type": "markdown",
   "metadata": {},
   "source": [
    "#### 3.3 Da wir CV mit Train-Test-Split vergleichen möchten, muss auch CV 10 mal durchgeführt. Erstellen Sie also wieder einen Loop mit 10 Wiederholungen in dem die Accuracy pro Modell durch CV ermittelt und gespeichert wird. Nutzen Sie dafür gerne auch den in der vorherigen Teilaufgabe geschriebenen Code wieder. Unabhängig davon auf welche Art und Weise Sie es implementieren, ist das Ziel am Ende 10 Werte pro Modell zu haben, die jeweils den Mittelwert aller Folds (5) eines kompletten CV Durchgangs abbilden. Verwenden Sie idealerweise auch hier wieder `random_state`s um Ihre Ergebnisse replizierbar zu machen."
   ]
  },
  {
   "cell_type": "code",
   "execution_count": null,
   "metadata": {},
   "outputs": [],
   "source": []
  },
  {
   "cell_type": "markdown",
   "metadata": {},
   "source": [
    "#### 3.4 Nachdem Sie alle Accuracy Werte gesammelt haben, können Sie nun wieder einen Pandas Dataframe erstellen und die Differenz beider Spalten berechnen. "
   ]
  },
  {
   "cell_type": "code",
   "execution_count": null,
   "metadata": {},
   "outputs": [],
   "source": []
  },
  {
   "cell_type": "markdown",
   "metadata": {},
   "source": [
    "#### 3.5 Berechnen Sie abschließend die Standardabweichungen aller Spalten und vergleichen Sie sie mit denen der Train-Test-Split Ergebnisse zuvor. Was fällt Ihnen auf?"
   ]
  },
  {
   "cell_type": "code",
   "execution_count": null,
   "metadata": {},
   "outputs": [],
   "source": []
  },
  {
   "cell_type": "markdown",
   "metadata": {},
   "source": [
    "#### 4. Cross Validation Funktion\n",
    "#### Scikit-Learn bietet auch eine Funktion die die CV komplett übernehmen kann `cross_validate()`. Diese ist zwar nicht so flexibel wie die Nutzung von `KFold`, benötigt dafür aber deutlich weniger Zeilen Code.\n",
    "#### Der Einfachheit halber, berechnen Sie dieses mal nur einmal die Accuracy der jeweiligen Modelle durch CV und speichern Sie. Alles was Sie dafür tun müssen, ist die `cross_validate()` Funktion mit dem gewünschten initilaisierten Modell, X, y, und der gewünschten `scoring` Funktion (hier also `'accuracy'`) abzurufen und das Ergebnis in einer Variable zu speichern. Zum initialisieren der Modelle können Sie die anfangs definierte Funktion `init_models()` verwenden. Das Ergebnis der CV wird als Dictionary ausgegeben aus dem Sie mit dem Key 'test_score' einen Numpy Array mit den Scores pro Fold bekommen, von dem Sie dann nur noch den Mittelwert berechnen müssen, bevor Sie die CV-Accuracy eines Modells speichern."
   ]
  },
  {
   "cell_type": "markdown",
   "metadata": {},
   "source": [
    "---"
   ]
  },
  {
   "cell_type": "markdown",
   "metadata": {},
   "source": [
    "### 5. Hyperparameter CV Grid Search"
   ]
  },
  {
   "cell_type": "markdown",
   "metadata": {},
   "source": [
    "#### Verwenden Sie die sklearn Klasse `GridSearchCV` um eine Parametersuche über ein Netz an Parameterkombinationen durchzuführen, deren Ergebnisse durch Cross Validation validiert werden.\n",
    "\n",
    "#### Initialisieren Sie dafür als erstes den gewünschten Classifier (bspw. `RandomForestClassifier`) und danach das `GridSearchCV` Objekt mit dem Classifier Objekt sowie `param_grid` und `scoring` als Argumente . Danach kann die Grid Search mit den Trainingsdaten gefittet werden und das Ergebnis als Attribute ausgegeben werden. Welche Parameterkombinationen führen bei Ihnen zur besten Accuracy?  "
   ]
  },
  {
   "cell_type": "code",
   "execution_count": null,
   "metadata": {},
   "outputs": [],
   "source": [
    "random_state = 7\n",
    "metric = \"accuracy\""
   ]
  },
  {
   "cell_type": "code",
   "execution_count": null,
   "metadata": {},
   "outputs": [],
   "source": [
    "params = {'max_depth': [1, 2], \n",
    "          'max_features': [3, 4]\n",
    "          } "
   ]
  },
  {
   "cell_type": "code",
   "execution_count": null,
   "metadata": {},
   "outputs": [],
   "source": []
  }
 ],
 "metadata": {
  "interpreter": {
   "hash": "239b5dd5973e51abb1f3b5d7d995b2ec6daea8fa183bba9dc415fe2fd8391f47"
  },
  "kernelspec": {
   "display_name": "Python 3.10.0 ('gfu_exercises')",
   "language": "python",
   "name": "python3"
  },
  "language_info": {
   "codemirror_mode": {
    "name": "ipython",
    "version": 3
   },
   "file_extension": ".py",
   "mimetype": "text/x-python",
   "name": "python",
   "nbconvert_exporter": "python",
   "pygments_lexer": "ipython3",
   "version": "3.10.0"
  },
  "orig_nbformat": 4
 },
 "nbformat": 4,
 "nbformat_minor": 2
}

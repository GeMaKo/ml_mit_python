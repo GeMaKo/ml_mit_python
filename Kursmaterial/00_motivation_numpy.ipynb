{
 "cells": [
  {
   "cell_type": "code",
   "execution_count": 1,
   "metadata": {},
   "outputs": [],
   "source": [
    "import numpy as np\n",
    "import matplotlib.pyplot as plt"
   ]
  },
  {
   "cell_type": "code",
   "execution_count": 2,
   "metadata": {},
   "outputs": [
    {
     "data": {
      "text/plain": [
       "array([0.29339088, 0.54590258, 0.61630081, ..., 0.83452809, 0.79253034,\n",
       "       0.88623874])"
      ]
     },
     "execution_count": 2,
     "metadata": {},
     "output_type": "execute_result"
    }
   ],
   "source": [
    "x = np.random.rand(10000)\n",
    "x"
   ]
  },
  {
   "cell_type": "code",
   "execution_count": 3,
   "metadata": {},
   "outputs": [
    {
     "data": {
      "text/plain": [
       "(array([1001.,  995., 1025., 1009.,  948., 1104.,  991.,  945., 1002.,\n",
       "         980.]),\n",
       " array([1.68328203e-04, 1.00119094e-01, 2.00069859e-01, 3.00020625e-01,\n",
       "        3.99971390e-01, 4.99922155e-01, 5.99872921e-01, 6.99823686e-01,\n",
       "        7.99774452e-01, 8.99725217e-01, 9.99675983e-01]),\n",
       " <BarContainer object of 10 artists>)"
      ]
     },
     "execution_count": 3,
     "metadata": {},
     "output_type": "execute_result"
    },
    {
     "data": {
      "image/png": "[encoded data removed]",
      "text/plain": [
       "<Figure size 432x288 with 1 Axes>"
      ]
     },
     "metadata": {
      "needs_background": "light"
     },
     "output_type": "display_data"
    }
   ],
   "source": [
    "plt.hist(x)"
   ]
  },
  {
   "cell_type": "code",
   "execution_count": 4,
   "metadata": {},
   "outputs": [],
   "source": [
    "data = np.random.randint(0, 10, (100, 4))"
   ]
  },
  {
   "cell_type": "code",
   "execution_count": 5,
   "metadata": {
    "scrolled": true
   },
   "outputs": [
    {
     "data": {
      "text/plain": [
       "array([[7, 1, 2, 1],\n",
       "       [9, 8, 9, 7],\n",
       "       [0, 8, 1, 1],\n",
       "       [0, 3, 2, 2],\n",
       "       [8, 5, 8, 3],\n",
       "       [0, 6, 8, 0],\n",
       "       [3, 6, 0, 1],\n",
       "       [9, 7, 0, 8],\n",
       "       [9, 4, 6, 3],\n",
       "       [8, 1, 5, 2],\n",
       "       [7, 7, 1, 8],\n",
       "       [3, 7, 7, 9],\n",
       "       [0, 3, 1, 0],\n",
       "       [0, 4, 4, 5],\n",
       "       [7, 8, 1, 0],\n",
       "       [9, 0, 8, 8],\n",
       "       [0, 4, 8, 7],\n",
       "       [0, 2, 9, 5],\n",
       "       [1, 0, 0, 0],\n",
       "       [8, 5, 1, 3],\n",
       "       [6, 8, 8, 7],\n",
       "       [1, 0, 6, 9],\n",
       "       [0, 3, 5, 8],\n",
       "       [2, 1, 6, 5],\n",
       "       [2, 2, 5, 1],\n",
       "       [7, 8, 3, 7],\n",
       "       [8, 5, 4, 2],\n",
       "       [0, 3, 3, 8],\n",
       "       [3, 3, 6, 2],\n",
       "       [8, 1, 5, 6],\n",
       "       [7, 8, 5, 6],\n",
       "       [2, 6, 5, 2],\n",
       "       [4, 6, 5, 7],\n",
       "       [8, 9, 3, 1],\n",
       "       [5, 5, 2, 0],\n",
       "       [8, 1, 3, 2],\n",
       "       [5, 1, 7, 7],\n",
       "       [1, 6, 3, 4],\n",
       "       [2, 1, 2, 7],\n",
       "       [5, 8, 8, 3],\n",
       "       [1, 8, 4, 0],\n",
       "       [3, 1, 3, 0],\n",
       "       [3, 0, 8, 7],\n",
       "       [6, 7, 9, 6],\n",
       "       [6, 0, 4, 4],\n",
       "       [3, 7, 8, 0],\n",
       "       [9, 3, 1, 2],\n",
       "       [1, 7, 1, 4],\n",
       "       [6, 3, 1, 5],\n",
       "       [4, 2, 4, 0],\n",
       "       [3, 2, 8, 6],\n",
       "       [9, 3, 3, 3],\n",
       "       [3, 0, 3, 2],\n",
       "       [7, 3, 2, 0],\n",
       "       [4, 4, 7, 1],\n",
       "       [3, 6, 0, 2],\n",
       "       [4, 6, 6, 9],\n",
       "       [9, 0, 5, 0],\n",
       "       [5, 3, 1, 2],\n",
       "       [4, 5, 8, 5],\n",
       "       [9, 5, 0, 5],\n",
       "       [0, 8, 9, 9],\n",
       "       [2, 4, 9, 1],\n",
       "       [8, 0, 8, 9],\n",
       "       [6, 6, 1, 0],\n",
       "       [8, 4, 2, 3],\n",
       "       [4, 8, 2, 9],\n",
       "       [3, 0, 3, 4],\n",
       "       [2, 5, 5, 9],\n",
       "       [9, 9, 8, 0],\n",
       "       [1, 5, 7, 5],\n",
       "       [3, 8, 7, 7],\n",
       "       [0, 2, 7, 8],\n",
       "       [4, 4, 1, 0],\n",
       "       [6, 8, 5, 8],\n",
       "       [0, 7, 3, 9],\n",
       "       [7, 6, 5, 2],\n",
       "       [3, 9, 1, 8],\n",
       "       [3, 3, 3, 6],\n",
       "       [8, 7, 8, 6],\n",
       "       [5, 0, 1, 9],\n",
       "       [8, 2, 5, 8],\n",
       "       [3, 5, 6, 4],\n",
       "       [1, 8, 5, 5],\n",
       "       [2, 2, 8, 0],\n",
       "       [8, 2, 4, 8],\n",
       "       [9, 7, 2, 9],\n",
       "       [2, 5, 8, 2],\n",
       "       [1, 7, 9, 7],\n",
       "       [0, 2, 2, 4],\n",
       "       [0, 0, 6, 4],\n",
       "       [9, 4, 1, 7],\n",
       "       [9, 2, 3, 3],\n",
       "       [6, 1, 4, 0],\n",
       "       [0, 1, 5, 4],\n",
       "       [6, 5, 0, 8],\n",
       "       [9, 7, 3, 8],\n",
       "       [8, 3, 8, 8],\n",
       "       [7, 6, 0, 5],\n",
       "       [1, 3, 4, 7]])"
      ]
     },
     "execution_count": 5,
     "metadata": {},
     "output_type": "execute_result"
    }
   ],
   "source": [
    "data"
   ]
  },
  {
   "cell_type": "code",
   "execution_count": 6,
   "metadata": {},
   "outputs": [
    {
     "data": {
      "text/plain": [
       "<matplotlib.collections.PathCollection at 0x7faaf08b3d30>"
      ]
     },
     "execution_count": 6,
     "metadata": {},
     "output_type": "execute_result"
    },
    {
     "data": {
      "image/png": "[encoded data removed]",
      "text/plain": [
       "<Figure size 432x288 with 1 Axes>"
      ]
     },
     "metadata": {
      "needs_background": "light"
     },
     "output_type": "display_data"
    }
   ],
   "source": [
    "plt.scatter(x=data[:,0], y=data[:,1], marker=\"o\")"
   ]
  },
  {
   "cell_type": "code",
   "execution_count": 7,
   "metadata": {},
   "outputs": [],
   "source": [
    "test_data = np.array([5,5])  # P(5,5)"
   ]
  },
  {
   "cell_type": "code",
   "execution_count": 8,
   "metadata": {},
   "outputs": [
    {
     "data": {
      "text/plain": [
       "<matplotlib.legend.Legend at 0x7fab10276ef0>"
      ]
     },
     "execution_count": 8,
     "metadata": {},
     "output_type": "execute_result"
    },
    {
     "data": {
      "image/png": "[encoded data removed]",
      "text/plain": [
       "<Figure size 432x288 with 1 Axes>"
      ]
     },
     "metadata": {
      "needs_background": "light"
     },
     "output_type": "display_data"
    }
   ],
   "source": [
    "plt.figure()\n",
    "\n",
    "plt.scatter(x=data[:,0], y=data[:,1], marker=\"o\", label=\"data\")\n",
    "plt.scatter(test_data[0], test_data[1], color=\"red\", label=\"test\")\n",
    "plt.legend()"
   ]
  },
  {
   "cell_type": "code",
   "execution_count": 13,
   "metadata": {},
   "outputs": [
    {
     "name": "stdout",
     "output_type": "stream",
     "text": [
      "192 µs ± 19 µs per loop (mean ± std. dev. of 7 runs, 1,000 loops each)\n"
     ]
    }
   ],
   "source": [
    "%%timeit\n",
    "import math\n",
    "\n",
    "test_data = np.array([5,5,5,5])\n",
    "distances = []\n",
    "for data_point in data:\n",
    "    distances.append(math.sqrt(\n",
    "        (test_data[0] - data_point[0])**2 + \n",
    "        (test_data[1] - data_point[1])**2 +\n",
    "        (test_data[2] - data_point[2])**2 +\n",
    "        (test_data[3] - data_point[3])**2))\n",
    "    "
   ]
  },
  {
   "cell_type": "code",
   "execution_count": 14,
   "metadata": {},
   "outputs": [
    {
     "data": {
      "text/plain": [
       "[6.708203932499369,\n",
       " 6.708203932499369,\n",
       " 8.12403840463596,\n",
       " 6.855654600401044,\n",
       " 4.69041575982343,\n",
       " 7.745966692414834,\n",
       " 6.782329983125268,\n",
       " 7.3484692283495345,\n",
       " 4.69041575982343,\n",
       " 5.830951894845301,\n",
       " 5.744562646538029,\n",
       " 5.291502622129181,\n",
       " 8.366600265340756,\n",
       " 5.196152422706632,\n",
       " 7.3484692283495345,\n",
       " 7.681145747868608,\n",
       " 6.244997998398398,\n",
       " 7.0710678118654755,\n",
       " 9.539392014169456,\n",
       " 5.385164807134504,\n",
       " 4.795831523312719,\n",
       " 7.615773105863909,\n",
       " 6.164414002968976,\n",
       " 5.0990195135927845,\n",
       " 5.830951894845301,\n",
       " 4.58257569495584,\n",
       " 4.358898943540674,\n",
       " 6.48074069840786,\n",
       " 4.242640687119285,\n",
       " 5.0990195135927845,\n",
       " 3.7416573867739413,\n",
       " 4.358898943540674,\n",
       " 2.449489742783178,\n",
       " 6.708203932499369,\n",
       " 5.830951894845301,\n",
       " 6.164414002968976,\n",
       " 4.898979485566356,\n",
       " 4.69041575982343,\n",
       " 6.164414002968976,\n",
       " 4.69041575982343,\n",
       " 7.14142842854285,\n",
       " 7.0,\n",
       " 6.48074069840786,\n",
       " 4.69041575982343,\n",
       " 5.291502622129181,\n",
       " 6.48074069840786,\n",
       " 6.708203932499369,\n",
       " 6.082762530298219,\n",
       " 4.58257569495584,\n",
       " 6.0,\n",
       " 4.795831523312719,\n",
       " 5.291502622129181,\n",
       " 6.48074069840786,\n",
       " 6.48074069840786,\n",
       " 4.69041575982343,\n",
       " 6.244997998398398,\n",
       " 4.358898943540674,\n",
       " 8.12403840463596,\n",
       " 5.385164807134504,\n",
       " 3.1622776601683795,\n",
       " 6.4031242374328485,\n",
       " 8.12403840463596,\n",
       " 6.48074069840786,\n",
       " 7.681145747868608,\n",
       " 6.557438524302,\n",
       " 4.795831523312719,\n",
       " 5.916079783099616,\n",
       " 5.830951894845301,\n",
       " 5.0,\n",
       " 8.12403840463596,\n",
       " 4.47213595499958,\n",
       " 4.58257569495584,\n",
       " 6.855654600401044,\n",
       " 6.557438524302,\n",
       " 4.358898943540674,\n",
       " 7.0,\n",
       " 3.7416573867739413,\n",
       " 6.708203932499369,\n",
       " 3.605551275463989,\n",
       " 4.795831523312719,\n",
       " 7.54983443527075,\n",
       " 5.196152422706632,\n",
       " 2.449489742783178,\n",
       " 5.0,\n",
       " 7.211102550927978,\n",
       " 5.291502622129181,\n",
       " 6.708203932499369,\n",
       " 5.196152422706632,\n",
       " 6.324555320336759,\n",
       " 6.6332495807108,\n",
       " 7.211102550927978,\n",
       " 6.082762530298219,\n",
       " 5.744562646538029,\n",
       " 6.557438524302,\n",
       " 6.48074069840786,\n",
       " 5.916079783099616,\n",
       " 5.744562646538029,\n",
       " 5.5677643628300215,\n",
       " 5.477225575051661,\n",
       " 5.0]"
      ]
     },
     "execution_count": 14,
     "metadata": {},
     "output_type": "execute_result"
    }
   ],
   "source": [
    "distances"
   ]
  },
  {
   "cell_type": "code",
   "execution_count": 16,
   "metadata": {},
   "outputs": [
    {
     "data": {
      "text/plain": [
       "32"
      ]
     },
     "execution_count": 16,
     "metadata": {},
     "output_type": "execute_result"
    }
   ],
   "source": [
    "np.argmin(distances)"
   ]
  },
  {
   "cell_type": "code",
   "execution_count": null,
   "metadata": {},
   "outputs": [],
   "source": [
    "%%timeit\n",
    "import math\n",
    "\n",
    "\n",
    "    "
   ]
  },
  {
   "cell_type": "code",
   "execution_count": 17,
   "metadata": {},
   "outputs": [
    {
     "name": "stdout",
     "output_type": "stream",
     "text": [
      "12.1 µs ± 853 ns per loop (mean ± std. dev. of 7 runs, 100,000 loops each)\n"
     ]
    }
   ],
   "source": [
    "%%timeit\n",
    "test_data = np.array([5,5,5,5])\n",
    "np.sqrt(np.sum((data - test_data)**2, axis=1))"
   ]
  },
  {
   "cell_type": "code",
   "execution_count": 18,
   "metadata": {},
   "outputs": [
    {
     "data": {
      "text/html": [
       "<div>\n",
       "<style scoped>\n",
       "    .dataframe tbody tr th:only-of-type {\n",
       "        vertical-align: middle;\n",
       "    }\n",
       "\n",
       "    .dataframe tbody tr th {\n",
       "        vertical-align: top;\n",
       "    }\n",
       "\n",
       "    .dataframe thead th {\n",
       "        text-align: right;\n",
       "    }\n",
       "</style>\n",
       "<table border=\"1\" class=\"dataframe\">\n",
       "  <thead>\n",
       "    <tr style=\"text-align: right;\">\n",
       "      <th></th>\n",
       "      <th>age</th>\n",
       "      <th>income</th>\n",
       "      <th>height</th>\n",
       "      <th>weight</th>\n",
       "      <th>sex</th>\n",
       "    </tr>\n",
       "  </thead>\n",
       "  <tbody>\n",
       "    <tr>\n",
       "      <th>0</th>\n",
       "      <td>7</td>\n",
       "      <td>1</td>\n",
       "      <td>2</td>\n",
       "      <td>1</td>\n",
       "      <td>female</td>\n",
       "    </tr>\n",
       "    <tr>\n",
       "      <th>1</th>\n",
       "      <td>9</td>\n",
       "      <td>8</td>\n",
       "      <td>9</td>\n",
       "      <td>7</td>\n",
       "      <td>female</td>\n",
       "    </tr>\n",
       "    <tr>\n",
       "      <th>2</th>\n",
       "      <td>0</td>\n",
       "      <td>8</td>\n",
       "      <td>1</td>\n",
       "      <td>1</td>\n",
       "      <td>female</td>\n",
       "    </tr>\n",
       "    <tr>\n",
       "      <th>3</th>\n",
       "      <td>0</td>\n",
       "      <td>3</td>\n",
       "      <td>2</td>\n",
       "      <td>2</td>\n",
       "      <td>female</td>\n",
       "    </tr>\n",
       "    <tr>\n",
       "      <th>4</th>\n",
       "      <td>8</td>\n",
       "      <td>5</td>\n",
       "      <td>8</td>\n",
       "      <td>3</td>\n",
       "      <td>female</td>\n",
       "    </tr>\n",
       "    <tr>\n",
       "      <th>...</th>\n",
       "      <td>...</td>\n",
       "      <td>...</td>\n",
       "      <td>...</td>\n",
       "      <td>...</td>\n",
       "      <td>...</td>\n",
       "    </tr>\n",
       "    <tr>\n",
       "      <th>95</th>\n",
       "      <td>6</td>\n",
       "      <td>5</td>\n",
       "      <td>0</td>\n",
       "      <td>8</td>\n",
       "      <td>female</td>\n",
       "    </tr>\n",
       "    <tr>\n",
       "      <th>96</th>\n",
       "      <td>9</td>\n",
       "      <td>7</td>\n",
       "      <td>3</td>\n",
       "      <td>8</td>\n",
       "      <td>female</td>\n",
       "    </tr>\n",
       "    <tr>\n",
       "      <th>97</th>\n",
       "      <td>8</td>\n",
       "      <td>3</td>\n",
       "      <td>8</td>\n",
       "      <td>8</td>\n",
       "      <td>female</td>\n",
       "    </tr>\n",
       "    <tr>\n",
       "      <th>98</th>\n",
       "      <td>7</td>\n",
       "      <td>6</td>\n",
       "      <td>0</td>\n",
       "      <td>5</td>\n",
       "      <td>female</td>\n",
       "    </tr>\n",
       "    <tr>\n",
       "      <th>99</th>\n",
       "      <td>1</td>\n",
       "      <td>3</td>\n",
       "      <td>4</td>\n",
       "      <td>7</td>\n",
       "      <td>female</td>\n",
       "    </tr>\n",
       "  </tbody>\n",
       "</table>\n",
       "<p>100 rows × 5 columns</p>\n",
       "</div>"
      ],
      "text/plain": [
       "    age  income  height  weight     sex\n",
       "0     7       1       2       1  female\n",
       "1     9       8       9       7  female\n",
       "2     0       8       1       1  female\n",
       "3     0       3       2       2  female\n",
       "4     8       5       8       3  female\n",
       "..  ...     ...     ...     ...     ...\n",
       "95    6       5       0       8  female\n",
       "96    9       7       3       8  female\n",
       "97    8       3       8       8  female\n",
       "98    7       6       0       5  female\n",
       "99    1       3       4       7  female\n",
       "\n",
       "[100 rows x 5 columns]"
      ]
     },
     "execution_count": 18,
     "metadata": {},
     "output_type": "execute_result"
    }
   ],
   "source": [
    "import pandas as pd\n",
    "\n",
    "df = pd.DataFrame(data, columns=[\"age\",\"income\",\"height\",\"weight\"])\n",
    "df[\"sex\"] = \"female\"\n",
    "df"
   ]
  },
  {
   "cell_type": "code",
   "execution_count": 19,
   "metadata": {},
   "outputs": [
    {
     "data": {
      "text/plain": [
       "array([[7, 1, 2, 1, 'female'],\n",
       "       [9, 8, 9, 7, 'female'],\n",
       "       [0, 8, 1, 1, 'female'],\n",
       "       [0, 3, 2, 2, 'female'],\n",
       "       [8, 5, 8, 3, 'female'],\n",
       "       [0, 6, 8, 0, 'female'],\n",
       "       [3, 6, 0, 1, 'female'],\n",
       "       [9, 7, 0, 8, 'female'],\n",
       "       [9, 4, 6, 3, 'female'],\n",
       "       [8, 1, 5, 2, 'female'],\n",
       "       [7, 7, 1, 8, 'female'],\n",
       "       [3, 7, 7, 9, 'female'],\n",
       "       [0, 3, 1, 0, 'female'],\n",
       "       [0, 4, 4, 5, 'female'],\n",
       "       [7, 8, 1, 0, 'female'],\n",
       "       [9, 0, 8, 8, 'female'],\n",
       "       [0, 4, 8, 7, 'female'],\n",
       "       [0, 2, 9, 5, 'female'],\n",
       "       [1, 0, 0, 0, 'female'],\n",
       "       [8, 5, 1, 3, 'female'],\n",
       "       [6, 8, 8, 7, 'female'],\n",
       "       [1, 0, 6, 9, 'female'],\n",
       "       [0, 3, 5, 8, 'female'],\n",
       "       [2, 1, 6, 5, 'female'],\n",
       "       [2, 2, 5, 1, 'female'],\n",
       "       [7, 8, 3, 7, 'female'],\n",
       "       [8, 5, 4, 2, 'female'],\n",
       "       [0, 3, 3, 8, 'female'],\n",
       "       [3, 3, 6, 2, 'female'],\n",
       "       [8, 1, 5, 6, 'female'],\n",
       "       [7, 8, 5, 6, 'female'],\n",
       "       [2, 6, 5, 2, 'female'],\n",
       "       [4, 6, 5, 7, 'female'],\n",
       "       [8, 9, 3, 1, 'female'],\n",
       "       [5, 5, 2, 0, 'female'],\n",
       "       [8, 1, 3, 2, 'female'],\n",
       "       [5, 1, 7, 7, 'female'],\n",
       "       [1, 6, 3, 4, 'female'],\n",
       "       [2, 1, 2, 7, 'female'],\n",
       "       [5, 8, 8, 3, 'female'],\n",
       "       [1, 8, 4, 0, 'female'],\n",
       "       [3, 1, 3, 0, 'female'],\n",
       "       [3, 0, 8, 7, 'female'],\n",
       "       [6, 7, 9, 6, 'female'],\n",
       "       [6, 0, 4, 4, 'female'],\n",
       "       [3, 7, 8, 0, 'female'],\n",
       "       [9, 3, 1, 2, 'female'],\n",
       "       [1, 7, 1, 4, 'female'],\n",
       "       [6, 3, 1, 5, 'female'],\n",
       "       [4, 2, 4, 0, 'female'],\n",
       "       [3, 2, 8, 6, 'female'],\n",
       "       [9, 3, 3, 3, 'female'],\n",
       "       [3, 0, 3, 2, 'female'],\n",
       "       [7, 3, 2, 0, 'female'],\n",
       "       [4, 4, 7, 1, 'female'],\n",
       "       [3, 6, 0, 2, 'female'],\n",
       "       [4, 6, 6, 9, 'female'],\n",
       "       [9, 0, 5, 0, 'female'],\n",
       "       [5, 3, 1, 2, 'female'],\n",
       "       [4, 5, 8, 5, 'female'],\n",
       "       [9, 5, 0, 5, 'female'],\n",
       "       [0, 8, 9, 9, 'female'],\n",
       "       [2, 4, 9, 1, 'female'],\n",
       "       [8, 0, 8, 9, 'female'],\n",
       "       [6, 6, 1, 0, 'female'],\n",
       "       [8, 4, 2, 3, 'female'],\n",
       "       [4, 8, 2, 9, 'female'],\n",
       "       [3, 0, 3, 4, 'female'],\n",
       "       [2, 5, 5, 9, 'female'],\n",
       "       [9, 9, 8, 0, 'female'],\n",
       "       [1, 5, 7, 5, 'female'],\n",
       "       [3, 8, 7, 7, 'female'],\n",
       "       [0, 2, 7, 8, 'female'],\n",
       "       [4, 4, 1, 0, 'female'],\n",
       "       [6, 8, 5, 8, 'female'],\n",
       "       [0, 7, 3, 9, 'female'],\n",
       "       [7, 6, 5, 2, 'female'],\n",
       "       [3, 9, 1, 8, 'female'],\n",
       "       [3, 3, 3, 6, 'female'],\n",
       "       [8, 7, 8, 6, 'female'],\n",
       "       [5, 0, 1, 9, 'female'],\n",
       "       [8, 2, 5, 8, 'female'],\n",
       "       [3, 5, 6, 4, 'female'],\n",
       "       [1, 8, 5, 5, 'female'],\n",
       "       [2, 2, 8, 0, 'female'],\n",
       "       [8, 2, 4, 8, 'female'],\n",
       "       [9, 7, 2, 9, 'female'],\n",
       "       [2, 5, 8, 2, 'female'],\n",
       "       [1, 7, 9, 7, 'female'],\n",
       "       [0, 2, 2, 4, 'female'],\n",
       "       [0, 0, 6, 4, 'female'],\n",
       "       [9, 4, 1, 7, 'female'],\n",
       "       [9, 2, 3, 3, 'female'],\n",
       "       [6, 1, 4, 0, 'female'],\n",
       "       [0, 1, 5, 4, 'female'],\n",
       "       [6, 5, 0, 8, 'female'],\n",
       "       [9, 7, 3, 8, 'female'],\n",
       "       [8, 3, 8, 8, 'female'],\n",
       "       [7, 6, 0, 5, 'female'],\n",
       "       [1, 3, 4, 7, 'female']], dtype=object)"
      ]
     },
     "execution_count": 19,
     "metadata": {},
     "output_type": "execute_result"
    }
   ],
   "source": [
    "df.values"
   ]
  },
  {
   "cell_type": "code",
   "execution_count": null,
   "metadata": {},
   "outputs": [],
   "source": []
  }
 ],
 "metadata": {
  "kernelspec": {
   "display_name": "Python 3.10.4 ('ml-mit-python')",
   "language": "python",
   "name": "python3"
  },
  "language_info": {
   "codemirror_mode": {
    "name": "ipython",
    "version": 3
   },
   "file_extension": ".py",
   "mimetype": "text/x-python",
   "name": "python",
   "nbconvert_exporter": "python",
   "pygments_lexer": "ipython3",
   "version": "3.10.4"
  },
  "vscode": {
   "interpreter": {
    "hash": "15ba0f713c5209e258c0817e43a95aed8bfe0379d539364f52569c0b0fa48995"
   }
  }
 },
 "nbformat": 4,
 "nbformat_minor": 4
}

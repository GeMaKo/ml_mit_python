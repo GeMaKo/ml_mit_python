{
 "cells": [
  {
   "cell_type": "markdown",
   "metadata": {},
   "source": [
    "## 3. Tackle the Titanic dataset"
   ]
  },
  {
   "cell_type": "markdown",
   "metadata": {},
   "source": [
    "Aufgabe: Nehmen Sie den Titanic-Datensatz in Angriff. Ein guter Startpunkt ist [Kaggle](https://www.kaggle.com/c/titanic)."
   ]
  },
  {
   "cell_type": "markdown",
   "metadata": {},
   "source": [
    "Ziel ist es, anhand von Merkmalen wie Alter, Geschlecht, Passagierklasse, Einschiffungsort usw. vorherzusagen, ob ein Passagier überlebt hat oder nicht."
   ]
  },
  {
   "cell_type": "markdown",
   "metadata": {},
   "source": [
    "Holen wir uns die Daten und laden sie:"
   ]
  },
  {
   "cell_type": "code",
   "execution_count": 1,
   "metadata": {},
   "outputs": [
    {
     "name": "stdout",
     "output_type": "stream",
     "text": [
      "Downloading train.csv\n",
      "Downloading test.csv\n"
     ]
    }
   ],
   "source": [
    "import os\n",
    "import urllib.request\n",
    "\n",
    "TITANIC_PATH = os.path.join(\"datasets\", \"titanic\")\n",
    "DOWNLOAD_URL = \"https://raw.githubusercontent.com/ageron/handson-ml2/master/datasets/titanic/\"\n",
    "\n",
    "def fetch_titanic_data(url=DOWNLOAD_URL, path=TITANIC_PATH):\n",
    "    if not os.path.isdir(path):\n",
    "        os.makedirs(path)\n",
    "    for filename in (\"train.csv\", \"test.csv\"):\n",
    "        filepath = os.path.join(path, filename)\n",
    "        if not os.path.isfile(filepath):\n",
    "            print(\"Downloading\", filename)\n",
    "            urllib.request.urlretrieve(url + filename, filepath)\n",
    "\n",
    "fetch_titanic_data()    "
   ]
  },
  {
   "cell_type": "markdown",
   "metadata": {},
   "source": [
    "Die Attribute haben die folgende Bedeutung:\n",
    "\n",
    "- **PassengerId**: eine eindeutige Kennung für jeden Passagier\n",
    "- **Survived**: das ist das Ziel, 0 bedeutet, dass der Passagier nicht überlebt hat, während 1 bedeutet, dass er/sie überlebt hat.\n",
    "-  **Pclass**: Klasse des Passagiers.\n",
    "- **Name**, **Geschlecht**, **Alter**: selbsterklärend\n",
    "- **SibSp**: wie viele Geschwister und Ehegatten des Passagiers an Bord der Titanic.\n",
    "- **Parch**: wie viele Kinder & Eltern des Passagiers an Bord der Titanic.\n",
    "- **Ticket**: Fahrscheinnummer\n",
    "- **Fahrpreis**: gezahlter Preis (in Pfund)\n",
    "- **Kabine**: Kabinennummer des Passagiers\n",
    "- **Embarked**: wo der Passagier an Bord der Titanic gegangen ist"
   ]
  }
 ],
 "metadata": {
  "kernelspec": {
   "display_name": "Python 3 (ipykernel)",
   "language": "python",
   "name": "python3"
  },
  "language_info": {
   "codemirror_mode": {
    "name": "ipython",
    "version": 3
   },
   "file_extension": ".py",
   "mimetype": "text/x-python",
   "name": "python",
   "nbconvert_exporter": "python",
   "pygments_lexer": "ipython3",
   "version": "3.11.6"
  },
  "vscode": {
   "interpreter": {
    "hash": "d64f0687a27bb3128d11226fa645f116d573ef8368ece383196a2b247fa11dfc"
   }
  }
 },
 "nbformat": 4,
 "nbformat_minor": 4
}

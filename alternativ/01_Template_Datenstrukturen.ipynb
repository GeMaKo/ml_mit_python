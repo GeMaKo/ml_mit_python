{
 "cells": [
  {
   "cell_type": "markdown",
   "id": "b4de8c3f-87b1-493a-9a70-1069e83273cf",
   "metadata": {
    "tags": []
   },
   "source": [
    "# Python Basics (ohne Pakete)"
   ]
  },
  {
   "cell_type": "markdown",
   "id": "8ddfd731-a766-456d-8ae3-411811b75fec",
   "metadata": {
    "tags": []
   },
   "source": [
    "## Rechnen"
   ]
  },
  {
   "cell_type": "markdown",
   "id": "d8d86b9f-d558-402b-a959-13a98a225cdf",
   "metadata": {},
   "source": [
    "# <span style='color:Green'>  *Aufgabe* <span>\n",
    "\n",
    "Teste die Arten der Division: /, //, %  Was bedeutet jedes Zeichen?"
   ]
  },
  {
   "cell_type": "markdown",
   "id": "ac8cbd9a-f219-4a6c-b7f0-2333bd70134f",
   "metadata": {
    "jp-MarkdownHeadingCollapsed": true,
    "tags": []
   },
   "source": [
    "### Runden "
   ]
  },
  {
   "cell_type": "markdown",
   "id": "62c5a1d9-2582-4c01-8bc1-095759e3f54a",
   "metadata": {
    "jp-MarkdownHeadingCollapsed": true,
    "tags": []
   },
   "source": [
    "### Betrag ausrechnen"
   ]
  },
  {
   "cell_type": "markdown",
   "id": "0efba15e-9e76-4074-8031-5e86ad65bf8d",
   "metadata": {
    "tags": []
   },
   "source": [
    "## Wertzuweisung"
   ]
  },
  {
   "cell_type": "markdown",
   "id": "e45abbb1-d954-467d-a2a3-8c96e4cb8641",
   "metadata": {
    "tags": []
   },
   "source": [
    "## Ausgabe von Inhalten auf der Konsole mittels print()"
   ]
  },
  {
   "cell_type": "markdown",
   "id": "573e17d5-b4e2-41e1-bb71-01a7c521a8b3",
   "metadata": {
    "tags": []
   },
   "source": [
    "## Typenkonvertierung"
   ]
  },
  {
   "cell_type": "markdown",
   "id": "1c10a4a1-c91f-4054-89e9-8017e7f2a7b7",
   "metadata": {
    "jp-MarkdownHeadingCollapsed": true,
    "tags": []
   },
   "source": [
    "### Typen-Detektion"
   ]
  },
  {
   "cell_type": "markdown",
   "id": "688638e7-caec-4637-86a3-f0da2b927ee7",
   "metadata": {
    "tags": []
   },
   "source": [
    "### Zahlentypen"
   ]
  },
  {
   "cell_type": "markdown",
   "id": "26851f10-c20f-43ff-b7c7-4fb038c70497",
   "metadata": {},
   "source": [
    "#### int"
   ]
  },
  {
   "cell_type": "markdown",
   "id": "0830a4f2-124b-4a69-9252-8f0ba62555ae",
   "metadata": {
    "tags": []
   },
   "source": [
    "#### float"
   ]
  },
  {
   "cell_type": "markdown",
   "id": "22bfee1f-c586-475b-b721-99cf03ed55d4",
   "metadata": {},
   "source": [
    "### String"
   ]
  },
  {
   "cell_type": "markdown",
   "id": "2593475a-dc7d-40b3-8668-53925f27f369",
   "metadata": {},
   "source": [
    "### Boolean"
   ]
  },
  {
   "cell_type": "markdown",
   "id": "15e59ebd-13bc-4a05-8942-411f803fde2c",
   "metadata": {
    "tags": []
   },
   "source": [
    "# <span style='color:Green'>  *Aufgaben* <span>"
   ]
  },
  {
   "cell_type": "markdown",
   "id": "7ee936f7-d0bf-4e5e-8cca-d985bd9dff4f",
   "metadata": {},
   "source": [
    "Nutzen Sie Python als Taschenrechner. Das Volumen einer Kugel ist $\\frac{4}{3}\\pi r^3$. Was ist das Volumen einer Kugel mit Radius 5. Was ist das Volumen einer Kugel mit Radius 8?"
   ]
  },
  {
   "cell_type": "markdown",
   "id": "a8ab4897-aea6-4fd9-87b7-0c9d0b727d72",
   "metadata": {},
   "source": [
    "Von welchem Typ ist der Ausdruck 5 + 2.0?"
   ]
  },
  {
   "cell_type": "markdown",
   "id": "512f0abf-b102-4f4a-8db0-2387cf13104d",
   "metadata": {},
   "source": [
    "Schreiben Sie ein Programm, welches zwei Zahlen a und b vom Benutzer abfragt. Multiplizieren Sie die Zahlen und geben Sie das Ergebnis aus."
   ]
  },
  {
   "cell_type": "markdown",
   "id": "15663d9d-1bb7-4df9-8301-c9dcf9c03a79",
   "metadata": {
    "tags": []
   },
   "source": [
    "# Python mit Paketen"
   ]
  },
  {
   "cell_type": "markdown",
   "id": "f077c3a5-6d20-4213-9bb3-1ada4b203881",
   "metadata": {
    "tags": []
   },
   "source": [
    "## Installation von Paketen aus Jupyter heraus"
   ]
  },
  {
   "cell_type": "markdown",
   "id": "9bd0001a-1d60-4691-a7ec-49541734e61c",
   "metadata": {},
   "source": [
    "Nutze beispielhaft das Paket \"math\"!"
   ]
  },
  {
   "cell_type": "markdown",
   "id": "624313fe-913f-45bb-856e-f3024e284bf3",
   "metadata": {
    "tags": []
   },
   "source": [
    "## Import von Paketen"
   ]
  },
  {
   "cell_type": "markdown",
   "id": "f12d1ecc-b4a2-4e38-a835-99d6acaa78e1",
   "metadata": {},
   "source": [
    "# Mathematische Konstanten und Standard-Funktionen im Paket \"math\""
   ]
  },
  {
   "cell_type": "markdown",
   "id": "cbf3525d-5f68-4180-b0cb-bf8cb2ac5a1b",
   "metadata": {
    "tags": []
   },
   "source": [
    "## Konstanten: Pi, e"
   ]
  },
  {
   "cell_type": "markdown",
   "id": "5920e45b-a914-4e99-a59d-110b06a9178a",
   "metadata": {
    "jp-MarkdownHeadingCollapsed": true,
    "tags": []
   },
   "source": [
    "## Umkehrung von e"
   ]
  },
  {
   "cell_type": "markdown",
   "id": "5d4ad6d5-0d1a-43ca-b22a-baf398bd46d2",
   "metadata": {
    "jp-MarkdownHeadingCollapsed": true,
    "tags": []
   },
   "source": [
    "## Quadrieren, Potenzieren, Wurzelziehen"
   ]
  },
  {
   "cell_type": "markdown",
   "id": "ecda7600-f5fa-4cf1-900e-7e3fd65b849d",
   "metadata": {
    "jp-MarkdownHeadingCollapsed": true,
    "tags": []
   },
   "source": [
    "## Aufrunden, abrunden"
   ]
  },
  {
   "cell_type": "markdown",
   "id": "9f6a0b46-18b6-43d4-9d13-a11fb03ad914",
   "metadata": {},
   "source": [
    "Weise B eine Transformation (+,-,*,/) mit A als Input zu. Gebe dann B mittels print-Befehl aus! Danach vergleiche A mit B mittels logsichen Operator \"==\" indem du das Ergebnis von \"A==B\" in der Konsole ausgibst!   "
   ]
  },
  {
   "cell_type": "markdown",
   "id": "51552f73-8fc1-4580-8304-e3abdfc8b5f8",
   "metadata": {},
   "source": [
    "Was ist A/B? Überlege, warum das sinnvoll definerit ist!"
   ]
  },
  {
   "cell_type": "markdown",
   "id": "a5ffd5cc-b964-4594-b748-f27b9d783231",
   "metadata": {},
   "source": [
    "Weise A/B einer neuen Variable C und überprüfe, was 2*C ist! Überprüfe anschließend C == C sowie C != C? Was stellst du fest?"
   ]
  },
  {
   "cell_type": "markdown",
   "id": "e7b78fe5-d158-41eb-8d49-6ea574289777",
   "metadata": {},
   "source": [
    "Überprüfe mittels math.isnan(C), ob C definiert ist!"
   ]
  },
  {
   "cell_type": "markdown",
   "id": "4da07c90-3885-47c8-98a5-085a725519fe",
   "metadata": {},
   "source": [
    "Weise D ein missing value mittels **None** zu udn gebe D aus. Überprüfe danach mit *D is not None*, ob die Variabel leer ist! "
   ]
  },
  {
   "cell_type": "markdown",
   "id": "ac6e0625-d67a-4210-8579-6ee137c5a810",
   "metadata": {
    "tags": []
   },
   "source": [
    "# Strings und deren Besonderheiten"
   ]
  },
  {
   "cell_type": "markdown",
   "id": "3c208b67-d904-4fd0-815d-b3430c73e2ce",
   "metadata": {},
   "source": [
    "## Index Slicing"
   ]
  },
  {
   "cell_type": "markdown",
   "id": "9d84f14a-40e7-465b-8b04-e91023e81218",
   "metadata": {},
   "source": [
    "## String Concatination mit + und *"
   ]
  },
  {
   "cell_type": "markdown",
   "id": "acfb3fbc-0e05-4843-ade0-0df27991adec",
   "metadata": {
    "tags": []
   },
   "source": [
    "## Die Funktion len()"
   ]
  },
  {
   "cell_type": "markdown",
   "id": "aede4928-6766-49d8-a962-f31d8bd5b795",
   "metadata": {
    "tags": []
   },
   "source": [
    "## Die Methoden lower(), upper(), islower(), isupper(), replace(), strip(), find(), split(), join()"
   ]
  },
  {
   "cell_type": "markdown",
   "id": "c1e6197a-0f0f-46fa-8034-fb93d17669c2",
   "metadata": {},
   "source": [
    "### Anzeige aller Methoden zu *str* Objekten mittels *help(str)*"
   ]
  },
  {
   "cell_type": "markdown",
   "id": "b4347c26-d6e2-4e72-90fd-996387e8db26",
   "metadata": {
    "tags": []
   },
   "source": [
    "# Listen, Arrays, Tuples, Dictionaries und Classes"
   ]
  },
  {
   "cell_type": "markdown",
   "id": "a82f5222-9d0c-4560-ae44-a5269d83ef39",
   "metadata": {},
   "source": [
    "## Listen: []"
   ]
  },
  {
   "cell_type": "markdown",
   "id": "1d6f2732-ef57-4bb4-ad99-14187413a2f1",
   "metadata": {},
   "source": [
    "### Löschen von Listen-Elementen"
   ]
  },
  {
   "cell_type": "markdown",
   "id": "5c798b47-2a26-4a72-a2a6-fb5c763dcf40",
   "metadata": {},
   "source": [
    "### Addieren von Listen"
   ]
  },
  {
   "cell_type": "markdown",
   "id": "d25d723e-2ab5-498f-a1ea-a500bc9f9d72",
   "metadata": {},
   "source": [
    "### Skalar-Multiplikation von Listen"
   ]
  },
  {
   "cell_type": "markdown",
   "id": "b035df21-e311-4765-aa26-8a8f8ff2a292",
   "metadata": {},
   "source": [
    "### Die Funktion range()"
   ]
  },
  {
   "cell_type": "markdown",
   "id": "06e4be6c-5de8-470d-a788-17899d84f3f4",
   "metadata": {
    "tags": []
   },
   "source": [
    "### Der Objekt-Type und seine Methoden"
   ]
  },
  {
   "cell_type": "markdown",
   "id": "cf508499-8b4a-487d-912a-11d5ff3fd564",
   "metadata": {
    "tags": []
   },
   "source": [
    "## (NumPy) Arrays: np.array()"
   ]
  },
  {
   "cell_type": "markdown",
   "id": "d1a12b80-563c-428d-b5e7-54b64290fea6",
   "metadata": {},
   "source": [
    "### Import des NumPy Pakets als np"
   ]
  },
  {
   "cell_type": "markdown",
   "id": "5a5336d7-7e67-4cae-a025-6122010db7e2",
   "metadata": {},
   "source": [
    "### Umwandllung Liste zu Array"
   ]
  },
  {
   "cell_type": "markdown",
   "id": "996acdb5-b184-4dbd-b829-309387f0473d",
   "metadata": {},
   "source": [
    "## Tuples: ()\n",
    "(nicht mutierbare Listen)"
   ]
  },
  {
   "cell_type": "markdown",
   "id": "49598584-da3b-4d63-8c37-817e7e15c20c",
   "metadata": {
    "tags": []
   },
   "source": [
    "## Dictionaries"
   ]
  },
  {
   "cell_type": "markdown",
   "id": "a128e43f-dfcd-45cf-808a-d521dbbd0f17",
   "metadata": {
    "tags": []
   },
   "source": [
    "## Pandas DataFrames"
   ]
  },
  {
   "cell_type": "markdown",
   "id": "189568ff-68ab-478d-8f18-511affc694d3",
   "metadata": {},
   "source": [
    "# <span style='color:Green'> *Aufgaben* <span>"
   ]
  },
  {
   "cell_type": "markdown",
   "id": "246e2eb5-e6da-4186-87e3-68e8d44d01b7",
   "metadata": {},
   "source": [
    "Erstellen Sie eine Liste l1, eine numpy-Array a1 sowie ein Tupel t1 mit den Integern 1, 2, 3, und 4. Nutzen sie mindestens einmal die Funktion range() dafür."
   ]
  },
  {
   "cell_type": "markdown",
   "id": "c45db9f2-7076-4f4d-a8ca-2a549512fc86",
   "metadata": {},
   "source": [
    "Greifen Sie nun jeweils auf die letzten 3 Elemente zu und geben sie aus."
   ]
  },
  {
   "cell_type": "markdown",
   "id": "da67dc44-9bb0-4419-82f2-2f45f5ba5e26",
   "metadata": {},
   "source": [
    "Erstellen Sie eine Liste l2 in dem Sie ihr l1 zuweisen und geben Sie beide Listen aus.¶"
   ]
  },
  {
   "cell_type": "markdown",
   "id": "28c514d9-6b5c-4e6d-812b-2b157b8c10ba",
   "metadata": {},
   "source": [
    "Weißen Sie dem ersten Element von l1 die Zahl 42 zu. Warum können wir das gleiche Operation nicht mit dem Tupel t1 ausführen? "
   ]
  },
  {
   "cell_type": "markdown",
   "id": "70901fc9-7ee1-45f9-976a-e2f0197c994c",
   "metadata": {},
   "source": [
    "Geben Sie dann l1 und l2 aus. Was fällt auf? "
   ]
  },
  {
   "cell_type": "markdown",
   "id": "4e44c24e-5ed1-423b-a2fb-ad9954224c29",
   "metadata": {},
   "source": [
    "Löschen (del) Sie nun das erste Element von l1 und geben Sie l1 und l2 aus."
   ]
  },
  {
   "cell_type": "markdown",
   "id": "6f9c0920-b716-45ef-b158-cfae64abb011",
   "metadata": {},
   "source": [
    "Fügen Sie beide Listen zusammen und weißen das Ergebnis einer neuen Liste l3 zu."
   ]
  }
 ],
 "metadata": {
  "kernelspec": {
   "display_name": "Python 3 (ipykernel)",
   "language": "python",
   "name": "python3"
  },
  "language_info": {
   "codemirror_mode": {
    "name": "ipython",
    "version": 3
   },
   "file_extension": ".py",
   "mimetype": "text/x-python",
   "name": "python",
   "nbconvert_exporter": "python",
   "pygments_lexer": "ipython3",
   "version": "3.11.6"
  }
 },
 "nbformat": 4,
 "nbformat_minor": 5
}

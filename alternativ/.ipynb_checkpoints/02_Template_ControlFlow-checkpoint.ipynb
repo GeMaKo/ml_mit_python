{
 "cells": [
  {
   "cell_type": "markdown",
   "id": "9116698d-723d-42ff-9712-d8196fbd61b1",
   "metadata": {
    "tags": []
   },
   "source": [
    "# Funktionen schreiben"
   ]
  },
  {
   "cell_type": "markdown",
   "id": "23009dd7-8b4b-461d-ad6f-1fc3142d2e1c",
   "metadata": {
    "tags": []
   },
   "source": [
    "# <span style='color:Green'>  *Aufgabe* <span>\n",
    "Schreiben Sie eine Funktion, welche die ersten beiden Elemente einer Liste ausgibt."
   ]
  },
  {
   "cell_type": "markdown",
   "id": "7f92474e-a00f-4aa1-b8c8-cf8409864252",
   "metadata": {},
   "source": [
    "## Default-Parameter"
   ]
  },
  {
   "cell_type": "markdown",
   "id": "ffcf6e32-4364-4411-bfc8-80ee9353fdfd",
   "metadata": {
    "tags": []
   },
   "source": [
    "# Logische Vergleichsoperatoren: ==, >, <, >=, <=, &, |, not, in"
   ]
  },
  {
   "cell_type": "markdown",
   "id": "688b3e16-4a2f-4fb5-9b95-020dbb329d13",
   "metadata": {},
   "source": [
    "\n",
    "# <span style='color:Green'>  *Aufgabe* <span>\n",
    "Schreiben Sie eine Funktion, die prüft, ob die Argumente a und b vom gleichen Typ sind.def same(a,b):\n",
    "    return type(a) == type(b)"
   ]
  },
  {
   "cell_type": "markdown",
   "id": "d2822b06-e5e6-40e2-998f-ffa28f7c75c9",
   "metadata": {
    "tags": []
   },
   "source": [
    "# If-Else-Anweisung"
   ]
  },
  {
   "cell_type": "markdown",
   "id": "244284fe-1ec9-4d21-8d1d-1c8c1d2ca728",
   "metadata": {
    "tags": []
   },
   "source": [
    "\n",
    "# <span style='color:Green'>  *Aufgabe* <span>\n",
    "    \n",
    "Schreiben Sie eine Funktion mit einem Integer als Argument, welche prüft, ob der Integer gerade oder ungerade ist."
   ]
  },
  {
   "cell_type": "markdown",
   "id": "161566b6-80b3-4b5b-b9be-506589688a6a",
   "metadata": {
    "tags": []
   },
   "source": [
    "# For-Schleifen"
   ]
  },
  {
   "cell_type": "markdown",
   "id": "52866fd9-8503-4270-86fc-8aa459599806",
   "metadata": {},
   "source": [
    "# <span style='color:Green'>  *Aufgabe* <span>"
   ]
  },
  {
   "cell_type": "markdown",
   "id": "49b84d3a-4b80-4674-9110-1a47535b75e3",
   "metadata": {},
   "source": [
    "Schreiben Sie eine Funktion, die die ersten n (Input) Elemente der FIbonacchi-Folge (0,1,1,2,3,5,8,13,...) ausgibt."
   ]
  },
  {
   "cell_type": "markdown",
   "id": "a7bf87fd-bcfe-49fd-b217-e115f8186e08",
   "metadata": {
    "tags": []
   },
   "source": [
    "   \n",
    "# While-Schleifen"
   ]
  },
  {
   "cell_type": "markdown",
   "id": "eae6611b-2bc2-40bc-9214-5847ba962c68",
   "metadata": {},
   "source": [
    "# <span style='color:Green'>  *Aufgabe* <span>\n",
    "    \n",
    "Schreiben Sie eine Funktion \"string_len_5\", welche die Eingabe eines Strings des Nutzers abfragt. Falls der String die Länge 5 hat, gibt die Funktion \"Ihr String ist 5 Zeichen lang!\" aus. Falls der String eine andere Länge hat, gibt die Funktion aus: \"Ihr String hat die falsche Länge. Versuchen Sie es nochmal!\" und fragt erneut nach einen String. Dies geht solange weiter, bis der Nutzer einen String der Länge 5 eingegeben hat."
   ]
  },
  {
   "cell_type": "markdown",
   "id": "83546896-99e7-4620-8c85-496ff8362c2a",
   "metadata": {
    "tags": []
   },
   "source": [
    "# Classes, its Attributes and Methods"
   ]
  },
  {
   "cell_type": "markdown",
   "id": "183e474f-f4a4-4761-bde3-a6bc1c7d6be9",
   "metadata": {},
   "source": [
    "# <span style='color:Green'>  *Aufgabe* <span>\n",
    "    \n",
    "Create a class Human that has the instance attributes name, age, gender, and height which are given as parameters. Remember to use the __init__ function and the self attribute. After creating the class, create an instance called person_1 with inputs of your choosing for name: str, age: int, gender: str, height: float (in meters)"
   ]
  },
  {
   "cell_type": "markdown",
   "id": "b30b6383-f1cd-4218-8056-1c0a04c8c092",
   "metadata": {},
   "source": [
    "Now add an (object) method `introduce` to the Human class that prints out a short introduction of the form \"Hello my name is {name}\" when called. Call it on `person_1` and don't forget to initialize `person_1` again, now that you added a method."
   ]
  },
  {
   "cell_type": "markdown",
   "id": "dc6d00e4-13c6-4d62-8bff-8dad03edff3e",
   "metadata": {},
   "source": [
    "**Bonus:** With the next method, we want to enable the user to create a Human object when given the year of birth instead of the actual age.\n",
    "So create a classmethod `from_birth_year` that takes the same parameters but instead of age takes birth_year as input and returns a new class object. Calling the method on `Human`, create a `person_2` by using birthyear as input. To get the current year you can use the datetime module."
   ]
  },
  {
   "cell_type": "code",
   "execution_count": 1,
   "id": "c3705488-30dc-447c-afe4-db28038197b1",
   "metadata": {},
   "outputs": [],
   "source": [
    "import datetime"
   ]
  }
 ],
 "metadata": {
  "kernelspec": {
   "display_name": "Python 3 (ipykernel)",
   "language": "python",
   "name": "python3"
  },
  "language_info": {
   "codemirror_mode": {
    "name": "ipython",
    "version": 3
   },
   "file_extension": ".py",
   "mimetype": "text/x-python",
   "name": "python",
   "nbconvert_exporter": "python",
   "pygments_lexer": "ipython3",
   "version": "3.10.4"
  }
 },
 "nbformat": 4,
 "nbformat_minor": 5
}

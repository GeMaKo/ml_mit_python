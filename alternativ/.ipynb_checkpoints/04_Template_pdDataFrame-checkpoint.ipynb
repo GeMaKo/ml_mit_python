{
 "cells": [
  {
   "cell_type": "markdown",
   "id": "77106e15-7e32-44fb-84fa-8c8e82be4aab",
   "metadata": {},
   "source": [
    "Installiere seaborn!"
   ]
  },
  {
   "cell_type": "markdown",
   "id": "eaf7c127-0faf-4d32-b3b8-92bac6c36fbe",
   "metadata": {},
   "source": [
    "Importiere pandas als pd und seaborn als sns!"
   ]
  },
  {
   "cell_type": "markdown",
   "id": "7667b8e5-e2ca-4bd2-bdcb-8fbd6bf19994",
   "metadata": {
    "tags": []
   },
   "source": [
    "# Lade Beispieldatenset"
   ]
  },
  {
   "cell_type": "code",
   "execution_count": 101,
   "id": "de056009-0fc2-46d1-b5ab-5cead3aabaf9",
   "metadata": {
    "tags": []
   },
   "outputs": [],
   "source": [
    "# Lade Datenset\n",
    "taxis_df = sns.load_dataset('taxis')"
   ]
  },
  {
   "cell_type": "markdown",
   "id": "285f3ea6-9ac0-40af-aad7-891c058eae65",
   "metadata": {
    "tags": []
   },
   "source": [
    "# Datenset anschauen: head, tail, index, column, info, shape, describe (inkl. Parameter)"
   ]
  },
  {
   "cell_type": "markdown",
   "id": "9212926f-35d9-45d2-a670-2313a1b6e355",
   "metadata": {},
   "source": [
    "## Grundlegende Statistiken"
   ]
  },
  {
   "cell_type": "markdown",
   "id": "5a08351c-d316-45f3-9a49-03b03992c0e0",
   "metadata": {
    "tags": []
   },
   "source": [
    "# Konvertierung zu numpy array: values"
   ]
  },
  {
   "cell_type": "markdown",
   "id": "90ba3cb2-5e15-4070-aa1b-68c8a70f0700",
   "metadata": {},
   "source": [
    "# Serie vs. DataFrame"
   ]
  },
  {
   "cell_type": "markdown",
   "id": "8e30a954-ae00-4763-9154-9c405839ce59",
   "metadata": {},
   "source": [
    "# Slicing, Boolean indexing und ansprechen einzelner Elemente"
   ]
  },
  {
   "cell_type": "markdown",
   "id": "f4dde8be-112a-4f79-8dbf-dd49f98e7e76",
   "metadata": {},
   "source": [
    "# Erstellen von leeren DataFrames"
   ]
  },
  {
   "cell_type": "markdown",
   "id": "137a45fe-573c-4921-92bf-cc3e46c430c8",
   "metadata": {
    "tags": []
   },
   "source": [
    "# Spalte hinzufügen"
   ]
  },
  {
   "cell_type": "markdown",
   "id": "146c78ae-f7e0-4cd8-8dbd-fc751d451379",
   "metadata": {
    "tags": []
   },
   "source": [
    "## Missings egänzen / imputieren"
   ]
  },
  {
   "cell_type": "markdown",
   "id": "045192a1-a45a-4d0a-8a5f-44d8575061a8",
   "metadata": {},
   "source": [
    "# Grundlegende Statistiken: Summe, Varianz, Kreuztabelle"
   ]
  },
  {
   "cell_type": "markdown",
   "id": "45cbdc59-779d-45d3-baa0-d41042041f57",
   "metadata": {
    "tags": []
   },
   "source": [
    "### Variable Explanations\n",
    "\n",
    "| Variable | Explanation |\n",
    "| --- | --- |\n",
    "| pickup | The date and time when the meter was engaged. |\n",
    "| dropoff | The date and time when the meter was disengaged. |\n",
    "| passengers | The number of passengers in the vehicle. This is a driver-entered value. |\n",
    "| distance | The elapsed trip distance in miles reported by the taximeter. |\n",
    "| fare | The time-and-distance fare calculated by the meter. |\n",
    "| tip | This field is automatically populated for credit card |\n",
    "| tolls | Total amount of all tolls paid in trip. |\n",
    "| total | The total amount charged to passengers. Does not include cash tips. |\n",
    "| color | yellow = yellow taxis are the only vehicles permitted to respond to a street hail from a passenger in all five boroughs <br> green = green taxis, also known as boro taxis, are not permitted to respond to a street hail in Mannhatten up to W 110 St/E 96th S and at the airports |\n",
    "| payment | Used payment method, 'credit card' or 'cash' |\n",
    "| pickup_zone | TLC Taxi Zone in which the taximeter was engaged |\n",
    "| dropoff_zone | TLC Taxi Zone in which the taximeter was disengaged |\n",
    "| pickup_borough | borough in which the taximeter was engaged |\n",
    "| dropoff_borough | borough in which the taximeter was disengaged |\n",
    "\n",
    "https://www1.nyc.gov/site/tlc/about/tlc-trip-record-data.page (March 2019)\n",
    "\n",
    "https://www1.nyc.gov/assets/tlc/downloads/pdf/trip_record_user_guide.pdf\n",
    "\n",
    "if interested: [total charge calculation](https://www1.nyc.gov/site/tlc/passengers/taxi-fare.page)"
   ]
  },
  {
   "cell_type": "markdown",
   "id": "1b82cbdf-afb1-49ab-afa2-e01564f89b2f",
   "metadata": {
    "tags": []
   },
   "source": [
    "# <span style='color:Green'> *Aufgaben* <span>"
   ]
  },
  {
   "cell_type": "markdown",
   "id": "00d14c00-b41c-4af4-bd96-8f6f544e8159",
   "metadata": {},
   "source": [
    "Nutze das Datenset 'car_crashes' aus Seaborn und \n",
    "1. gebe die ersten 8 Zeilen aus,\n",
    "2. speichere die Spaltennamen in einer Liste,\n",
    "3. speichere die Anazhl der Zeilen mittels shape_Methode heraus\n",
    "4. überprüfe die deskriptiven Statistiken auf Auffälligkeiten\n",
    "5. splitte das DataFrame in zewi DataFrames auf: jene mit unterdurchschnittlicher Premie und überdurchschnittlicher Prämie.\n"
   ]
  },
  {
   "cell_type": "markdown",
   "id": "92863d45-4ead-4a31-be74-ff95e9bee6e3",
   "metadata": {},
   "source": [
    "### Variable Explanations\n",
    "\n",
    "| Variable | Explanation |\n",
    "| --- | --- |\n",
    "| total | Number of drivers involved in fatal collisions per billion miles |\n",
    "| speeding | Number of drivers involved in fatal collisions per billion miles Who Were Speeding |\n",
    "| alcohol | Number of drivers involved in fatal collisions per billion miles Who Were Alcohol-Impaired |\n",
    "| not_distracted | Number of drivers involved in fatal collisions per billion miles Who Were Not Distracted |\n",
    "| no_previous | Number of drivers involved in fatal collisions per billion miles Who Had Not Been Involved In Any Previous Accidents |\n",
    "| ins_premium | Car Insurance Premiums (\\$) |\n",
    "| ins_losses | Losses incurred by insurance companies for collisions per insured driver (\\$) | \n",
    "| abbrev | State |\n",
    "\n",
    "https://www.kaggle.com/fivethirtyeight/fivethirtyeight-bad-drivers-dataset\n",
    "\n",
    "Note that categories are not exclusive. A driver might have been drinking alcohol, while speeding, without having had previous car accidents when entering the statistic as fatal collision."
   ]
  },
  {
   "cell_type": "markdown",
   "id": "9e43c220-1d2e-4cc1-abc9-f905663df806",
   "metadata": {
    "tags": []
   },
   "source": [
    "## Kreuztabelle"
   ]
  },
  {
   "cell_type": "markdown",
   "id": "7cb4e322-9cab-4feb-9cd0-5ad492e17c5f",
   "metadata": {
    "jp-MarkdownHeadingCollapsed": true,
    "tags": []
   },
   "source": [
    "## Korrelation"
   ]
  },
  {
   "cell_type": "markdown",
   "id": "7af1bc77-6e2d-439c-87d8-a7ac7c5e699a",
   "metadata": {},
   "source": [
    "# <span style='color:Green'> *Aufgaben* <span>"
   ]
  },
  {
   "cell_type": "markdown",
   "id": "c7e2aec7-9770-4e1c-9c3b-c9ac951f89ab",
   "metadata": {},
   "source": [
    "Schaue dir die Korrelation im Datenset car_crashes an. Was fällt dir auf?"
   ]
  }
 ],
 "metadata": {
  "kernelspec": {
   "display_name": "Python 3 (ipykernel)",
   "language": "python",
   "name": "python3"
  },
  "language_info": {
   "codemirror_mode": {
    "name": "ipython",
    "version": 3
   },
   "file_extension": ".py",
   "mimetype": "text/x-python",
   "name": "python",
   "nbconvert_exporter": "python",
   "pygments_lexer": "ipython3",
   "version": "3.10.4"
  }
 },
 "nbformat": 4,
 "nbformat_minor": 5
}

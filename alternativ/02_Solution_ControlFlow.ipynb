{
 "cells": [
  {
   "cell_type": "markdown",
   "id": "9116698d-723d-42ff-9712-d8196fbd61b1",
   "metadata": {
    "tags": []
   },
   "source": [
    "# Funktionen schreiben"
   ]
  },
  {
   "cell_type": "code",
   "execution_count": 2,
   "id": "218edcc5-1530-4e13-b648-c04b085ea090",
   "metadata": {},
   "outputs": [],
   "source": [
    "def volumen(breite, hoehe, laenge):\n",
    "    V = breite*hoehe*laenge\n",
    "    return V"
   ]
  },
  {
   "cell_type": "code",
   "execution_count": 3,
   "id": "3879d056-b15a-4048-b2b7-6bbf81467148",
   "metadata": {},
   "outputs": [
    {
     "data": {
      "text/plain": [
       "6"
      ]
     },
     "execution_count": 3,
     "metadata": {},
     "output_type": "execute_result"
    }
   ],
   "source": [
    "volumen(1,2,3)"
   ]
  },
  {
   "cell_type": "markdown",
   "id": "23009dd7-8b4b-461d-ad6f-1fc3142d2e1c",
   "metadata": {
    "tags": []
   },
   "source": [
    "# <span style='color:Green'>  *Aufgabe* <span>\n",
    "Schreiben Sie eine Funktion, welche die ersten beiden Elemente einer Liste ausgibt."
   ]
  },
  {
   "cell_type": "code",
   "execution_count": 2,
   "id": "56315b6f-3930-4d17-b2b1-c165f5421bef",
   "metadata": {},
   "outputs": [],
   "source": [
    "def first_two_elemnts(L):\n",
    "    return L[:2]"
   ]
  },
  {
   "cell_type": "markdown",
   "id": "7f92474e-a00f-4aa1-b8c8-cf8409864252",
   "metadata": {},
   "source": [
    "## Default-Parameter"
   ]
  },
  {
   "cell_type": "code",
   "execution_count": 4,
   "id": "3bffbe61-ee10-4818-a1aa-b13d8a807269",
   "metadata": {},
   "outputs": [
    {
     "ename": "TypeError",
     "evalue": "Volumen() missing 2 required positional arguments: 'hoehe' and 'laenge'",
     "output_type": "error",
     "traceback": [
      "\u001b[1;31m---------------------------------------------------------------------------\u001b[0m",
      "\u001b[1;31mTypeError\u001b[0m                                 Traceback (most recent call last)",
      "Input \u001b[1;32mIn [4]\u001b[0m, in \u001b[0;36m<cell line: 1>\u001b[1;34m()\u001b[0m\n\u001b[1;32m----> 1\u001b[0m \u001b[43mVolumen\u001b[49m\u001b[43m(\u001b[49m\u001b[38;5;241;43m1\u001b[39;49m\u001b[43m)\u001b[49m\n",
      "\u001b[1;31mTypeError\u001b[0m: Volumen() missing 2 required positional arguments: 'hoehe' and 'laenge'"
     ]
    }
   ],
   "source": [
    "volumen(1)"
   ]
  },
  {
   "cell_type": "code",
   "execution_count": 14,
   "id": "ce41843c-8152-4784-b458-e7e8142ee6ef",
   "metadata": {},
   "outputs": [],
   "source": [
    "def volumen(breite, hoehe=0,laenge=0):\n",
    "    V = breite*hoehe*laenge\n",
    "    return V"
   ]
  },
  {
   "cell_type": "code",
   "execution_count": 15,
   "id": "ba77321a-35ff-4a9a-b328-99e628fb6562",
   "metadata": {},
   "outputs": [
    {
     "data": {
      "text/plain": [
       "0"
      ]
     },
     "execution_count": 15,
     "metadata": {},
     "output_type": "execute_result"
    }
   ],
   "source": [
    "volumen(1)"
   ]
  },
  {
   "cell_type": "markdown",
   "id": "ffcf6e32-4364-4411-bfc8-80ee9353fdfd",
   "metadata": {
    "tags": []
   },
   "source": [
    "# Logische Vergleichsoperatoren: ==, >, <, >=, <=, &, |, not, in"
   ]
  },
  {
   "cell_type": "code",
   "execution_count": 48,
   "id": "f08615af-7d30-4f24-aa72-4c7d563d1ff1",
   "metadata": {},
   "outputs": [
    {
     "name": "stdout",
     "output_type": "stream",
     "text": [
      "     a == b:  False\n",
      "     a <  b:  True\n",
      " not(a < b):  False\n",
      " a >= b    :  False\n",
      " a < b &      b < 3  :  True\n",
      " a < b & (not(b < 3)):  False\n",
      " a < b |      b > 3  :  False\n",
      "(a < b) |   (b > 3) :  True\n"
     ]
    }
   ],
   "source": [
    "a = 1\n",
    "b = 2\n",
    "print('     a == b: ', a == b)\n",
    "print('     a <  b: ', a < b)\n",
    "print(' not(a < b): ', not(a < b))\n",
    "print(' a >= b    : ', a >= b)\n",
    "print(' a < b &      b < 3  : ', a < b & b < 3)\n",
    "print(' a < b & (not(b < 3)): ', a < b & (not (b<3)))\n",
    "print(' a < b |      b > 3  : ', a < b | b > 3)\n",
    "print('(a < b) |   (b > 3) : ', (a < b) | (b > 3))"
   ]
  },
  {
   "cell_type": "code",
   "execution_count": 52,
   "id": "288fc2be-1807-400d-82f3-70a050c3a242",
   "metadata": {},
   "outputs": [
    {
     "data": {
      "text/plain": [
       "True"
      ]
     },
     "execution_count": 52,
     "metadata": {},
     "output_type": "execute_result"
    }
   ],
   "source": [
    "l1 = ['a', 1, 2, 3, 1, 'x', None]\n",
    "None in l1"
   ]
  },
  {
   "cell_type": "markdown",
   "id": "688b3e16-4a2f-4fb5-9b95-020dbb329d13",
   "metadata": {},
   "source": [
    "\n",
    "# <span style='color:Green'>  *Aufgabe* <span>\n",
    "Schreiben Sie eine Funktion, die prüft, ob die Argumente a und b vom gleichen Typ sind.def same(a,b):\n",
    "    return type(a) == type(b)"
   ]
  },
  {
   "cell_type": "code",
   "execution_count": 3,
   "id": "95e0cc62-89fa-4721-9c13-442d81deb4eb",
   "metadata": {},
   "outputs": [],
   "source": [
    "def same(a,b):\n",
    "    return type(a) == type(b)"
   ]
  },
  {
   "cell_type": "markdown",
   "id": "d2822b06-e5e6-40e2-998f-ffa28f7c75c9",
   "metadata": {
    "tags": []
   },
   "source": [
    "# If-Else-Anweisung"
   ]
  },
  {
   "cell_type": "code",
   "execution_count": 60,
   "id": "bed4558f-acb9-42ee-aced-ffb4af308ec6",
   "metadata": {},
   "outputs": [
    {
     "name": "stdout",
     "output_type": "stream",
     "text": [
      "Das Volumne wird errechnet.\n"
     ]
    }
   ],
   "source": [
    "hoehe = 1\n",
    "if hoehe == 0:\n",
    "    print('Höhe fehlt. Bitte geb eine Höhe an!')\n",
    "else:\n",
    "    print('Das Volumne wird errechnet.')"
   ]
  },
  {
   "cell_type": "markdown",
   "id": "9ec1b9b1-62eb-411c-9f71-f638727b330f",
   "metadata": {},
   "source": [
    "Zusammenführen mit der vorherigen Funktion und der Funktion `input()`"
   ]
  },
  {
   "cell_type": "code",
   "execution_count": 55,
   "id": "b1120e06-1cda-4d9b-b18a-8e49d8109d58",
   "metadata": {},
   "outputs": [],
   "source": [
    "def Volumen(breite,hoehe = 0,laenge = 0):\n",
    "    if hoehe == 0:\n",
    "        hoehe = int(input('Höhe fehlt. Bitte gib eine positive Höhe an: '))\n",
    "    if laenge == 0:\n",
    "        laenge = int(input('Länge fehlt. Bitte gib eine positive Länge an: '))\n",
    "    V = breite*hoehe*laenge\n",
    "    return V"
   ]
  },
  {
   "cell_type": "code",
   "execution_count": 56,
   "id": "487bd75d-d126-48d2-847b-76c7d435bb2d",
   "metadata": {},
   "outputs": [
    {
     "name": "stdout",
     "output_type": "stream",
     "text": [
      "Länge fehlt. Bitte gib eine positive Länge an:  2\n"
     ]
    },
    {
     "data": {
      "text/plain": [
       "4"
      ]
     },
     "execution_count": 56,
     "metadata": {},
     "output_type": "execute_result"
    }
   ],
   "source": [
    "Volumen(1,2,0)"
   ]
  },
  {
   "cell_type": "code",
   "execution_count": 5,
   "id": "6302d8c7",
   "metadata": {},
   "outputs": [
    {
     "data": {
      "text/plain": [
       "True"
      ]
     },
     "execution_count": 5,
     "metadata": {},
     "output_type": "execute_result"
    }
   ],
   "source": [
    "a = 0\n",
    "b = 1\n",
    "c = 1\n",
    "\n",
    "min([a, b, c]) <= 0"
   ]
  },
  {
   "cell_type": "markdown",
   "id": "244284fe-1ec9-4d21-8d1d-1c8c1d2ca728",
   "metadata": {
    "tags": []
   },
   "source": [
    "\n",
    "# <span style='color:Green'>  *Aufgabe* <span>\n",
    "    \n",
    "Schreiben Sie eine Funktion mit einem Integer als Argument, welche prüft, ob der Integer gerade oder ungerade ist."
   ]
  },
  {
   "cell_type": "code",
   "execution_count": 5,
   "id": "b07f4abe-5816-49c8-a969-5e7615cc42d3",
   "metadata": {},
   "outputs": [],
   "source": [
    "def even_or_odd(i):\n",
    "    if i % 2 == 0:\n",
    "        print(\"even\")\n",
    "    else:\n",
    "        print(\"odd\")"
   ]
  },
  {
   "cell_type": "markdown",
   "id": "161566b6-80b3-4b5b-b9be-506589688a6a",
   "metadata": {
    "tags": []
   },
   "source": [
    "# For-Schleifen"
   ]
  },
  {
   "cell_type": "code",
   "execution_count": 63,
   "id": "abf59a7b-8791-4e5e-94aa-1cf2a65ac3dc",
   "metadata": {},
   "outputs": [
    {
     "name": "stdout",
     "output_type": "stream",
     "text": [
      "[1002, 448, 9374]\n"
     ]
    }
   ],
   "source": [
    "Produktnummern = ['M1002', 'M0448', 'N9237', 'M9374']\n",
    "Liste_M = []\n",
    "\n",
    "for prod in Produktnummern:\n",
    "    if(prod[0] == 'M'): Liste_M.append(int(prod[1:]))\n",
    "    \n",
    "print(Liste_M)"
   ]
  },
  {
   "cell_type": "markdown",
   "id": "52866fd9-8503-4270-86fc-8aa459599806",
   "metadata": {},
   "source": [
    "# <span style='color:Green'>  *Aufgabe* <span>"
   ]
  },
  {
   "cell_type": "markdown",
   "id": "49b84d3a-4b80-4674-9110-1a47535b75e3",
   "metadata": {},
   "source": [
    "Schreiben Sie eine Funktion, die die ersten n (Input) Elemente der FIbonacchi-Folge (0,1,1,2,3,5,8,13,...) ausgibt."
   ]
  },
  {
   "cell_type": "markdown",
   "id": "a7bf87fd-bcfe-49fd-b217-e115f8186e08",
   "metadata": {
    "tags": []
   },
   "source": [
    "   \n",
    "# While-Schleifen"
   ]
  },
  {
   "cell_type": "code",
   "execution_count": 24,
   "id": "0248fdb4-2d68-471a-8a41-5c69c8ecfcbc",
   "metadata": {},
   "outputs": [
    {
     "name": "stdout",
     "output_type": "stream",
     "text": [
      "Spieler 1, gib eine Zahl zwischen 0 und 10 ein:  1\n",
      "Spieler 2, errate die Zahl (zwischen 0 und 10):  2\n",
      "Leider falsch. Versuchen Sie es nochmal: 1\n",
      "Richtig, sie haben die Zahl erraten.\n"
     ]
    }
   ],
   "source": [
    "geheime_zahl = int(input(\"Spieler 1, gib eine Zahl zwischen 0 und 10 ein: \"))\n",
    "rate_zahl = int(input(\"Spieler 2, errate die Zahl (zwischen 0 und 10): \"))\n",
    "\n",
    "while rate_zahl != geheime_zahl:\n",
    "    rate_zahl = int(input(\"Leider falsch. Versuchen Sie es nochmal:\"))    \n",
    "    \n",
    "print(\"Richtig, sie haben die Zahl erraten.\")\n",
    "        \n",
    "# Alternativen mit \"break\" und \"continue\" möglich"
   ]
  },
  {
   "cell_type": "markdown",
   "id": "eae6611b-2bc2-40bc-9214-5847ba962c68",
   "metadata": {},
   "source": [
    "# <span style='color:Green'>  *Aufgabe* <span>\n",
    "    \n",
    "Schreiben Sie eine Funktion \"string_len_5\", welche die Eingabe eines Strings des Nutzers abfragt. Falls der String die Länge 5 hat, gibt die Funktion \"Ihr String ist 5 Zeichen lang!\" aus. Falls der String eine andere Länge hat, gibt die Funktion aus: \"Ihr String hat die falsche Länge. Versuchen Sie es nochmal!\" und fragt erneut nach einen String. Dies geht solange weiter, bis der Nutzer einen String der Länge 5 eingegeben hat."
   ]
  },
  {
   "cell_type": "code",
   "execution_count": null,
   "id": "2878c610-d3b3-4a17-a95f-ac601bcb332c",
   "metadata": {},
   "outputs": [],
   "source": [
    "def string_len_5():\n",
    "    while True:\n",
    "        a = input(\"Geben Sie einen String ein: \")\n",
    "        if len(a) == 5:\n",
    "            print(\"Ihr String hat die Länge 5.\")\n",
    "            break\n",
    "        else:\n",
    "            print(\"Ihr String hat die falsche Länge. Versuchen Sie es nochmal!\")"
   ]
  },
  {
   "cell_type": "code",
   "execution_count": 7,
   "id": "f5602f9c-22fd-4aca-bdd4-63a358c45095",
   "metadata": {},
   "outputs": [],
   "source": [
    "#alteratvie: \n",
    "\n",
    "def string_len_5():\n",
    "    a = input(\"Geben Sie einen String ein: \")\n",
    "    while len(a) != 5:\n",
    "        print(\"Ihr String hat die falsche Länge. Versuchen Sie es nochmal!\")\n",
    "    print(\"Ihr String hat die Länge 5.\")"
   ]
  },
  {
   "cell_type": "markdown",
   "id": "83546896-99e7-4620-8c85-496ff8362c2a",
   "metadata": {
    "tags": []
   },
   "source": [
    "# Classes, its Attributes and Methods"
   ]
  },
  {
   "cell_type": "code",
   "execution_count": 259,
   "id": "cb5ae087-e111-4b87-888b-7d2d56683ac7",
   "metadata": {},
   "outputs": [],
   "source": [
    "class Box: \n",
    "    def __init__(self, height, width, depth, color, closed):\n",
    "        self.height = height\n",
    "        self.width = width\n",
    "        self.depth = depth\n",
    "        self.color = color\n",
    "        self.closed = closed\n",
    "        \n",
    "    def volume(self):\n",
    "        print(\"Volume is\", self.height*self.width*self.depth)\n",
    "        \n",
    "    def increase_height(self, h):\n",
    "        self.height = self.height + h\n",
    "        "
   ]
  },
  {
   "cell_type": "code",
   "execution_count": 260,
   "id": "a7b5b7f1-a55f-4241-80d8-0843688ad057",
   "metadata": {},
   "outputs": [],
   "source": [
    "geschenk = Box(1,2,3, 'red', True)\n",
    "aquarium = Box(30,50,20, 'transparent', False)"
   ]
  },
  {
   "cell_type": "code",
   "execution_count": 261,
   "id": "293b787b-413d-4e60-9e69-f6276af4fad9",
   "metadata": {},
   "outputs": [
    {
     "name": "stdout",
     "output_type": "stream",
     "text": [
      "Volume is 6\n"
     ]
    }
   ],
   "source": [
    "geschenk.volume()"
   ]
  },
  {
   "cell_type": "code",
   "execution_count": 263,
   "id": "bb0fb98a-56ee-40a2-b895-a583cd19ca42",
   "metadata": {},
   "outputs": [],
   "source": [
    "geschenk.increase_height(2)"
   ]
  },
  {
   "cell_type": "code",
   "execution_count": 265,
   "id": "0bfe72e6-a0fc-4138-933e-3ee82614418e",
   "metadata": {},
   "outputs": [
    {
     "name": "stdout",
     "output_type": "stream",
     "text": [
      "3\n",
      "Volume is 18\n"
     ]
    }
   ],
   "source": [
    "print(geschenk.height)\n",
    "geschenk.volume()"
   ]
  },
  {
   "cell_type": "markdown",
   "id": "183e474f-f4a4-4761-bde3-a6bc1c7d6be9",
   "metadata": {},
   "source": [
    "# <span style='color:Green'>  *Aufgabe* <span>\n",
    "    \n",
    "Erstellen Sie eine Klasse `Human`, die die Instanzattribute `name`, `age`, `gender` und `height` hat, die als Parameter angegeben werden. Denken Sie daran, die Funktion `__init__` und das Attribut `self` zu verwenden. Nachdem Sie die Klasse erstellt haben, erstellen Sie eine Instanz mit dem Namen `person_1` mit Eingaben Ihrer Wahl für `name: str`, `age: int`, `gender: str`, `height: float` (in Metern)"
   ]
  },
  {
   "cell_type": "code",
   "execution_count": 11,
   "id": "fed254c4-1e97-4d38-8412-e078bd6e9ef8",
   "metadata": {},
   "outputs": [],
   "source": [
    "class Human:\n",
    "    def __init__(self, name, age, gender, height):\n",
    "        self.name = name\n",
    "        self.age = age\n",
    "        self.gender = gender\n",
    "        self.height = height\n"
   ]
  },
  {
   "cell_type": "code",
   "execution_count": 13,
   "id": "d04d7f1b-bb5a-4016-84f3-f22750d28e1f",
   "metadata": {},
   "outputs": [
    {
     "name": "stdout",
     "output_type": "stream",
     "text": [
      "<__main__.Human object at 0x000001F158FA78E0>\n"
     ]
    }
   ],
   "source": [
    "person_1 = Human('Tobias', 28, 'm', 1.74)\n",
    "print(person_1)"
   ]
  },
  {
   "cell_type": "markdown",
   "id": "b30b6383-f1cd-4218-8056-1c0a04c8c092",
   "metadata": {},
   "source": [
    "Fügen Sie nun der Klasse `Human` eine (Objekt-)Methode `introduce` hinzu, die beim Aufruf eine kurze Einleitung der Form \"Hello my name is {name}\" ausgibt. Rufen Sie sie bei `person_1` auf und vergessen Sie nicht, `person_1` wieder zu initialisieren, jetzt, wo Sie eine Methode hinzugefügt haben."
   ]
  },
  {
   "cell_type": "code",
   "execution_count": 17,
   "id": "03d82690-67bd-43b4-aafb-9ec8eb3d42af",
   "metadata": {},
   "outputs": [],
   "source": [
    "class Human:\n",
    "    def __init__(self, name, age, gender, height):\n",
    "        self.name = name\n",
    "        self.age = age\n",
    "        self.gender = gender\n",
    "        self.height = height\n",
    "\n",
    "    def introduce(self):\n",
    "        print(f'Hello my name is {self.name}')"
   ]
  },
  {
   "cell_type": "code",
   "execution_count": 18,
   "id": "1116f353-6dd2-4585-8f68-0481638f6136",
   "metadata": {},
   "outputs": [
    {
     "name": "stdout",
     "output_type": "stream",
     "text": [
      "Hello my name is Tobias\n"
     ]
    }
   ],
   "source": [
    "person_1 = Human('Tobias', 28, 'm', 1.74)\n",
    "person_1.introduce()"
   ]
  },
  {
   "cell_type": "markdown",
   "id": "dc6d00e4-13c6-4d62-8bff-8dad03edff3e",
   "metadata": {},
   "source": [
    "**Bonus:** With the next method, we want to enable the user to create a Human object when given the year of birth instead of the actual age.\n",
    "So create a classmethod `from_birth_year` that takes the same parameters but instead of age takes birth_year as input and returns a new class object. Calling the method on `Human`, create a `person_2` by using birthyear as input. To get the current year you can use the datetime module."
   ]
  },
  {
   "cell_type": "code",
   "execution_count": 20,
   "id": "9d0e56f1-8160-4f8d-b6c7-76fc76e4b92b",
   "metadata": {},
   "outputs": [],
   "source": [
    "import datetime"
   ]
  },
  {
   "cell_type": "code",
   "execution_count": 22,
   "id": "6f4c3e0d-19a9-4d16-a89e-777da2dc0539",
   "metadata": {},
   "outputs": [],
   "source": [
    "class Human:\n",
    "    def __init__(self, name, age, gender, height):\n",
    "        self.name = name\n",
    "        self.age = age\n",
    "        self.gender = gender\n",
    "        self.height = height\n",
    "\n",
    "    def introduce(self):\n",
    "        print(f'Hello my name is {self.name}') \n",
    "\n",
    "    def __str__(self):\n",
    "        return f\"name: {self.name}, age: {self.age}, gender: {self.gender}, height: {self.height}\"\n",
    "\n",
    "    @classmethod\n",
    "    def from_birth_year(cls, name, birth_year, gender, height):\n",
    "        return cls(name, datetime.date.today().year - birth_year, gender, height)"
   ]
  },
  {
   "cell_type": "code",
   "execution_count": 23,
   "id": "c3705488-30dc-447c-afe4-db28038197b1",
   "metadata": {},
   "outputs": [
    {
     "name": "stdout",
     "output_type": "stream",
     "text": [
      "name: Helen, age: 26, gender: f, height: 1.57\n"
     ]
    }
   ],
   "source": [
    "person_2 = Human.from_birth_year('Helen', 1996, 'f', '1.57')\n",
    "print(person_2)"
   ]
  }
 ],
 "metadata": {
  "kernelspec": {
   "display_name": "Python 3 (ipykernel)",
   "language": "python",
   "name": "python3"
  },
  "language_info": {
   "codemirror_mode": {
    "name": "ipython",
    "version": 3
   },
   "file_extension": ".py",
   "mimetype": "text/x-python",
   "name": "python",
   "nbconvert_exporter": "python",
   "pygments_lexer": "ipython3",
   "version": "3.10.8"
  }
 },
 "nbformat": 4,
 "nbformat_minor": 5
}

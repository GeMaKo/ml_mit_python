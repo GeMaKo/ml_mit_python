{
 "cells": [
  {
   "cell_type": "code",
   "execution_count": 1,
   "id": "c24772a1-6188-474d-a038-cf70c357b647",
   "metadata": {},
   "outputs": [],
   "source": [
    "import pandas as pd\n",
    "import seaborn as sns"
   ]
  },
  {
   "cell_type": "code",
   "execution_count": 2,
   "id": "0d419818-56be-463b-b174-2206af0b5fe9",
   "metadata": {},
   "outputs": [],
   "source": [
    "# Lade Datenset\n",
    "taxis_df = sns.load_dataset('taxis')"
   ]
  },
  {
   "cell_type": "markdown",
   "id": "56954af3-2086-4d43-af2e-66c0fdeedf17",
   "metadata": {},
   "source": [
    "# Löschen von Zeilen und Spalten im DataFrame"
   ]
  },
  {
   "cell_type": "markdown",
   "id": "90017cc4-8f43-44f6-9126-33aa53958edb",
   "metadata": {},
   "source": [
    "## Spalten"
   ]
  },
  {
   "cell_type": "markdown",
   "id": "1b8fc0b2-916e-47ed-94a6-8e131cbe6159",
   "metadata": {},
   "source": [
    "## Zeilen"
   ]
  },
  {
   "cell_type": "markdown",
   "id": "9cec5b31-2fb1-4972-b24f-b68ad8c2b889",
   "metadata": {},
   "source": [
    "# DataFrame-Methoden: Spaltennamen ändern, Werte ersetzen, sortieren, gruppieren, Zufallszeile, Pivottabelle"
   ]
  },
  {
   "cell_type": "markdown",
   "id": "aabe0e43-ade9-4e99-9cb1-6776d30be4c9",
   "metadata": {},
   "source": [
    "## Spaltennamen ändern"
   ]
  },
  {
   "cell_type": "markdown",
   "id": "2fbc416e-b88d-4a14-bc2e-e3b7b883c000",
   "metadata": {},
   "source": [
    "## Werte ersetze"
   ]
  },
  {
   "cell_type": "markdown",
   "id": "14a2cc9d-f83c-463b-b370-2734445d4609",
   "metadata": {},
   "source": [
    "## Sortieren"
   ]
  },
  {
   "cell_type": "markdown",
   "id": "49c4c320-c1a2-4742-83ca-3084b31e0648",
   "metadata": {},
   "source": [
    "## Gruppieren"
   ]
  },
  {
   "cell_type": "markdown",
   "id": "8e19ec5b-1188-4274-bc55-fbd9ba4aa0f7",
   "metadata": {
    "tags": []
   },
   "source": [
    "## Pivottabelle und Melting"
   ]
  },
  {
   "cell_type": "markdown",
   "id": "237b1b08-a3ee-44f8-b00f-12fabb3c9e8c",
   "metadata": {},
   "source": [
    "### Melting"
   ]
  },
  {
   "cell_type": "markdown",
   "id": "d67dc4b1-c56a-4c6c-8610-e50243680691",
   "metadata": {},
   "source": [
    "### Pvotisieren"
   ]
  },
  {
   "cell_type": "markdown",
   "id": "aeeedac5-6453-4a99-b691-e6fdeb4be952",
   "metadata": {
    "tags": []
   },
   "source": [
    "## Zufallszeile"
   ]
  },
  {
   "cell_type": "markdown",
   "id": "f326c279-34ab-452a-8579-ada34a805feb",
   "metadata": {},
   "source": [
    "# Initiale Visualisierungen mit Pandas"
   ]
  }
 ],
 "metadata": {
  "kernelspec": {
   "display_name": "Python 3 (ipykernel)",
   "language": "python",
   "name": "python3"
  },
  "language_info": {
   "codemirror_mode": {
    "name": "ipython",
    "version": 3
   },
   "file_extension": ".py",
   "mimetype": "text/x-python",
   "name": "python",
   "nbconvert_exporter": "python",
   "pygments_lexer": "ipython3",
   "version": "3.10.4"
  }
 },
 "nbformat": 4,
 "nbformat_minor": 5
}

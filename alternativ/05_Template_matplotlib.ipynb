{
 "cells": [
  {
   "cell_type": "markdown",
   "id": "19abacff-1087-4767-a546-fb41d70e87b2",
   "metadata": {},
   "source": [
    "Lade pandas, seaborn und  matplotlib.pyplot als plt."
   ]
  },
  {
   "cell_type": "code",
   "execution_count": 8,
   "id": "513451c2-fa94-4877-b101-c4bab0928619",
   "metadata": {},
   "outputs": [],
   "source": [
    "# increase general font size of plot labels\n",
    "plt.rcParams.update({'font.size': 14})"
   ]
  },
  {
   "cell_type": "markdown",
   "id": "dcbe6805-90a9-4b95-8bbe-85dccb430672",
   "metadata": {
    "tags": []
   },
   "source": [
    "# Lade Beispieldatenset"
   ]
  },
  {
   "cell_type": "code",
   "execution_count": 1,
   "id": "c11401f3-eb59-482d-889c-10afb46342f1",
   "metadata": {},
   "outputs": [],
   "source": [
    "# Lade Datenset 'taxis' aus seaborn"
   ]
  },
  {
   "cell_type": "markdown",
   "id": "a298491f-c821-4046-9d53-02b04e401236",
   "metadata": {},
   "source": [
    "**Plotting Workflow**\n",
    "1. Prepare Data: Nehmen wir an, die Daten sind vorbereitet.\n",
    "2. Create Plot \n",
    "3. Plot \n",
    "4. Customized Plot \n",
    "5. Save Plot \n",
    "6. Show Plot\n",
    "\n",
    "*Weitere Cheat Sheets auf unterschiedlichen Niveaus: https://matplotlib.org/cheatsheets/*"
   ]
  },
  {
   "cell_type": "markdown",
   "id": "3b37a2aa-1212-446b-b8bd-a5e13968d4f0",
   "metadata": {
    "tags": []
   },
   "source": [
    "# Histogram Plot"
   ]
  },
  {
   "cell_type": "markdown",
   "id": "ffb66865-cb26-4736-9329-1cebcbebf71c",
   "metadata": {},
   "source": [
    "# <span style='color:Green'> *Aufgaben:* Density Plot  <span>"
   ]
  },
  {
   "cell_type": "markdown",
   "id": "ee4a4e14-289b-49e7-88c5-5f7fb93085bf",
   "metadata": {
    "tags": []
   },
   "source": [
    "# Barplot"
   ]
  },
  {
   "cell_type": "markdown",
   "id": "5615ab87-d987-4ba8-b2ef-b6598e9639df",
   "metadata": {
    "tags": []
   },
   "source": [
    "# <span style='color:Green'> *Aufgaben:* Boxplot  <span>\n",
    "    \n",
    "Z.B. total ($) nach color."
   ]
  },
  {
   "cell_type": "markdown",
   "id": "ebe9a728-f15c-42a6-8a1e-a417d5b5a60e",
   "metadata": {},
   "source": [
    "# Subplots"
   ]
  },
  {
   "cell_type": "markdown",
   "id": "d87cdd2f-fb00-4df9-8e68-cb488b7b1a54",
   "metadata": {},
   "source": [
    "# <span style='color:Green'> *Aufgaben:* Scatter Plot  <span>"
   ]
  },
  {
   "cell_type": "markdown",
   "id": "5f2568a3-d5cd-4868-833c-9a23ba1094df",
   "metadata": {
    "tags": []
   },
   "source": [
    "# <span style='color:Green'> *Aufgaben:* Line Plot  <span>\n",
    "    \n",
    "Hinweis: Nutze die vorbereiten DataFrames und stelle die tägliche Anzahl der Pickups (oder Dropoffs) dar."
   ]
  },
  {
   "cell_type": "code",
   "execution_count": 190,
   "id": "9f8c3984-5644-4c04-b0f9-f8fccba72b9b",
   "metadata": {},
   "outputs": [],
   "source": [
    "# 1. Prepare Data\n",
    "taxis_df['pickup_date'] = pd.to_datetime(taxis_df['pickup']).dt.date\n",
    "pickups_by_day = taxis_df['pickup_date'].value_counts().sort_index()\n",
    "#pickups_by_day\n",
    "\n",
    "taxis_df['dropoff_date'] = pd.to_datetime(taxis_df['dropoff']).dt.date\n",
    "dropoff_by_day = taxis_df['dropoff_date'].value_counts().sort_index()\n",
    "#dropoff_by_day"
   ]
  }
 ],
 "metadata": {
  "kernelspec": {
   "display_name": "Python 3 (ipykernel)",
   "language": "python",
   "name": "python3"
  },
  "language_info": {
   "codemirror_mode": {
    "name": "ipython",
    "version": 3
   },
   "file_extension": ".py",
   "mimetype": "text/x-python",
   "name": "python",
   "nbconvert_exporter": "python",
   "pygments_lexer": "ipython3",
   "version": "3.10.4"
  }
 },
 "nbformat": 4,
 "nbformat_minor": 5
}

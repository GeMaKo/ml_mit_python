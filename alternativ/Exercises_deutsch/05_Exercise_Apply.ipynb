{
 "cells": [
  {
   "cell_type": "markdown",
   "metadata": {},
   "source": [
    "# 05 - Apply \n",
    "Daten: Student Alcohol Consumption"
   ]
  },
  {
   "cell_type": "markdown",
   "metadata": {},
   "source": [
    "Dieses Mal werden die Daten vom UCI Repository heruntergeladen.\n",
    "\n",
    "### Step 1. Importiere die notwendigen Pakete."
   ]
  },
  {
   "cell_type": "markdown",
   "metadata": {},
   "source": [
    "### Step 2. Importiere die Dante von folgender [Adresse](https://raw.githubusercontent.com/guipsamora/pandas_exercises/master/04_Apply/Students_Alcohol_Consumption/student-mat.csv)."
   ]
  },
  {
   "cell_type": "markdown",
   "metadata": {},
   "source": [
    "### Step 3. Nenne das Datenset df."
   ]
  },
  {
   "cell_type": "markdown",
   "metadata": {},
   "source": [
    "### Step 4. Betrachte im Folgenden nur noch den Dateframe bezüglich der Spalten 'school' bis 'guardian'."
   ]
  },
  {
   "cell_type": "markdown",
   "metadata": {},
   "source": [
    "### Step 5. Generiere eine lambda Funktion die Zeichenketten am Anfang groß schreibt (capitalizes)."
   ]
  },
  {
   "cell_type": "markdown",
   "metadata": {},
   "source": [
    "### Step 6. Schreibe Mjob und Fjob am Anfang jeder Zeichenkette groß."
   ]
  },
  {
   "cell_type": "markdown",
   "metadata": {},
   "source": [
    "### Step 7. Gebe die letzten 3 Zeilen des Datensatzes aus."
   ]
  },
  {
   "cell_type": "markdown",
   "metadata": {},
   "source": [
    "### Step 8. Falls im Datensatz selbst die Spalten Mjob und Fjob weiterhin kleingeschrieben sind, überlege warum und korrigiere es."
   ]
  },
  {
   "cell_type": "markdown",
   "metadata": {},
   "source": [
    "### Step 9. Generiere eine Funktion mit dem Namen majority, die eine neue Spalte legal_drinker generiert, welche aus Wahrheitswerten besteht. (Betrachte 18 als das Mindestalter.)"
   ]
  },
  {
   "cell_type": "markdown",
   "metadata": {},
   "source": [
    "### Step 10. Multipliziere jede Zahl im Datenset mit 10. \n",
    "##### Ja, es macht keinen Sinn, aber wir übern ja hier nur."
   ]
  }
 ],
 "metadata": {
  "anaconda-cloud": {},
  "kernelspec": {
   "display_name": "Python 3 (ipykernel)",
   "language": "python",
   "name": "python3"
  },
  "language_info": {
   "codemirror_mode": {
    "name": "ipython",
    "version": 3
   },
   "file_extension": ".py",
   "mimetype": "text/x-python",
   "name": "python",
   "nbconvert_exporter": "python",
   "pygments_lexer": "ipython3",
   "version": "3.10.4"
  }
 },
 "nbformat": 4,
 "nbformat_minor": 4
}

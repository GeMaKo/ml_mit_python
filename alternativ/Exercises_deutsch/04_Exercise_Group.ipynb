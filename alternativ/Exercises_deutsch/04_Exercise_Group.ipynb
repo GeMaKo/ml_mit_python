{
 "cells": [
  {
   "cell_type": "markdown",
   "metadata": {},
   "source": [
    "# 04 - GroupBy"
   ]
  },
  {
   "cell_type": "markdown",
   "metadata": {},
   "source": [
    "Danke an https://github.com/justmarkham für die Bereitstellung der Materialien.\n",
    "\n",
    "Sieh dir das zur Wiederholung an: [Diagram](http://i.imgur.com/yjNkiwL.png)  \n",
    "### Step 1. Importiere die notwendigen Bibliotheken."
   ]
  },
  {
   "cell_type": "markdown",
   "metadata": {},
   "source": [
    "### Step 2. Importiere das Datenset von folgender [Adresse](https://raw.githubusercontent.com/justmarkham/DAT8/master/data/drinks.csv). "
   ]
  },
  {
   "cell_type": "markdown",
   "metadata": {},
   "source": [
    "### Step 3. Nenne das Datenset drinks."
   ]
  },
  {
   "cell_type": "markdown",
   "metadata": {},
   "source": [
    "### Step 4. Auf welchem Kontinent wird durchschnittlich das meiste Bier serviert?"
   ]
  },
  {
   "cell_type": "markdown",
   "metadata": {},
   "source": [
    "### Step 5. Gebe für jeden Kontinent Statistiken über den Weinkonsum aus."
   ]
  },
  {
   "cell_type": "markdown",
   "metadata": {},
   "source": [
    "### Step 6. Gebe für jede Alkoholika den durchschnittlichen Konsum pro Kontinent aus."
   ]
  },
  {
   "cell_type": "markdown",
   "metadata": {},
   "source": [
    "### Step 7. Gebe für jede Alkoholika den Medium-Konsum pro Kontinent aus."
   ]
  },
  {
   "cell_type": "markdown",
   "metadata": {},
   "source": [
    "### Step 8. Gebe den durchschnittlichen, minimalen und maximalen Spirituosenkonsum aus.\n",
    "#### Gebe dies als Dataframe aus."
   ]
  }
 ],
 "metadata": {
  "kernelspec": {
   "display_name": "Python 3 (ipykernel)",
   "language": "python",
   "name": "python3"
  },
  "language_info": {
   "codemirror_mode": {
    "name": "ipython",
    "version": 3
   },
   "file_extension": ".py",
   "mimetype": "text/x-python",
   "name": "python",
   "nbconvert_exporter": "python",
   "pygments_lexer": "ipython3",
   "version": "3.10.4"
  }
 },
 "nbformat": 4,
 "nbformat_minor": 4
}

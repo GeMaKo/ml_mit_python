{
 "cells": [
  {
   "cell_type": "markdown",
   "id": "8bf9bfe8-705a-45fa-8108-0ac0af238525",
   "metadata": {},
   "source": [
    "# Notwendige Pakete"
   ]
  },
  {
   "cell_type": "code",
   "execution_count": 2,
   "id": "3a174161-abdb-4fef-adb5-10049d37cb91",
   "metadata": {},
   "outputs": [],
   "source": [
    "import pandas as pd\n",
    "import seaborn as sns\n",
    "import numpy as np\n",
    "import matplotlib.pyplot as plt\n"
   ]
  },
  {
   "cell_type": "markdown",
   "id": "7bbb9573-ef04-4ce8-8e15-32ad45bbe489",
   "metadata": {},
   "source": [
    "# Hintergrundinformationen\n",
    "\n",
    "Bike-Sharing-Systeme sind ein Mittel zum Mieten von Fahrrädern, bei denen der Prozess der Mitgliedschaft, des Verleihs und der Fahrradrückgabe über ein Netzwerk von Kioskstandorten in der ganzen Stadt automatisiert wird. Mit diesen Systemen können Menschen ein Fahrrad an einem Ort mieten und es bei Bedarf an einem anderen Ort zurückgeben. Derzeit gibt es weltweit über 500 Bike-Sharing-Programme.\n",
    "\n",
    "Die von diesen Systemen generierten Daten machen sie für Forscher attraktiv, da Reisedauer, Abfahrtsort, Ankunftsort und verstrichene Zeit explizit erfasst werden. Bike-Sharing-Systeme fungieren somit als Sensornetzwerk, mit dem die Mobilität in einer Stadt untersucht werden kann. Bei diesem Wettbewerb werden die Teilnehmer gebeten, historische Nutzungsmuster mit Wetterdaten zu kombinieren, um die Fahrradmietnachfrage im Rahmen des Capital Bikeshare-Programms in Washington, DC, zu prognostizieren.\n",
    "\n",
    "http://archive.ics.uci.edu/ml/datasets/Seoul+Bike+Sharing+Demand\n",
    "\n",
    "\n",
    "## Variable Explanations\n",
    "\n",
    "| Variable |Explanation |\n",
    "| --- | --- |\n",
    "| Date | year-month-day |\n",
    "|Rented Bike count | Count of bikes rented at each hour |\n",
    "| Hour | Hour of the day |\n",
    "| Temperature | Temperature in Celsius |\n",
    "| Humidity | % |\n",
    "| Windspeed | m/s |\n",
    "| Visibility | 10m |\n",
    "| Dew point temperature | Celsius |\n",
    "| Solar radiation | MJ/m2 |\n",
    "| Rainfall | mm |\n",
    "| Snowfall | cm |\n",
    "| Seasons | Winter, Spring, Summer, Autumn |\n",
    "| Holiday | Holiday/No holiday |\n",
    "| Functional Day | NoFunc(Non Functional Hours), Fun(Functional hours) |\n",
    "\n"
   ]
  },
  {
   "cell_type": "markdown",
   "id": "02f3cc16-b6c0-4ae0-bf03-07076733eea1",
   "metadata": {
    "tags": []
   },
   "source": [
    "# Daten einlesen"
   ]
  },
  {
   "cell_type": "markdown",
   "id": "6554ceaf-afed-4bbe-b3fc-95d2be49481d",
   "metadata": {},
   "source": [
    "# Daten-Verständnis"
   ]
  },
  {
   "cell_type": "markdown",
   "id": "676602d9-ed70-456e-b7fc-8b982897ffd5",
   "metadata": {},
   "source": [
    "**Frage:** Warum gucken wir uns das an? (count, min, max, mean vs. median, std)"
   ]
  },
  {
   "cell_type": "markdown",
   "id": "89397d09-2801-4261-9491-c7aaa35815b6",
   "metadata": {},
   "source": [
    "**Frage:** Was fällt uns auf? (Hour, Snowfall)"
   ]
  },
  {
   "cell_type": "markdown",
   "id": "447d875e-d9c9-4b16-b852-af36287d276d",
   "metadata": {},
   "source": [
    "## Visualisierung einzelner Größen\n"
   ]
  },
  {
   "cell_type": "markdown",
   "id": "9eb1d50f-e609-4cb8-b852-0749bfe7c29f",
   "metadata": {
    "tags": []
   },
   "source": [
    "### Numerische Größen gegen die Zeit plotten"
   ]
  },
  {
   "cell_type": "markdown",
   "id": "fb331ab1-7bed-4d3b-a257-1814c1dab5fe",
   "metadata": {},
   "source": [
    "### Target"
   ]
  },
  {
   "cell_type": "markdown",
   "id": "a704de1f-ab38-4cbf-9dc8-d0a4d781943b",
   "metadata": {},
   "source": [
    "### Pairplot: Target vs. Numerische Größen"
   ]
  },
  {
   "cell_type": "markdown",
   "id": "2aa2951e-f210-488b-90af-0cf94058ab2f",
   "metadata": {},
   "source": [
    "### Kategorische Größen"
   ]
  },
  {
   "cell_type": "markdown",
   "id": "903b0503-de41-4ffb-b223-bf5628ce36e9",
   "metadata": {},
   "source": [
    "### Target in unterschiedlichen Kategorien"
   ]
  },
  {
   "cell_type": "markdown",
   "id": "1936aa38-8cd1-4e99-a102-032d3bd96b69",
   "metadata": {},
   "source": [
    "**Aufgabe:** Finde mittels Visualisierung heraus, ob die Season mit der Anzahl ausgeliehener Farräder korreliert!"
   ]
  },
  {
   "cell_type": "markdown",
   "id": "ef83ff15-a564-41ce-9593-cf8edb527d53",
   "metadata": {},
   "source": [
    "**Aufgabe:** Finde mittels Visualisierung heraus, ob die Stunde mit der Anzahl ausgeliehener Farräder korreliert!"
   ]
  },
  {
   "cell_type": "markdown",
   "id": "cb79c45a-7dab-460c-8529-7e13e96a7b44",
   "metadata": {},
   "source": [
    "**Aufgabe:** Überprüfe die lineare Korrelation potentieller erklärender Variablen untereinander und mit der Anzahl ausgeliehener Farräder!"
   ]
  },
  {
   "cell_type": "markdown",
   "id": "8273a5e6-f887-421f-abbc-5f099597c60a",
   "metadata": {},
   "source": [
    "**Aufgabe:** Gehe die weiteren numrischen Größen druch und plotte sie gegen die Anzahl ausgeliehener Fahrräder."
   ]
  },
  {
   "cell_type": "markdown",
   "id": "0e522dab-e603-487e-adbe-88acfb0b0e82",
   "metadata": {
    "tags": []
   },
   "source": [
    "# Feature Engineering"
   ]
  },
  {
   "cell_type": "markdown",
   "id": "236a2573-edaa-4335-9af6-838c65e7ed69",
   "metadata": {},
   "source": [
    "## One-hot encoding"
   ]
  },
  {
   "cell_type": "markdown",
   "id": "ac2a809b-b7b1-4c3b-b4c8-698ac491f5e4",
   "metadata": {},
   "source": [
    "# Setup an ML Pipeline"
   ]
  },
  {
   "cell_type": "markdown",
   "id": "c756137d-e4d4-45b9-896c-b27a10d23c68",
   "metadata": {},
   "source": [
    "## Transform and Scale"
   ]
  },
  {
   "cell_type": "markdown",
   "id": "6b6e5544-850d-4727-a208-e2d7476462b9",
   "metadata": {},
   "source": [
    "## Split, Train, Test and Evaluate"
   ]
  },
  {
   "cell_type": "markdown",
   "id": "48c1bb62-964c-4b1d-89fc-73d84191e5b0",
   "metadata": {},
   "source": [
    "## Other Model: Gradient Boosting Tree"
   ]
  },
  {
   "cell_type": "markdown",
   "id": "0ac987ac-ce8f-478e-8f1e-93f95168ef3d",
   "metadata": {},
   "source": [
    "## Other Model: Decision Tree"
   ]
  },
  {
   "cell_type": "markdown",
   "id": "0baa919f-f2ee-404f-9ca9-74710a99adff",
   "metadata": {},
   "source": [
    "# Visualize Model Fit"
   ]
  }
 ],
 "metadata": {
  "kernelspec": {
   "display_name": "Python 3 (ipykernel)",
   "language": "python",
   "name": "python3"
  },
  "language_info": {
   "codemirror_mode": {
    "name": "ipython",
    "version": 3
   },
   "file_extension": ".py",
   "mimetype": "text/x-python",
   "name": "python",
   "nbconvert_exporter": "python",
   "pygments_lexer": "ipython3",
   "version": "3.10.8"
  }
 },
 "nbformat": 4,
 "nbformat_minor": 5
}

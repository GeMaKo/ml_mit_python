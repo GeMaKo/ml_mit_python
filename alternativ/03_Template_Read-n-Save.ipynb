{
 "cells": [
  {
   "cell_type": "markdown",
   "id": "bfc9d2d4-991a-4bf8-b3f0-ac67017178e5",
   "metadata": {},
   "source": [
    "# Daten einlesen"
   ]
  },
  {
   "cell_type": "markdown",
   "id": "f77b45cf-e617-42b2-8a68-527bd15636e6",
   "metadata": {},
   "source": [
    "## Zum Verzeichnis Navigieren"
   ]
  },
  {
   "cell_type": "markdown",
   "id": "89851fba-54dd-45f8-8791-74cf0e1e5293",
   "metadata": {},
   "source": [
    "## Daten, die in Paketen geliefert werden\n"
   ]
  },
  {
   "cell_type": "markdown",
   "id": "b4002038-ec4b-4c0c-afef-ef70bc51ace5",
   "metadata": {},
   "source": [
    "## Daten speichern"
   ]
  },
  {
   "cell_type": "markdown",
   "id": "569eecbe-7b49-4e81-b04c-ed38d159c3fe",
   "metadata": {},
   "source": [
    "### Als Csv"
   ]
  },
  {
   "cell_type": "markdown",
   "id": "6ea14014-c2fc-4b0f-899c-4b7d9f6c3936",
   "metadata": {},
   "source": [
    "### <span style='color:Green'> *Aufgabe*: Als Excel  <span> "
   ]
  },
  {
   "cell_type": "markdown",
   "id": "66fef7e0-1d9b-4d35-85b0-7ad08dc2bb24",
   "metadata": {},
   "source": [
    "### Mit Pickle"
   ]
  },
  {
   "cell_type": "markdown",
   "id": "57660200-ea59-4c10-83b2-90108a184d0c",
   "metadata": {},
   "source": [
    "## Daten lesen"
   ]
  },
  {
   "cell_type": "markdown",
   "id": "0da7b8b5-245b-45c4-95cf-944970bc0fd2",
   "metadata": {},
   "source": [
    "### Als csv"
   ]
  },
  {
   "cell_type": "markdown",
   "id": "9412637c-1d5b-41d2-bd75-6fafb81c40bc",
   "metadata": {},
   "source": [
    "### <span style='color:Green'> *Aufgaben*: Als Excel  <span> "
   ]
  },
  {
   "cell_type": "markdown",
   "id": "c28f8921-5b1e-4edf-a893-4a191063842a",
   "metadata": {},
   "source": [
    "### Mit pickle"
   ]
  }
 ],
 "metadata": {
  "kernelspec": {
   "display_name": "Python 3 (ipykernel)",
   "language": "python",
   "name": "python3"
  },
  "language_info": {
   "codemirror_mode": {
    "name": "ipython",
    "version": 3
   },
   "file_extension": ".py",
   "mimetype": "text/x-python",
   "name": "python",
   "nbconvert_exporter": "python",
   "pygments_lexer": "ipython3",
   "version": "3.10.4"
  }
 },
 "nbformat": 4,
 "nbformat_minor": 5
}
